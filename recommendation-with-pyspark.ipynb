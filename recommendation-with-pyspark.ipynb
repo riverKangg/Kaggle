{
 "cells": [
  {
   "cell_type": "code",
   "execution_count": 1,
   "id": "7b231333",
   "metadata": {
    "_cell_guid": "b1076dfc-b9ad-4769-8c92-a6c4dae69d19",
    "_uuid": "8f2839f25d086af736a60e9eeb907d3b93b6e0e5",
    "execution": {
     "iopub.execute_input": "2022-03-23T22:56:12.233277Z",
     "iopub.status.busy": "2022-03-23T22:56:12.232716Z",
     "iopub.status.idle": "2022-03-23T22:56:50.614115Z",
     "shell.execute_reply": "2022-03-23T22:56:50.613484Z",
     "shell.execute_reply.started": "2022-03-23T20:40:40.084838Z"
    },
    "papermill": {
     "duration": 38.421754,
     "end_time": "2022-03-23T22:56:50.614257",
     "exception": false,
     "start_time": "2022-03-23T22:56:12.192503",
     "status": "completed"
    },
    "tags": []
   },
   "outputs": [
    {
     "name": "stdout",
     "output_type": "stream",
     "text": [
      "Collecting pyspark\r\n",
      "  Downloading pyspark-3.2.1.tar.gz (281.4 MB)\r\n",
      "     |████████████████████████████████| 281.4 MB 41 kB/s              \r\n",
      "\u001b[?25h  Preparing metadata (setup.py) ... \u001b[?25l-\b \bdone\r\n",
      "\u001b[?25hCollecting py4j==0.10.9.3\r\n",
      "  Downloading py4j-0.10.9.3-py2.py3-none-any.whl (198 kB)\r\n",
      "     |████████████████████████████████| 198 kB 3.0 MB/s            \r\n",
      "\u001b[?25hBuilding wheels for collected packages: pyspark\r\n",
      "  Building wheel for pyspark (setup.py) ... \u001b[?25l-\b \b\\\b \b|\b \b/\b \b-\b \b\\\b \b|\b \b/\b \b-\b \b\\\b \b|\b \b/\b \b-\b \b\\\b \b|\b \b/\b \b-\b \b\\\b \b|\b \b/\b \b-\b \b\\\b \b|\b \b/\b \b-\b \b\\\b \b|\b \b/\b \b-\b \b\\\b \b|\b \b/\b \b-\b \b\\\b \b|\b \b/\b \b-\b \b\\\b \b|\b \b/\b \b-\b \b\\\b \b|\b \b/\b \b-\b \b\\\b \b|\b \b/\b \b-\b \b\\\b \b|\b \bdone\r\n",
      "\u001b[?25h  Created wheel for pyspark: filename=pyspark-3.2.1-py2.py3-none-any.whl size=281853642 sha256=1c46a5eb156a801b21cd4464ce4e237d868d27d2ce83e0356400eeb9e2d1f0bb\r\n",
      "  Stored in directory: /root/.cache/pip/wheels/9f/f5/07/7cd8017084dce4e93e84e92efd1e1d5334db05f2e83bcef74f\r\n",
      "Successfully built pyspark\r\n",
      "Installing collected packages: py4j, pyspark\r\n",
      "  Attempting uninstall: py4j\r\n",
      "    Found existing installation: py4j 0.10.9.4\r\n",
      "    Uninstalling py4j-0.10.9.4:\r\n",
      "      Successfully uninstalled py4j-0.10.9.4\r\n",
      "Successfully installed py4j-0.10.9.3 pyspark-3.2.1\r\n",
      "\u001b[33mWARNING: Running pip as the 'root' user can result in broken permissions and conflicting behaviour with the system package manager. It is recommended to use a virtual environment instead: https://pip.pypa.io/warnings/venv\u001b[0m\r\n"
     ]
    }
   ],
   "source": [
    "!pip install pyspark"
   ]
  },
  {
   "cell_type": "code",
   "execution_count": 2,
   "id": "735a074b",
   "metadata": {
    "execution": {
     "iopub.execute_input": "2022-03-23T22:56:50.868505Z",
     "iopub.status.busy": "2022-03-23T22:56:50.867949Z",
     "iopub.status.idle": "2022-03-23T22:56:51.112509Z",
     "shell.execute_reply": "2022-03-23T22:56:51.113063Z",
     "shell.execute_reply.started": "2022-03-23T20:40:49.950973Z"
    },
    "papermill": {
     "duration": 0.375666,
     "end_time": "2022-03-23T22:56:51.113283",
     "exception": false,
     "start_time": "2022-03-23T22:56:50.737617",
     "status": "completed"
    },
    "tags": []
   },
   "outputs": [],
   "source": [
    "import pyspark\n",
    "from pyspark.sql import SparkSession\n",
    "from pyspark.sql.types import StructType,StructField, StringType, IntegerType \n",
    "from pyspark.sql.types import ArrayType, DoubleType, BooleanType\n",
    "from pyspark.sql.functions import col,array_contains\n",
    "from pyspark.sql import SQLContext\n",
    "from pyspark.sql.functions import udf,col,when\n",
    "from pyspark.sql.functions import to_timestamp,date_format\n",
    "import numpy as np\n",
    "import pandas as pd\n",
    "from pyspark.sql.types import *\n",
    "from pyspark.sql.functions import *\n",
    "from pyspark.sql.window import *\n",
    "\n",
    "from pyspark.ml.evaluation import RegressionEvaluator\n",
    "from pyspark.ml.recommendation import ALS\n",
    "\n",
    "from pyspark.ml.feature import StringIndexer\n",
    "from pyspark.ml import Pipeline\n",
    "from pyspark.sql.functions import col"
   ]
  },
  {
   "cell_type": "code",
   "execution_count": 3,
   "id": "b93ada2f",
   "metadata": {
    "execution": {
     "iopub.execute_input": "2022-03-23T22:56:51.450094Z",
     "iopub.status.busy": "2022-03-23T22:56:51.449471Z",
     "iopub.status.idle": "2022-03-23T22:56:56.769688Z",
     "shell.execute_reply": "2022-03-23T22:56:56.770382Z",
     "shell.execute_reply.started": "2022-03-23T20:40:50.247743Z"
    },
    "papermill": {
     "duration": 5.489916,
     "end_time": "2022-03-23T22:56:56.770529",
     "exception": false,
     "start_time": "2022-03-23T22:56:51.280613",
     "status": "completed"
    },
    "tags": []
   },
   "outputs": [
    {
     "name": "stderr",
     "output_type": "stream",
     "text": [
      "WARNING: An illegal reflective access operation has occurred\n",
      "WARNING: Illegal reflective access by org.apache.spark.unsafe.Platform (file:/opt/conda/lib/python3.7/site-packages/pyspark/jars/spark-unsafe_2.12-3.2.1.jar) to constructor java.nio.DirectByteBuffer(long,int)\n",
      "WARNING: Please consider reporting this to the maintainers of org.apache.spark.unsafe.Platform\n",
      "WARNING: Use --illegal-access=warn to enable warnings of further illegal reflective access operations\n",
      "WARNING: All illegal access operations will be denied in a future release\n",
      "Using Spark's default log4j profile: org/apache/spark/log4j-defaults.properties\n",
      "Setting default log level to \"WARN\".\n",
      "To adjust logging level use sc.setLogLevel(newLevel). For SparkR, use setLogLevel(newLevel).\n",
      "22/03/23 22:56:54 WARN NativeCodeLoader: Unable to load native-hadoop library for your platform... using builtin-java classes where applicable\n"
     ]
    }
   ],
   "source": [
    "sc = SparkSession.builder.appName(\"Recommendations\").config(\"spark.sql.files.maxPartitionBytes\", 5000000).getOrCreate()\n",
    "spark = SparkSession(sc)"
   ]
  },
  {
   "cell_type": "code",
   "execution_count": 4,
   "id": "b0130346",
   "metadata": {
    "execution": {
     "iopub.execute_input": "2022-03-23T22:56:57.017021Z",
     "iopub.status.busy": "2022-03-23T22:56:57.014038Z",
     "iopub.status.idle": "2022-03-23T22:56:57.018921Z",
     "shell.execute_reply": "2022-03-23T22:56:57.019561Z",
     "shell.execute_reply.started": "2022-03-23T21:33:38.772158Z"
    },
    "papermill": {
     "duration": 0.128306,
     "end_time": "2022-03-23T22:56:57.019740",
     "exception": false,
     "start_time": "2022-03-23T22:56:56.891434",
     "status": "completed"
    },
    "tags": []
   },
   "outputs": [],
   "source": [
    "input_path = '../input/h-and-m-personalized-fashion-recommendations/'"
   ]
  },
  {
   "cell_type": "code",
   "execution_count": 5,
   "id": "269f158c",
   "metadata": {
    "execution": {
     "iopub.execute_input": "2022-03-23T22:56:57.370058Z",
     "iopub.status.busy": "2022-03-23T22:56:57.369195Z",
     "iopub.status.idle": "2022-03-23T22:57:01.643028Z",
     "shell.execute_reply": "2022-03-23T22:57:01.643856Z",
     "shell.execute_reply.started": "2022-03-23T21:33:39.906371Z"
    },
    "papermill": {
     "duration": 4.451921,
     "end_time": "2022-03-23T22:57:01.644051",
     "exception": false,
     "start_time": "2022-03-23T22:56:57.192130",
     "status": "completed"
    },
    "tags": []
   },
   "outputs": [
    {
     "name": "stdout",
     "output_type": "stream",
     "text": [
      "root\n",
      " |-- t_dat: string (nullable = true)\n",
      " |-- customer_id: string (nullable = true)\n",
      " |-- article_id: string (nullable = true)\n",
      " |-- price: string (nullable = true)\n",
      " |-- sales_channel_id: string (nullable = true)\n",
      "\n"
     ]
    }
   ],
   "source": [
    "transaction = spark.read.option('header',True) \\\n",
    "                .csv(f\"{input_path}transactions_train.csv\")\n",
    "transaction.printSchema()"
   ]
  },
  {
   "cell_type": "code",
   "execution_count": 6,
   "id": "cd6f6c21",
   "metadata": {
    "execution": {
     "iopub.execute_input": "2022-03-23T22:57:01.909017Z",
     "iopub.status.busy": "2022-03-23T22:57:01.908304Z",
     "iopub.status.idle": "2022-03-23T22:57:31.574876Z",
     "shell.execute_reply": "2022-03-23T22:57:31.576282Z",
     "shell.execute_reply.started": "2022-03-23T20:47:21.342397Z"
    },
    "papermill": {
     "duration": 29.796348,
     "end_time": "2022-03-23T22:57:31.576511",
     "exception": false,
     "start_time": "2022-03-23T22:57:01.780163",
     "status": "completed"
    },
    "tags": []
   },
   "outputs": [
    {
     "name": "stderr",
     "output_type": "stream",
     "text": [
      "                                                                                \r"
     ]
    },
    {
     "data": {
      "text/plain": [
       "('2018-09-20', '2020-09-22')"
      ]
     },
     "execution_count": 6,
     "metadata": {},
     "output_type": "execute_result"
    }
   ],
   "source": [
    "from pyspark.sql.functions import min, max\n",
    "from pyspark.sql.functions import unix_timestamp, lit\n",
    "min_date, max_date = transaction.select(min('t_dat'), max('t_dat')).first()\n",
    "min_date, max_date"
   ]
  },
  {
   "cell_type": "code",
   "execution_count": 7,
   "id": "24e70b7b",
   "metadata": {
    "execution": {
     "iopub.execute_input": "2022-03-23T22:57:31.864581Z",
     "iopub.status.busy": "2022-03-23T22:57:31.864113Z",
     "iopub.status.idle": "2022-03-23T22:58:27.226520Z",
     "shell.execute_reply": "2022-03-23T22:58:27.225772Z",
     "shell.execute_reply.started": "2022-03-23T20:49:53.863349Z"
    },
    "papermill": {
     "duration": 55.509798,
     "end_time": "2022-03-23T22:58:27.226732",
     "exception": false,
     "start_time": "2022-03-23T22:57:31.716934",
     "status": "completed"
    },
    "tags": []
   },
   "outputs": [
    {
     "name": "stderr",
     "output_type": "stream",
     "text": [
      "                                                                                \r"
     ]
    },
    {
     "name": "stdout",
     "output_type": "stream",
     "text": [
      "+--------------------+----------+-----+\n",
      "|         customer_id|article_id|count|\n",
      "+--------------------+----------+-----+\n",
      "|00f7bc5c0df4c615b...|0780418013|    1|\n",
      "|02094817e46f3b692...|0791587001|    1|\n",
      "|0333e5dda0257e9f4...|0839332002|    2|\n",
      "|07c7a1172caf8fb97...|0573085043|    1|\n",
      "|081373184e601470c...|0714790020|    1|\n",
      "+--------------------+----------+-----+\n",
      "only showing top 5 rows\n",
      "\n"
     ]
    }
   ],
   "source": [
    "hm =  transaction.withColumn('t_dat', transaction['t_dat'].cast('string'))\n",
    "hm = hm.withColumn('date', from_unixtime(unix_timestamp('t_dat', 'yyyy-MM-dd')))\n",
    "hm = hm.withColumn('year', year(col('date')))\n",
    "hm = hm.withColumn('month', month(col('date')))\n",
    "hm = hm.withColumn('day', date_format(col('date'), \"d\"))\n",
    "\n",
    "hm = hm[hm['year'] == 2020]\n",
    "hm = hm[hm['month'] == 9]\n",
    "hm = hm[hm['day'] == 22]\n",
    "transaction.unpersist()\n",
    "\n",
    "# Prepare the dataset\n",
    "hm = hm.groupby('customer_id', 'article_id').count()\n",
    "hm.show(5)"
   ]
  },
  {
   "cell_type": "code",
   "execution_count": 8,
   "id": "85994618",
   "metadata": {
    "execution": {
     "iopub.execute_input": "2022-03-23T22:58:27.772385Z",
     "iopub.status.busy": "2022-03-23T22:58:27.771611Z",
     "iopub.status.idle": "2022-03-23T22:59:18.147855Z",
     "shell.execute_reply": "2022-03-23T22:59:18.147368Z",
     "shell.execute_reply.started": "2022-03-23T22:51:22.198773Z"
    },
    "papermill": {
     "duration": 50.642323,
     "end_time": "2022-03-23T22:59:18.147993",
     "exception": false,
     "start_time": "2022-03-23T22:58:27.505670",
     "status": "completed"
    },
    "tags": []
   },
   "outputs": [
    {
     "name": "stderr",
     "output_type": "stream",
     "text": [
      "                                                                                \r"
     ]
    },
    {
     "data": {
      "text/plain": [
       "10528"
      ]
     },
     "execution_count": 8,
     "metadata": {},
     "output_type": "execute_result"
    }
   ],
   "source": [
    "hm.select('customer_id').distinct().count()"
   ]
  },
  {
   "cell_type": "code",
   "execution_count": 9,
   "id": "b03e15b2",
   "metadata": {
    "execution": {
     "iopub.execute_input": "2022-03-23T22:59:18.650758Z",
     "iopub.status.busy": "2022-03-23T22:59:18.650104Z",
     "iopub.status.idle": "2022-03-23T23:00:09.746851Z",
     "shell.execute_reply": "2022-03-23T23:00:09.747355Z",
     "shell.execute_reply.started": "2022-03-23T20:51:49.780566Z"
    },
    "papermill": {
     "duration": 51.34805,
     "end_time": "2022-03-23T23:00:09.747537",
     "exception": false,
     "start_time": "2022-03-23T22:59:18.399487",
     "status": "completed"
    },
    "tags": []
   },
   "outputs": [
    {
     "name": "stderr",
     "output_type": "stream",
     "text": [
      "[Stage 13:=====================================================>(696 + 2) / 698]\r"
     ]
    },
    {
     "name": "stdout",
     "output_type": "stream",
     "text": [
      "(29486, 3)\n"
     ]
    },
    {
     "name": "stderr",
     "output_type": "stream",
     "text": [
      "                                                                                \r"
     ]
    }
   ],
   "source": [
    "print((hm.count(), len(hm.columns)))"
   ]
  },
  {
   "cell_type": "code",
   "execution_count": 10,
   "id": "07f557dc",
   "metadata": {
    "execution": {
     "iopub.execute_input": "2022-03-23T23:00:10.290749Z",
     "iopub.status.busy": "2022-03-23T23:00:10.289914Z",
     "iopub.status.idle": "2022-03-23T23:02:37.979418Z",
     "shell.execute_reply": "2022-03-23T23:02:37.980034Z",
     "shell.execute_reply.started": "2022-03-23T21:00:07.205324Z"
    },
    "papermill": {
     "duration": 147.963164,
     "end_time": "2022-03-23T23:02:37.980288",
     "exception": false,
     "start_time": "2022-03-23T23:00:10.017124",
     "status": "completed"
    },
    "tags": []
   },
   "outputs": [
    {
     "name": "stderr",
     "output_type": "stream",
     "text": [
      "[Stage 31:=====================================================>(695 + 3) / 698]\r"
     ]
    },
    {
     "name": "stdout",
     "output_type": "stream",
     "text": [
      "Sparsity:  99.96%.\n"
     ]
    },
    {
     "name": "stderr",
     "output_type": "stream",
     "text": [
      "                                                                                \r"
     ]
    }
   ],
   "source": [
    "numerator = hm.select('count').count()\n",
    "\n",
    "num_users = hm.select('customer_id').distinct().count()\n",
    "num_articles = hm.select('article_id').distinct().count()\n",
    "\n",
    "denominator = num_users * num_articles\n",
    "\n",
    "sparsity = (1.0 - (numerator * 1.0) / denominator) * 100\n",
    "print('Sparsity: ', '%.2f'%sparsity + '%.')"
   ]
  },
  {
   "cell_type": "code",
   "execution_count": 11,
   "id": "2e1bf42e",
   "metadata": {
    "execution": {
     "iopub.execute_input": "2022-03-23T23:02:38.718162Z",
     "iopub.status.busy": "2022-03-23T23:02:38.717577Z",
     "iopub.status.idle": "2022-03-23T23:03:28.629049Z",
     "shell.execute_reply": "2022-03-23T23:03:28.629618Z",
     "shell.execute_reply.started": "2022-03-23T21:03:30.643394Z"
    },
    "papermill": {
     "duration": 50.280846,
     "end_time": "2022-03-23T23:03:28.629813",
     "exception": false,
     "start_time": "2022-03-23T23:02:38.348967",
     "status": "completed"
    },
    "tags": []
   },
   "outputs": [
    {
     "name": "stderr",
     "output_type": "stream",
     "text": [
      "[Stage 37:=====================================================>(697 + 1) / 698]\r"
     ]
    },
    {
     "name": "stdout",
     "output_type": "stream",
     "text": [
      "+--------------------+-----+\n",
      "|         customer_id|count|\n",
      "+--------------------+-----+\n",
      "|5e8fb4d457fdffc61...|   28|\n",
      "|30b6056bacc5f5c9d...|   28|\n",
      "|dc1b173e541f8d3c1...|   27|\n",
      "|1796e87fd2e88932b...|   25|\n",
      "|6335d496ef463bc40...|   25|\n",
      "+--------------------+-----+\n",
      "only showing top 5 rows\n",
      "\n"
     ]
    },
    {
     "name": "stderr",
     "output_type": "stream",
     "text": [
      "                                                                                \r"
     ]
    }
   ],
   "source": [
    "userId_count = hm.groupby('customer_id').count().orderBy('count', ascending=False)\n",
    "userId_count.show(5)"
   ]
  },
  {
   "cell_type": "code",
   "execution_count": 12,
   "id": "bedd39cc",
   "metadata": {
    "execution": {
     "iopub.execute_input": "2022-03-23T23:03:29.745988Z",
     "iopub.status.busy": "2022-03-23T23:03:29.744985Z",
     "iopub.status.idle": "2022-03-23T23:04:19.619047Z",
     "shell.execute_reply": "2022-03-23T23:04:19.618228Z",
     "shell.execute_reply.started": "2022-03-23T21:04:39.197164Z"
    },
    "papermill": {
     "duration": 50.496037,
     "end_time": "2022-03-23T23:04:19.619268",
     "exception": false,
     "start_time": "2022-03-23T23:03:29.123231",
     "status": "completed"
    },
    "tags": []
   },
   "outputs": [
    {
     "name": "stderr",
     "output_type": "stream",
     "text": [
      "[Stage 43:=====================================================>(696 + 2) / 698]\r"
     ]
    },
    {
     "name": "stdout",
     "output_type": "stream",
     "text": [
      "+----------+-----+\n",
      "|article_id|count|\n",
      "+----------+-----+\n",
      "|0924243002|   91|\n",
      "|0918522001|   88|\n",
      "|0866731001|   78|\n",
      "|0751471001|   75|\n",
      "|0448509014|   73|\n",
      "+----------+-----+\n",
      "only showing top 5 rows\n",
      "\n"
     ]
    },
    {
     "name": "stderr",
     "output_type": "stream",
     "text": [
      "                                                                                \r"
     ]
    }
   ],
   "source": [
    "articleId_count = hm.groupBy('article_id').count().orderBy('count', ascending=False)\n",
    "articleId_count.show(5)"
   ]
  },
  {
   "cell_type": "code",
   "execution_count": 13,
   "id": "e70f49c6",
   "metadata": {
    "execution": {
     "iopub.execute_input": "2022-03-23T23:04:21.011917Z",
     "iopub.status.busy": "2022-03-23T23:04:21.010927Z",
     "iopub.status.idle": "2022-03-23T23:06:52.447141Z",
     "shell.execute_reply": "2022-03-23T23:06:52.446160Z",
     "shell.execute_reply.started": "2022-03-23T21:06:35.033212Z"
    },
    "papermill": {
     "duration": 152.127093,
     "end_time": "2022-03-23T23:06:52.447347",
     "exception": false,
     "start_time": "2022-03-23T23:04:20.320254",
     "status": "completed"
    },
    "tags": []
   },
   "outputs": [
    {
     "name": "stderr",
     "output_type": "stream",
     "text": [
      "22/03/23 23:06:52 WARN DAGScheduler: Broadcasting large task binary with size 1207.9 KiB\n"
     ]
    },
    {
     "name": "stdout",
     "output_type": "stream",
     "text": [
      "+--------------------+----------+-----+-----------------+----------------+\n",
      "|         customer_id|article_id|count|customer_id_index|article_id_index|\n",
      "+--------------------+----------+-----+-----------------+----------------+\n",
      "|00f7bc5c0df4c615b...|0780418013|    1|            783.0|          2237.0|\n",
      "|02094817e46f3b692...|0791587001|    1|            785.0|            35.0|\n",
      "|0333e5dda0257e9f4...|0839332002|    2|           4098.0|           732.0|\n",
      "|07c7a1172caf8fb97...|0573085043|    1|           1702.0|            44.0|\n",
      "|081373184e601470c...|0714790020|    1|           4146.0|             5.0|\n",
      "+--------------------+----------+-----+-----------------+----------------+\n",
      "only showing top 5 rows\n",
      "\n"
     ]
    },
    {
     "name": "stderr",
     "output_type": "stream",
     "text": [
      "                                                                                \r"
     ]
    }
   ],
   "source": [
    "indexer = [StringIndexer(inputCol=column, outputCol=column+'_index') for column in list(set(hm.columns)-set(['count']))]\n",
    "pipeline = Pipeline(stages=indexer)\n",
    "transformed = pipeline.fit(hm).transform(hm)\n",
    "transformed.show(5)"
   ]
  },
  {
   "cell_type": "code",
   "execution_count": 14,
   "id": "d1d27a68",
   "metadata": {
    "execution": {
     "iopub.execute_input": "2022-03-23T23:06:54.210559Z",
     "iopub.status.busy": "2022-03-23T23:06:54.209575Z",
     "iopub.status.idle": "2022-03-23T23:06:54.234733Z",
     "shell.execute_reply": "2022-03-23T23:06:54.235322Z",
     "shell.execute_reply.started": "2022-03-23T22:00:41.567036Z"
    },
    "papermill": {
     "duration": 0.894649,
     "end_time": "2022-03-23T23:06:54.235516",
     "exception": false,
     "start_time": "2022-03-23T23:06:53.340867",
     "status": "completed"
    },
    "tags": []
   },
   "outputs": [],
   "source": [
    "(train, test) = transformed.randomSplit([0.8, 0.2])"
   ]
  },
  {
   "cell_type": "code",
   "execution_count": 15,
   "id": "b33763f4",
   "metadata": {
    "execution": {
     "iopub.execute_input": "2022-03-23T23:06:55.961258Z",
     "iopub.status.busy": "2022-03-23T23:06:55.960723Z",
     "iopub.status.idle": "2022-03-23T23:08:46.458271Z",
     "shell.execute_reply": "2022-03-23T23:08:46.459341Z",
     "shell.execute_reply.started": "2022-03-23T22:00:53.294274Z"
    },
    "papermill": {
     "duration": 111.366157,
     "end_time": "2022-03-23T23:08:46.459650",
     "exception": false,
     "start_time": "2022-03-23T23:06:55.093493",
     "status": "completed"
    },
    "tags": []
   },
   "outputs": [
    {
     "name": "stderr",
     "output_type": "stream",
     "text": [
      "22/03/23 23:08:37 WARN DAGScheduler: Broadcasting large task binary with size 1223.0 KiB\n",
      "22/03/23 23:08:38 WARN DAGScheduler: Broadcasting large task binary with size 1224.4 KiB\n",
      "22/03/23 23:08:38 WARN DAGScheduler: Broadcasting large task binary with size 1226.0 KiB\n",
      "22/03/23 23:08:39 WARN DAGScheduler: Broadcasting large task binary with size 1227.3 KiB\n",
      "22/03/23 23:08:39 WARN DAGScheduler: Broadcasting large task binary with size 1226.2 KiB\n",
      "22/03/23 23:08:40 WARN DAGScheduler: Broadcasting large task binary with size 1227.5 KiB\n",
      "22/03/23 23:08:40 WARN DAGScheduler: Broadcasting large task binary with size 1228.3 KiB\n",
      "22/03/23 23:08:41 WARN DAGScheduler: Broadcasting large task binary with size 1231.4 KiB\n",
      "22/03/23 23:08:41 WARN DAGScheduler: Broadcasting large task binary with size 1232.8 KiB\n",
      "22/03/23 23:08:42 WARN DAGScheduler: Broadcasting large task binary with size 1234.2 KiB\n",
      "22/03/23 23:08:42 WARN DAGScheduler: Broadcasting large task binary with size 1235.5 KiB\n",
      "22/03/23 23:08:43 WARN DAGScheduler: Broadcasting large task binary with size 1236.9 KiB\n",
      "22/03/23 23:08:43 WARN DAGScheduler: Broadcasting large task binary with size 1238.3 KiB\n",
      "22/03/23 23:08:44 WARN DAGScheduler: Broadcasting large task binary with size 1239.7 KiB\n",
      "22/03/23 23:08:44 WARN DAGScheduler: Broadcasting large task binary with size 1241.1 KiB\n",
      "22/03/23 23:08:44 WARN DAGScheduler: Broadcasting large task binary with size 1242.5 KiB\n",
      "22/03/23 23:08:45 WARN DAGScheduler: Broadcasting large task binary with size 1244.4 KiB\n",
      "22/03/23 23:08:45 WARN DAGScheduler: Broadcasting large task binary with size 1243.0 KiB\n"
     ]
    }
   ],
   "source": [
    "als = ALS(maxIter=5,regParam=0.09,rank=25,userCol=\"customer_id_index\",itemCol=\"article_id_index\",ratingCol=\"count\",coldStartStrategy=\"drop\",nonnegative=True)\n",
    "model = als.fit(train)"
   ]
  },
  {
   "cell_type": "code",
   "execution_count": 16,
   "id": "20fd5989",
   "metadata": {
    "execution": {
     "iopub.execute_input": "2022-03-23T23:08:48.534511Z",
     "iopub.status.busy": "2022-03-23T23:08:48.533633Z",
     "iopub.status.idle": "2022-03-23T23:09:41.226277Z",
     "shell.execute_reply": "2022-03-23T23:09:41.225673Z",
     "shell.execute_reply.started": "2022-03-23T22:03:57.112081Z"
    },
    "papermill": {
     "duration": 53.74883,
     "end_time": "2022-03-23T23:09:41.226429",
     "exception": false,
     "start_time": "2022-03-23T23:08:47.477599",
     "status": "completed"
    },
    "tags": []
   },
   "outputs": [
    {
     "name": "stderr",
     "output_type": "stream",
     "text": [
      "22/03/23 23:08:48 WARN DAGScheduler: Broadcasting large task binary with size 1252.0 KiB\n",
      "22/03/23 23:08:49 WARN DAGScheduler: Broadcasting large task binary with size 1250.6 KiB\n",
      "22/03/23 23:09:40 WARN DAGScheduler: Broadcasting large task binary with size 1217.7 KiB\n",
      "22/03/23 23:09:40 WARN DAGScheduler: Broadcasting large task binary with size 1296.7 KiB\n"
     ]
    },
    {
     "name": "stdout",
     "output_type": "stream",
     "text": [
      "RMSE=0.5049604528496827\n"
     ]
    }
   ],
   "source": [
    "evaluator = RegressionEvaluator(metricName='rmse', labelCol='count', predictionCol='prediction')\n",
    "predictions = model.transform(test)\n",
    "rmse = evaluator.evaluate(predictions)\n",
    "print('RMSE='+str(rmse))"
   ]
  },
  {
   "cell_type": "code",
   "execution_count": 17,
   "id": "560d277b",
   "metadata": {
    "execution": {
     "iopub.execute_input": "2022-03-23T23:09:42.739488Z",
     "iopub.status.busy": "2022-03-23T23:09:42.738947Z",
     "iopub.status.idle": "2022-03-23T23:10:34.769830Z",
     "shell.execute_reply": "2022-03-23T23:10:34.769225Z",
     "shell.execute_reply.started": "2022-03-23T21:13:52.908436Z"
    },
    "papermill": {
     "duration": 52.730244,
     "end_time": "2022-03-23T23:10:34.769985",
     "exception": false,
     "start_time": "2022-03-23T23:09:42.039741",
     "status": "completed"
    },
    "tags": []
   },
   "outputs": [
    {
     "name": "stderr",
     "output_type": "stream",
     "text": [
      "22/03/23 23:09:42 WARN DAGScheduler: Broadcasting large task binary with size 1252.0 KiB\n",
      "22/03/23 23:09:42 WARN DAGScheduler: Broadcasting large task binary with size 1250.6 KiB\n",
      "                                                                                \r"
     ]
    },
    {
     "name": "stdout",
     "output_type": "stream",
     "text": [
      "+--------------------+----------+-----+-----------------+----------------+----------+\n",
      "|         customer_id|article_id|count|customer_id_index|article_id_index|prediction|\n",
      "+--------------------+----------+-----+-----------------+----------------+----------+\n",
      "|0026ebdd70715d8fa...|0785018003|    1|           1671.0|            79.0| 0.7620836|\n",
      "|0066eb74327937182...|0924645001|    1|            540.0|           405.0| 0.7741257|\n",
      "|006908fb1f581e644...|0640021012|    1|           1673.0|          2132.0| 0.8349908|\n",
      "|009b11e116c9e8c99...|0856440001|    1|            541.0|           432.0| 1.1419799|\n",
      "|009b11e116c9e8c99...|0867969003|    1|            541.0|            65.0| 1.1227843|\n",
      "+--------------------+----------+-----+-----------------+----------------+----------+\n",
      "only showing top 5 rows\n",
      "\n"
     ]
    },
    {
     "name": "stderr",
     "output_type": "stream",
     "text": [
      "22/03/23 23:10:34 WARN DAGScheduler: Broadcasting large task binary with size 1300.4 KiB\n"
     ]
    }
   ],
   "source": [
    "predictions.show(5)"
   ]
  },
  {
   "cell_type": "code",
   "execution_count": 18,
   "id": "bc310d00",
   "metadata": {
    "execution": {
     "iopub.execute_input": "2022-03-23T23:10:37.025124Z",
     "iopub.status.busy": "2022-03-23T23:10:37.024190Z",
     "iopub.status.idle": "2022-03-23T23:10:44.220810Z",
     "shell.execute_reply": "2022-03-23T23:10:44.221362Z",
     "shell.execute_reply.started": "2022-03-23T21:15:04.842648Z"
    },
    "papermill": {
     "duration": 8.317554,
     "end_time": "2022-03-23T23:10:44.221551",
     "exception": false,
     "start_time": "2022-03-23T23:10:35.903997",
     "status": "completed"
    },
    "tags": []
   },
   "outputs": [
    {
     "name": "stderr",
     "output_type": "stream",
     "text": [
      "/opt/conda/lib/python3.7/site-packages/pyspark/sql/context.py:127: FutureWarning: Deprecated in 3.0.0. Use SparkSession.builder.getOrCreate() instead.\n",
      "  FutureWarning\n",
      "22/03/23 23:10:37 WARN DAGScheduler: Broadcasting large task binary with size 1296.8 KiB\n",
      "22/03/23 23:10:44 WARN DAGScheduler: Broadcasting large task binary with size 1274.2 KiB\n"
     ]
    },
    {
     "name": "stdout",
     "output_type": "stream",
     "text": [
      "+----------------+--------------------+\n",
      "|article_id_index|     recommendations|\n",
      "+----------------+--------------------+\n",
      "|               1|[{4907, 4.2080398...|\n",
      "|              12|[{4907, 4.735945}...|\n",
      "|              13|[{4907, 4.742931}...|\n",
      "|              22|[{4907, 5.528489}...|\n",
      "|              26|[{4907, 4.8742094...|\n",
      "+----------------+--------------------+\n",
      "only showing top 5 rows\n",
      "\n"
     ]
    },
    {
     "name": "stderr",
     "output_type": "stream",
     "text": [
      "                                                                                \r"
     ]
    }
   ],
   "source": [
    "user_recs = model.recommendForAllItems(10).show(5)"
   ]
  },
  {
   "cell_type": "code",
   "execution_count": 19,
   "id": "b6bb2242",
   "metadata": {
    "execution": {
     "iopub.execute_input": "2022-03-23T23:10:46.479631Z",
     "iopub.status.busy": "2022-03-23T23:10:46.478536Z",
     "iopub.status.idle": "2022-03-23T23:10:52.119419Z",
     "shell.execute_reply": "2022-03-23T23:10:52.118854Z",
     "shell.execute_reply.started": "2022-03-23T21:15:15.061756Z"
    },
    "papermill": {
     "duration": 6.763213,
     "end_time": "2022-03-23T23:10:52.119570",
     "exception": false,
     "start_time": "2022-03-23T23:10:45.356357",
     "status": "completed"
    },
    "tags": []
   },
   "outputs": [
    {
     "name": "stderr",
     "output_type": "stream",
     "text": [
      "22/03/23 23:10:46 WARN DAGScheduler: Broadcasting large task binary with size 1296.8 KiB\n",
      "[Stage 227:===================================================>  (96 + 4) / 100]\r"
     ]
    },
    {
     "name": "stdout",
     "output_type": "stream",
     "text": [
      "+-----------------+--------------------+\n",
      "|customer_id_index|     recommendations|\n",
      "+-----------------+--------------------+\n",
      "|                1|[{6383, 2.6694212...|\n",
      "|               12|[{6383, 3.306033}...|\n",
      "|               13|[{6383, 3.4023504...|\n",
      "|               22|[{4146, 4.6609235...|\n",
      "|               26|[{4146, 2.455671}...|\n",
      "+-----------------+--------------------+\n",
      "only showing top 5 rows\n",
      "\n"
     ]
    },
    {
     "name": "stderr",
     "output_type": "stream",
     "text": [
      "22/03/23 23:10:52 WARN DAGScheduler: Broadcasting large task binary with size 1274.2 KiB\n",
      "                                                                                \r"
     ]
    }
   ],
   "source": [
    "item_recs = model.recommendForAllUsers(10).show(5)"
   ]
  },
  {
   "cell_type": "code",
   "execution_count": 20,
   "id": "b2bee4e4",
   "metadata": {
    "execution": {
     "iopub.execute_input": "2022-03-23T23:10:54.205484Z",
     "iopub.status.busy": "2022-03-23T23:10:54.204823Z",
     "iopub.status.idle": "2022-03-23T23:11:03.226386Z",
     "shell.execute_reply": "2022-03-23T23:11:03.225946Z",
     "shell.execute_reply.started": "2022-03-23T22:05:49.631888Z"
    },
    "papermill": {
     "duration": 10.15262,
     "end_time": "2022-03-23T23:11:03.226506",
     "exception": false,
     "start_time": "2022-03-23T23:10:53.073886",
     "status": "completed"
    },
    "tags": []
   },
   "outputs": [
    {
     "name": "stderr",
     "output_type": "stream",
     "text": [
      "22/03/23 23:10:54 WARN DAGScheduler: Broadcasting large task binary with size 1296.8 KiB\n",
      "22/03/23 23:10:59 WARN DAGScheduler: Broadcasting large task binary with size 1281.3 KiB\n",
      "[Stage 259:===============================================>     (179 + 4) / 200]\r"
     ]
    },
    {
     "name": "stdout",
     "output_type": "stream",
     "text": [
      "CPU times: user 29.4 ms, sys: 6.44 ms, total: 35.8 ms\n",
      "Wall time: 9.01 s\n"
     ]
    },
    {
     "name": "stderr",
     "output_type": "stream",
     "text": [
      "                                                                                \r"
     ]
    },
    {
     "data": {
      "text/plain": [
       "9618"
      ]
     },
     "execution_count": 20,
     "metadata": {},
     "output_type": "execute_result"
    }
   ],
   "source": [
    "%%time\n",
    "userRecsDf = model.recommendForAllUsers(10).cache()\n",
    "userRecsDf.count()"
   ]
  },
  {
   "cell_type": "code",
   "execution_count": 21,
   "id": "c1afad2c",
   "metadata": {
    "execution": {
     "iopub.execute_input": "2022-03-23T23:11:04.758539Z",
     "iopub.status.busy": "2022-03-23T23:11:04.757525Z",
     "iopub.status.idle": "2022-03-23T23:11:04.762840Z",
     "shell.execute_reply": "2022-03-23T23:11:04.762126Z",
     "shell.execute_reply.started": "2022-03-23T21:15:34.041131Z"
    },
    "papermill": {
     "duration": 0.76832,
     "end_time": "2022-03-23T23:11:04.763034",
     "exception": false,
     "start_time": "2022-03-23T23:11:03.994714",
     "status": "completed"
    },
    "tags": []
   },
   "outputs": [
    {
     "name": "stdout",
     "output_type": "stream",
     "text": [
      "root\n",
      " |-- customer_id_index: integer (nullable = false)\n",
      " |-- recommendations: array (nullable = true)\n",
      " |    |-- element: struct (containsNull = true)\n",
      " |    |    |-- article_id_index: integer (nullable = true)\n",
      " |    |    |-- rating: float (nullable = true)\n",
      "\n"
     ]
    }
   ],
   "source": [
    "userRecsDf.printSchema()"
   ]
  },
  {
   "cell_type": "code",
   "execution_count": 22,
   "id": "5cbee568",
   "metadata": {
    "execution": {
     "iopub.execute_input": "2022-03-23T23:11:07.059957Z",
     "iopub.status.busy": "2022-03-23T23:11:07.059042Z",
     "iopub.status.idle": "2022-03-23T23:11:07.203332Z",
     "shell.execute_reply": "2022-03-23T23:11:07.202587Z",
     "shell.execute_reply.started": "2022-03-23T21:16:51.844789Z"
    },
    "papermill": {
     "duration": 1.294107,
     "end_time": "2022-03-23T23:11:07.203509",
     "exception": false,
     "start_time": "2022-03-23T23:11:05.909402",
     "status": "completed"
    },
    "tags": []
   },
   "outputs": [
    {
     "name": "stdout",
     "output_type": "stream",
     "text": [
      "+-----------------+------------------------------------------------------------+\n",
      "|customer_id_index|article_id_index                                            |\n",
      "+-----------------+------------------------------------------------------------+\n",
      "|1580             |[6383, 4146, 1661, 1891, 6874, 5111, 4910, 368, 2511, 3869] |\n",
      "|4900             |[4146, 1661, 4910, 3869, 6383, 2511, 368, 1891, 5891, 5111] |\n",
      "|5300             |[4146, 6383, 1891, 6874, 2511, 1661, 4894, 368, 3663, 6046] |\n",
      "|6620             |[6383, 4146, 1661, 1891, 2511, 4910, 5891, 3869, 5111, 4894]|\n",
      "|7240             |[6874, 6383, 6848, 1891, 1661, 5111, 2573, 2511, 3031, 1035]|\n",
      "|7340             |[6383, 4146, 5111, 5891, 1661, 2511, 2455, 1891, 6975, 368] |\n",
      "|7880             |[6383, 4146, 3018, 7348, 7390, 5111, 3633, 7146, 7574, 7398]|\n",
      "|9900             |[7092, 7093, 6874, 3258, 1661, 6848, 4910, 3869, 7074, 2874]|\n",
      "|471              |[1661, 4146, 5111, 6383, 6944, 4170, 4780, 4894, 7574, 1891]|\n",
      "|1591             |[6383, 2511, 4146, 1661, 1891, 5891, 368, 4910, 6874, 5111] |\n",
      "+-----------------+------------------------------------------------------------+\n",
      "only showing top 10 rows\n",
      "\n"
     ]
    },
    {
     "name": "stderr",
     "output_type": "stream",
     "text": [
      "22/03/23 23:11:07 WARN DAGScheduler: Broadcasting large task binary with size 1282.2 KiB\n"
     ]
    }
   ],
   "source": [
    "userRecsDf.select('customer_id_index', 'recommendations.article_id_index').show(10, False)"
   ]
  },
  {
   "cell_type": "code",
   "execution_count": 23,
   "id": "9fe06065",
   "metadata": {
    "execution": {
     "iopub.execute_input": "2022-03-23T23:11:09.613881Z",
     "iopub.status.busy": "2022-03-23T23:11:09.613189Z",
     "iopub.status.idle": "2022-03-23T23:11:09.615877Z",
     "shell.execute_reply": "2022-03-23T23:11:09.616403Z",
     "shell.execute_reply.started": "2022-03-23T21:16:55.249011Z"
    },
    "papermill": {
     "duration": 1.259776,
     "end_time": "2022-03-23T23:11:09.616566",
     "exception": false,
     "start_time": "2022-03-23T23:11:08.356790",
     "status": "completed"
    },
    "tags": []
   },
   "outputs": [
    {
     "data": {
      "text/plain": [
       "201"
      ]
     },
     "execution_count": 23,
     "metadata": {},
     "output_type": "execute_result"
    }
   ],
   "source": [
    "import gc\n",
    "gc.collect()"
   ]
  },
  {
   "cell_type": "code",
   "execution_count": 24,
   "id": "e539ce4c",
   "metadata": {
    "execution": {
     "iopub.execute_input": "2022-03-23T23:11:11.991369Z",
     "iopub.status.busy": "2022-03-23T23:11:11.988396Z",
     "iopub.status.idle": "2022-03-23T23:11:11.994779Z",
     "shell.execute_reply": "2022-03-23T23:11:11.994036Z",
     "shell.execute_reply.started": "2022-03-23T21:17:54.862915Z"
    },
    "papermill": {
     "duration": 1.145876,
     "end_time": "2022-03-23T23:11:11.994932",
     "exception": false,
     "start_time": "2022-03-23T23:11:10.849056",
     "status": "completed"
    },
    "tags": []
   },
   "outputs": [],
   "source": [
    "from pyspark.ml.evaluation import RegressionEvaluator\n",
    "from pyspark.ml.recommendation import ALS\n",
    "from pyspark.sql import Row\n",
    "import pandas as pd"
   ]
  },
  {
   "cell_type": "code",
   "execution_count": 25,
   "id": "bd343c68",
   "metadata": {
    "execution": {
     "iopub.execute_input": "2022-03-23T23:11:14.296610Z",
     "iopub.status.busy": "2022-03-23T23:11:14.295918Z",
     "iopub.status.idle": "2022-03-23T23:11:46.071963Z",
     "shell.execute_reply": "2022-03-23T23:11:46.071213Z",
     "shell.execute_reply.started": "2022-03-23T21:21:35.851152Z"
    },
    "papermill": {
     "duration": 32.935236,
     "end_time": "2022-03-23T23:11:46.072141",
     "exception": false,
     "start_time": "2022-03-23T23:11:13.136905",
     "status": "completed"
    },
    "tags": []
   },
   "outputs": [
    {
     "name": "stderr",
     "output_type": "stream",
     "text": [
      "22/03/23 23:11:14 WARN DAGScheduler: Broadcasting large task binary with size 1296.8 KiB\n",
      "22/03/23 23:11:19 WARN DAGScheduler: Broadcasting large task binary with size 1274.3 KiB\n",
      "                                                                                \r"
     ]
    }
   ],
   "source": [
    "recs = model.recommendForAllUsers(10).toPandas()\n",
    "nrecs = recs.recommendations.apply(pd.Series) \\\n",
    "        .merge(recs, right_index=True, left_index=True) \\\n",
    "        .drop(['recommendations'], axis=1) \\\n",
    "        .melt(id_vars=['customer_id_index'], value_name='recommendations') \\\n",
    "        .drop('variable', axis=1) \\\n",
    "        .dropna()\n",
    "nrecs = nrecs.sort_values('customer_id_index')\n",
    "nrecs = pd.concat([nrecs['recommendations'].apply(pd.Series), nrecs['customer_id_index']], axis=1)"
   ]
  },
  {
   "cell_type": "code",
   "execution_count": 26,
   "id": "8eb1686f",
   "metadata": {
    "execution": {
     "iopub.execute_input": "2022-03-23T23:11:48.411887Z",
     "iopub.status.busy": "2022-03-23T23:11:48.411218Z",
     "iopub.status.idle": "2022-03-23T23:12:40.129412Z",
     "shell.execute_reply": "2022-03-23T23:12:40.128800Z",
     "shell.execute_reply.started": "2022-03-23T21:22:54.292823Z"
    },
    "papermill": {
     "duration": 52.898098,
     "end_time": "2022-03-23T23:12:40.129560",
     "exception": false,
     "start_time": "2022-03-23T23:11:47.231462",
     "status": "completed"
    },
    "tags": []
   },
   "outputs": [
    {
     "name": "stderr",
     "output_type": "stream",
     "text": [
      "22/03/23 23:12:39 WARN DAGScheduler: Broadcasting large task binary with size 1205.2 KiB\n",
      "                                                                                \r"
     ]
    }
   ],
   "source": [
    "nrecs.columns = ['ArticleID_index', 'count', 'UserID_index']\n",
    "md = transformed.select(transformed['article_id'], transformed['article_id_index'], transformed['customer_id'], transformed['customer_id_index'])\n",
    "md = md.toPandas()"
   ]
  },
  {
   "cell_type": "code",
   "execution_count": 27,
   "id": "c769e5c5",
   "metadata": {
    "execution": {
     "iopub.execute_input": "2022-03-23T23:12:42.571022Z",
     "iopub.status.busy": "2022-03-23T23:12:42.559793Z",
     "iopub.status.idle": "2022-03-23T23:12:42.608011Z",
     "shell.execute_reply": "2022-03-23T23:12:42.609020Z",
     "shell.execute_reply.started": "2022-03-23T21:25:18.482700Z"
    },
    "papermill": {
     "duration": 1.262533,
     "end_time": "2022-03-23T23:12:42.609297",
     "exception": false,
     "start_time": "2022-03-23T23:12:41.346764",
     "status": "completed"
    },
    "tags": []
   },
   "outputs": [],
   "source": [
    "dict1 = dict(zip(md['article_id_index'], md['article_id']))\n",
    "dict2 = dict(zip(md['customer_id_index'], md['customer_id']))\n",
    "nrecs['article_id'] = nrecs['ArticleID_index'].map(dict1)\n",
    "nrecs['customer_id'] = nrecs['UserID_index'].map(dict2)"
   ]
  },
  {
   "cell_type": "code",
   "execution_count": 28,
   "id": "d4d8374f",
   "metadata": {
    "execution": {
     "iopub.execute_input": "2022-03-23T23:12:45.007674Z",
     "iopub.status.busy": "2022-03-23T23:12:45.006794Z",
     "iopub.status.idle": "2022-03-23T23:12:45.009465Z",
     "shell.execute_reply": "2022-03-23T23:12:45.008807Z",
     "shell.execute_reply.started": "2022-03-23T21:30:46.738505Z"
    },
    "papermill": {
     "duration": 1.21966,
     "end_time": "2022-03-23T23:12:45.009609",
     "exception": false,
     "start_time": "2022-03-23T23:12:43.789949",
     "status": "completed"
    },
    "tags": []
   },
   "outputs": [],
   "source": [
    "import warnings\n",
    "warnings.filterwarnings('ignore')"
   ]
  },
  {
   "cell_type": "code",
   "execution_count": 29,
   "id": "ce044c6b",
   "metadata": {
    "execution": {
     "iopub.execute_input": "2022-03-23T23:12:47.433888Z",
     "iopub.status.busy": "2022-03-23T23:12:47.433213Z",
     "iopub.status.idle": "2022-03-23T23:12:47.741169Z",
     "shell.execute_reply": "2022-03-23T23:12:47.741711Z",
     "shell.execute_reply.started": "2022-03-23T21:36:16.485826Z"
    },
    "papermill": {
     "duration": 1.526978,
     "end_time": "2022-03-23T23:12:47.741888",
     "exception": false,
     "start_time": "2022-03-23T23:12:46.214910",
     "status": "completed"
    },
    "tags": []
   },
   "outputs": [
    {
     "data": {
      "text/html": [
       "<div>\n",
       "<style scoped>\n",
       "    .dataframe tbody tr th:only-of-type {\n",
       "        vertical-align: middle;\n",
       "    }\n",
       "\n",
       "    .dataframe tbody tr th {\n",
       "        vertical-align: top;\n",
       "    }\n",
       "\n",
       "    .dataframe thead th {\n",
       "        text-align: right;\n",
       "    }\n",
       "</style>\n",
       "<table border=\"1\" class=\"dataframe\">\n",
       "  <thead>\n",
       "    <tr style=\"text-align: right;\">\n",
       "      <th></th>\n",
       "      <th>customer_id</th>\n",
       "      <th>prediction</th>\n",
       "    </tr>\n",
       "  </thead>\n",
       "  <tbody>\n",
       "    <tr>\n",
       "      <th>0</th>\n",
       "      <td>0003e867a930d0d6842f923d6ba7c9b77aba33fe2a0fbf...</td>\n",
       "      <td>[0866261001, 0904076003, 0297078008, 088531500...</td>\n",
       "    </tr>\n",
       "    <tr>\n",
       "      <th>1</th>\n",
       "      <td>0010e8eb18f131e724d6997909af0808adbba057529edb...</td>\n",
       "      <td>[0871638002, 0653275007, 0297078008, 072199000...</td>\n",
       "    </tr>\n",
       "    <tr>\n",
       "      <th>2</th>\n",
       "      <td>001436e2c83cda28548dd668cfc7d621d70d2baf6f6cf0...</td>\n",
       "      <td>[0857347002, 0297078008, 0750330003, 090496100...</td>\n",
       "    </tr>\n",
       "    <tr>\n",
       "      <th>3</th>\n",
       "      <td>0026ebdd70715d8fa2befa14dfed317a1ffe5451aba839...</td>\n",
       "      <td>[0904961001, 0857347002, 0885315003, 087726100...</td>\n",
       "    </tr>\n",
       "    <tr>\n",
       "      <th>4</th>\n",
       "      <td>002faf80a68267264102e08eb4f1f21a59236773e4ab90...</td>\n",
       "      <td>[0825109005, 0757971006, 0316441001, 029707800...</td>\n",
       "    </tr>\n",
       "  </tbody>\n",
       "</table>\n",
       "</div>"
      ],
      "text/plain": [
       "                                         customer_id  \\\n",
       "0  0003e867a930d0d6842f923d6ba7c9b77aba33fe2a0fbf...   \n",
       "1  0010e8eb18f131e724d6997909af0808adbba057529edb...   \n",
       "2  001436e2c83cda28548dd668cfc7d621d70d2baf6f6cf0...   \n",
       "3  0026ebdd70715d8fa2befa14dfed317a1ffe5451aba839...   \n",
       "4  002faf80a68267264102e08eb4f1f21a59236773e4ab90...   \n",
       "\n",
       "                                          prediction  \n",
       "0  [0866261001, 0904076003, 0297078008, 088531500...  \n",
       "1  [0871638002, 0653275007, 0297078008, 072199000...  \n",
       "2  [0857347002, 0297078008, 0750330003, 090496100...  \n",
       "3  [0904961001, 0857347002, 0885315003, 087726100...  \n",
       "4  [0825109005, 0757971006, 0316441001, 029707800...  "
      ]
     },
     "execution_count": 29,
     "metadata": {},
     "output_type": "execute_result"
    }
   ],
   "source": [
    "nrecs = nrecs.sort_values('customer_id')\n",
    "nrecs.reset_index(drop=True, inplace=True)\n",
    "new = nrecs[['customer_id', 'article_id', 'count']]\n",
    "new['prediction'] = list(new.article_id)\n",
    "recs = new[['customer_id', 'prediction']]\n",
    "recs_new = recs['prediction'].groupby([recs.customer_id]).apply(list).reset_index()\n",
    "recs_new.head()"
   ]
  },
  {
   "cell_type": "code",
   "execution_count": 30,
   "id": "0895e9ef",
   "metadata": {
    "execution": {
     "iopub.execute_input": "2022-03-23T23:12:50.199336Z",
     "iopub.status.busy": "2022-03-23T23:12:50.198456Z",
     "iopub.status.idle": "2022-03-23T23:12:55.135811Z",
     "shell.execute_reply": "2022-03-23T23:12:55.136344Z",
     "shell.execute_reply.started": "2022-03-23T22:17:15.281610Z"
    },
    "papermill": {
     "duration": 6.171709,
     "end_time": "2022-03-23T23:12:55.136521",
     "exception": false,
     "start_time": "2022-03-23T23:12:48.964812",
     "status": "completed"
    },
    "tags": []
   },
   "outputs": [
    {
     "data": {
      "text/plain": [
       "(1371980, 1)"
      ]
     },
     "execution_count": 30,
     "metadata": {},
     "output_type": "execute_result"
    }
   ],
   "source": [
    "customers = pd.read_csv('../input/h-and-m-personalized-fashion-recommendations/customers.csv',\n",
    "                       usecols=['customer_id'])\n",
    "customers.shape"
   ]
  },
  {
   "cell_type": "code",
   "execution_count": 31,
   "id": "78d5a0c0",
   "metadata": {
    "execution": {
     "iopub.execute_input": "2022-03-23T23:12:57.360308Z",
     "iopub.status.busy": "2022-03-23T23:12:57.359495Z",
     "iopub.status.idle": "2022-03-23T23:12:57.367869Z",
     "shell.execute_reply": "2022-03-23T23:12:57.367365Z",
     "shell.execute_reply.started": "2022-03-23T22:27:00.994207Z"
    },
    "papermill": {
     "duration": 1.047829,
     "end_time": "2022-03-23T23:12:57.368007",
     "exception": false,
     "start_time": "2022-03-23T23:12:56.320178",
     "status": "completed"
    },
    "tags": []
   },
   "outputs": [],
   "source": [
    "recs_new['prediction'] = list(map(lambda x: ' '.join(x), recs_new['prediction']))"
   ]
  },
  {
   "cell_type": "code",
   "execution_count": 32,
   "id": "a06744c4",
   "metadata": {
    "execution": {
     "iopub.execute_input": "2022-03-23T23:12:59.865804Z",
     "iopub.status.busy": "2022-03-23T23:12:59.864854Z",
     "iopub.status.idle": "2022-03-23T23:13:00.988327Z",
     "shell.execute_reply": "2022-03-23T23:13:00.988827Z",
     "shell.execute_reply.started": "2022-03-23T22:27:05.112020Z"
    },
    "papermill": {
     "duration": 2.421011,
     "end_time": "2022-03-23T23:13:00.989010",
     "exception": false,
     "start_time": "2022-03-23T23:12:58.567999",
     "status": "completed"
    },
    "tags": []
   },
   "outputs": [
    {
     "data": {
      "text/html": [
       "<div>\n",
       "<style scoped>\n",
       "    .dataframe tbody tr th:only-of-type {\n",
       "        vertical-align: middle;\n",
       "    }\n",
       "\n",
       "    .dataframe tbody tr th {\n",
       "        vertical-align: top;\n",
       "    }\n",
       "\n",
       "    .dataframe thead th {\n",
       "        text-align: right;\n",
       "    }\n",
       "</style>\n",
       "<table border=\"1\" class=\"dataframe\">\n",
       "  <thead>\n",
       "    <tr style=\"text-align: right;\">\n",
       "      <th></th>\n",
       "      <th>customer_id</th>\n",
       "      <th>prediction</th>\n",
       "    </tr>\n",
       "  </thead>\n",
       "  <tbody>\n",
       "    <tr>\n",
       "      <th>0</th>\n",
       "      <td>00000dbacae5abe5e23885899a1fa44253a17956c6d1c3...</td>\n",
       "      <td>NaN</td>\n",
       "    </tr>\n",
       "    <tr>\n",
       "      <th>1</th>\n",
       "      <td>0000423b00ade91418cceaf3b26c6af3dd342b51fd051e...</td>\n",
       "      <td>NaN</td>\n",
       "    </tr>\n",
       "    <tr>\n",
       "      <th>2</th>\n",
       "      <td>000058a12d5b43e67d225668fa1f8d618c13dc232df0ca...</td>\n",
       "      <td>NaN</td>\n",
       "    </tr>\n",
       "    <tr>\n",
       "      <th>3</th>\n",
       "      <td>00005ca1c9ed5f5146b52ac8639a40ca9d57aeff4d1bd2...</td>\n",
       "      <td>NaN</td>\n",
       "    </tr>\n",
       "    <tr>\n",
       "      <th>4</th>\n",
       "      <td>00006413d8573cd20ed7128e53b7b13819fe5cfc2d801f...</td>\n",
       "      <td>NaN</td>\n",
       "    </tr>\n",
       "  </tbody>\n",
       "</table>\n",
       "</div>"
      ],
      "text/plain": [
       "                                         customer_id prediction\n",
       "0  00000dbacae5abe5e23885899a1fa44253a17956c6d1c3...        NaN\n",
       "1  0000423b00ade91418cceaf3b26c6af3dd342b51fd051e...        NaN\n",
       "2  000058a12d5b43e67d225668fa1f8d618c13dc232df0ca...        NaN\n",
       "3  00005ca1c9ed5f5146b52ac8639a40ca9d57aeff4d1bd2...        NaN\n",
       "4  00006413d8573cd20ed7128e53b7b13819fe5cfc2d801f...        NaN"
      ]
     },
     "execution_count": 32,
     "metadata": {},
     "output_type": "execute_result"
    }
   ],
   "source": [
    "submission = customers.merge(recs_new, on='customer_id', how='left')\n",
    "submission.head()"
   ]
  },
  {
   "cell_type": "code",
   "execution_count": 33,
   "id": "ab876249",
   "metadata": {
    "execution": {
     "iopub.execute_input": "2022-03-23T23:13:03.465571Z",
     "iopub.status.busy": "2022-03-23T23:13:03.464843Z",
     "iopub.status.idle": "2022-03-23T23:13:05.905585Z",
     "shell.execute_reply": "2022-03-23T23:13:05.904978Z",
     "shell.execute_reply.started": "2022-03-23T22:27:14.205419Z"
    },
    "papermill": {
     "duration": 3.651433,
     "end_time": "2022-03-23T23:13:05.905738",
     "exception": false,
     "start_time": "2022-03-23T23:13:02.254305",
     "status": "completed"
    },
    "tags": []
   },
   "outputs": [],
   "source": [
    "submission.to_csv('submission_als.csv',index=False)"
   ]
  }
 ],
 "metadata": {
  "kernelspec": {
   "display_name": "Python 3",
   "language": "python",
   "name": "python3"
  },
  "language_info": {
   "codemirror_mode": {
    "name": "ipython",
    "version": 3
   },
   "file_extension": ".py",
   "mimetype": "text/x-python",
   "name": "python",
   "nbconvert_exporter": "python",
   "pygments_lexer": "ipython3",
   "version": "3.7.12"
  },
  "papermill": {
   "default_parameters": {},
   "duration": 1024.66137,
   "end_time": "2022-03-23T23:13:08.037693",
   "environment_variables": {},
   "exception": null,
   "input_path": "__notebook__.ipynb",
   "output_path": "__notebook__.ipynb",
   "parameters": {},
   "start_time": "2022-03-23T22:56:03.376323",
   "version": "2.3.3"
  }
 },
 "nbformat": 4,
 "nbformat_minor": 5
}
