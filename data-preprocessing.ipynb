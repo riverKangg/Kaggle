{
 "cells": [
  {
   "cell_type": "code",
   "execution_count": 1,
   "id": "4de02faa",
   "metadata": {
    "_cell_guid": "b1076dfc-b9ad-4769-8c92-a6c4dae69d19",
    "_uuid": "8f2839f25d086af736a60e9eeb907d3b93b6e0e5",
    "execution": {
     "iopub.execute_input": "2022-03-21T06:57:47.434548Z",
     "iopub.status.busy": "2022-03-21T06:57:47.433440Z",
     "iopub.status.idle": "2022-03-21T06:57:47.442529Z",
     "shell.execute_reply": "2022-03-21T06:57:47.441759Z",
     "shell.execute_reply.started": "2022-03-21T05:00:52.852731Z"
    },
    "papermill": {
     "duration": 0.027904,
     "end_time": "2022-03-21T06:57:47.442698",
     "exception": false,
     "start_time": "2022-03-21T06:57:47.414794",
     "status": "completed"
    },
    "tags": []
   },
   "outputs": [],
   "source": [
    "# This Python 3 environment comes with many helpful analytics libraries installed\n",
    "# It is defined by the kaggle/python Docker image: https://github.com/kaggle/docker-python\n",
    "# For example, here's several helpful packages to load\n",
    "\n",
    "import numpy as np # linear algebra\n",
    "import pandas as pd # data processing, CSV file I/O (e.g. pd.read_csv)\n",
    "\n",
    "# Input data files are available in the read-only \"../input/\" directory\n",
    "# For example, running this (by clicking run or pressing Shift+Enter) will list all files under the input directory\n",
    "\n",
    "import os\n",
    "# for dirname, _, filenames in os.walk('/kaggle/input'):\n",
    "#     for filename in filenames:\n",
    "#         print(os.path.join(dirname, filename))\n",
    "        \n",
    "        \n",
    "# You can write up to 20GB to the current directory (/kaggle/working/) that gets preserved as output when you create a version using \"Save & Run All\" \n",
    "# You can also write temporary files to /kaggle/temp/, but they won't be saved outside of the current session\n"
   ]
  },
  {
   "cell_type": "code",
   "execution_count": 2,
   "id": "388ddd6e",
   "metadata": {
    "execution": {
     "iopub.execute_input": "2022-03-21T06:57:47.477136Z",
     "iopub.status.busy": "2022-03-21T06:57:47.476493Z",
     "iopub.status.idle": "2022-03-21T06:57:47.494040Z",
     "shell.execute_reply": "2022-03-21T06:57:47.494556Z",
     "shell.execute_reply.started": "2022-03-21T05:12:20.548272Z"
    },
    "papermill": {
     "duration": 0.037249,
     "end_time": "2022-03-21T06:57:47.494733",
     "exception": false,
     "start_time": "2022-03-21T06:57:47.457484",
     "status": "completed"
    },
    "tags": []
   },
   "outputs": [
    {
     "data": {
      "text/plain": [
       "(4, 86)"
      ]
     },
     "execution_count": 2,
     "metadata": {},
     "output_type": "execute_result"
    }
   ],
   "source": [
    "import glob\n",
    "mypath = '/kaggle/input/h-and-m-personalized-fashion-recommendations/'\n",
    "\n",
    "files = glob.glob(f\"{mypath}*.csv\")\n",
    "images = glob.glob(f\"{mypath}images/*\")\n",
    "\n",
    "len(files), len(images)"
   ]
  },
  {
   "cell_type": "code",
   "execution_count": 3,
   "id": "9951098e",
   "metadata": {
    "execution": {
     "iopub.execute_input": "2022-03-21T06:57:47.527934Z",
     "iopub.status.busy": "2022-03-21T06:57:47.526964Z",
     "iopub.status.idle": "2022-03-21T06:57:47.532711Z",
     "shell.execute_reply": "2022-03-21T06:57:47.533321Z",
     "shell.execute_reply.started": "2022-03-21T05:12:28.240771Z"
    },
    "papermill": {
     "duration": 0.02383,
     "end_time": "2022-03-21T06:57:47.533497",
     "exception": false,
     "start_time": "2022-03-21T06:57:47.509667",
     "status": "completed"
    },
    "tags": []
   },
   "outputs": [
    {
     "data": {
      "text/plain": [
       "['/kaggle/input/h-and-m-personalized-fashion-recommendations/sample_submission.csv',\n",
       " '/kaggle/input/h-and-m-personalized-fashion-recommendations/articles.csv',\n",
       " '/kaggle/input/h-and-m-personalized-fashion-recommendations/transactions_train.csv',\n",
       " '/kaggle/input/h-and-m-personalized-fashion-recommendations/customers.csv']"
      ]
     },
     "execution_count": 3,
     "metadata": {},
     "output_type": "execute_result"
    }
   ],
   "source": [
    "files"
   ]
  },
  {
   "cell_type": "code",
   "execution_count": 4,
   "id": "3afcabd7",
   "metadata": {
    "execution": {
     "iopub.execute_input": "2022-03-21T06:57:47.566541Z",
     "iopub.status.busy": "2022-03-21T06:57:47.565648Z",
     "iopub.status.idle": "2022-03-21T06:58:52.149243Z",
     "shell.execute_reply": "2022-03-21T06:58:52.149735Z",
     "shell.execute_reply.started": "2022-03-21T06:43:37.641717Z"
    },
    "papermill": {
     "duration": 64.601852,
     "end_time": "2022-03-21T06:58:52.149924",
     "exception": false,
     "start_time": "2022-03-21T06:57:47.548072",
     "status": "completed"
    },
    "tags": []
   },
   "outputs": [
    {
     "data": {
      "text/plain": [
       "(31788324, 5)"
      ]
     },
     "execution_count": 4,
     "metadata": {},
     "output_type": "execute_result"
    }
   ],
   "source": [
    "tr = pd.read_csv(f'{mypath}transactions_train.csv')\n",
    "tr.shape"
   ]
  },
  {
   "cell_type": "code",
   "execution_count": 5,
   "id": "092d2345",
   "metadata": {
    "execution": {
     "iopub.execute_input": "2022-03-21T06:58:52.187625Z",
     "iopub.status.busy": "2022-03-21T06:58:52.182890Z",
     "iopub.status.idle": "2022-03-21T06:58:52.199486Z",
     "shell.execute_reply": "2022-03-21T06:58:52.199950Z",
     "shell.execute_reply.started": "2022-03-21T06:45:30.171296Z"
    },
    "papermill": {
     "duration": 0.034832,
     "end_time": "2022-03-21T06:58:52.200149",
     "exception": false,
     "start_time": "2022-03-21T06:58:52.165317",
     "status": "completed"
    },
    "tags": []
   },
   "outputs": [
    {
     "data": {
      "text/html": [
       "<div>\n",
       "<style scoped>\n",
       "    .dataframe tbody tr th:only-of-type {\n",
       "        vertical-align: middle;\n",
       "    }\n",
       "\n",
       "    .dataframe tbody tr th {\n",
       "        vertical-align: top;\n",
       "    }\n",
       "\n",
       "    .dataframe thead th {\n",
       "        text-align: right;\n",
       "    }\n",
       "</style>\n",
       "<table border=\"1\" class=\"dataframe\">\n",
       "  <thead>\n",
       "    <tr style=\"text-align: right;\">\n",
       "      <th></th>\n",
       "      <th>t_dat</th>\n",
       "      <th>customer_id</th>\n",
       "      <th>article_id</th>\n",
       "      <th>price</th>\n",
       "      <th>sales_channel_id</th>\n",
       "    </tr>\n",
       "  </thead>\n",
       "  <tbody>\n",
       "    <tr>\n",
       "      <th>0</th>\n",
       "      <td>2018-09-20</td>\n",
       "      <td>000058a12d5b43e67d225668fa1f8d618c13dc232df0ca...</td>\n",
       "      <td>663713001</td>\n",
       "      <td>0.050831</td>\n",
       "      <td>2</td>\n",
       "    </tr>\n",
       "  </tbody>\n",
       "</table>\n",
       "</div>"
      ],
      "text/plain": [
       "        t_dat                                        customer_id  article_id  \\\n",
       "0  2018-09-20  000058a12d5b43e67d225668fa1f8d618c13dc232df0ca...   663713001   \n",
       "\n",
       "      price  sales_channel_id  \n",
       "0  0.050831                 2  "
      ]
     },
     "execution_count": 5,
     "metadata": {},
     "output_type": "execute_result"
    }
   ],
   "source": [
    "tr.head(1)"
   ]
  },
  {
   "cell_type": "code",
   "execution_count": 6,
   "id": "959aaf39",
   "metadata": {
    "execution": {
     "iopub.execute_input": "2022-03-21T06:58:52.235075Z",
     "iopub.status.busy": "2022-03-21T06:58:52.234132Z",
     "iopub.status.idle": "2022-03-21T06:58:52.239793Z",
     "shell.execute_reply": "2022-03-21T06:58:52.240291Z",
     "shell.execute_reply.started": "2022-03-21T06:45:59.451352Z"
    },
    "papermill": {
     "duration": 0.024741,
     "end_time": "2022-03-21T06:58:52.240458",
     "exception": false,
     "start_time": "2022-03-21T06:58:52.215717",
     "status": "completed"
    },
    "tags": []
   },
   "outputs": [
    {
     "data": {
      "text/plain": [
       "Index(['t_dat', 'customer_id', 'article_id', 'price', 'sales_channel_id'], dtype='object')"
      ]
     },
     "execution_count": 6,
     "metadata": {},
     "output_type": "execute_result"
    }
   ],
   "source": [
    "tr.columns"
   ]
  },
  {
   "cell_type": "markdown",
   "id": "b17a1d9f",
   "metadata": {
    "papermill": {
     "duration": 0.015236,
     "end_time": "2022-03-21T06:58:52.270930",
     "exception": false,
     "start_time": "2022-03-21T06:58:52.255694",
     "status": "completed"
    },
    "tags": []
   },
   "source": [
    "- t_dat : '2018-09-20', '2020-09-22'\n",
    "- price : (1.694915254237288e-05, 0.5915254237288136)\n",
    "- sales_channel_id : 1 or 2 (아마 pc, mo)"
   ]
  },
  {
   "cell_type": "code",
   "execution_count": 7,
   "id": "2cebb583",
   "metadata": {
    "execution": {
     "iopub.execute_input": "2022-03-21T06:58:52.306143Z",
     "iopub.status.busy": "2022-03-21T06:58:52.305162Z",
     "iopub.status.idle": "2022-03-21T06:58:52.400105Z",
     "shell.execute_reply": "2022-03-21T06:58:52.400561Z",
     "shell.execute_reply.started": "2022-03-21T06:47:26.651950Z"
    },
    "papermill": {
     "duration": 0.114115,
     "end_time": "2022-03-21T06:58:52.400741",
     "exception": false,
     "start_time": "2022-03-21T06:58:52.286626",
     "status": "completed"
    },
    "tags": []
   },
   "outputs": [
    {
     "data": {
      "text/plain": [
       "(1.694915254237288e-05, 0.5915254237288136)"
      ]
     },
     "execution_count": 7,
     "metadata": {},
     "output_type": "execute_result"
    }
   ],
   "source": [
    "tr.price.min(), tr.price.max()"
   ]
  },
  {
   "cell_type": "code",
   "execution_count": 8,
   "id": "f7768c5f",
   "metadata": {
    "execution": {
     "iopub.execute_input": "2022-03-21T06:58:52.436304Z",
     "iopub.status.busy": "2022-03-21T06:58:52.435342Z",
     "iopub.status.idle": "2022-03-21T06:58:52.607776Z",
     "shell.execute_reply": "2022-03-21T06:58:52.608348Z",
     "shell.execute_reply.started": "2022-03-21T06:48:12.212231Z"
    },
    "papermill": {
     "duration": 0.192046,
     "end_time": "2022-03-21T06:58:52.608529",
     "exception": false,
     "start_time": "2022-03-21T06:58:52.416483",
     "status": "completed"
    },
    "tags": []
   },
   "outputs": [
    {
     "data": {
      "text/plain": [
       "2    22379862\n",
       "1     9408462\n",
       "Name: sales_channel_id, dtype: int64"
      ]
     },
     "execution_count": 8,
     "metadata": {},
     "output_type": "execute_result"
    }
   ],
   "source": [
    "tr.sales_channel_id.value_counts()"
   ]
  },
  {
   "cell_type": "code",
   "execution_count": 9,
   "id": "aeda0e4d",
   "metadata": {
    "execution": {
     "iopub.execute_input": "2022-03-21T06:58:52.646734Z",
     "iopub.status.busy": "2022-03-21T06:58:52.645722Z",
     "iopub.status.idle": "2022-03-21T06:58:57.669012Z",
     "shell.execute_reply": "2022-03-21T06:58:57.668199Z",
     "shell.execute_reply.started": "2022-03-21T06:28:11.729361Z"
    },
    "papermill": {
     "duration": 5.044708,
     "end_time": "2022-03-21T06:58:57.669184",
     "exception": false,
     "start_time": "2022-03-21T06:58:52.624476",
     "status": "completed"
    },
    "tags": []
   },
   "outputs": [
    {
     "data": {
      "text/html": [
       "<div>\n",
       "<style scoped>\n",
       "    .dataframe tbody tr th:only-of-type {\n",
       "        vertical-align: middle;\n",
       "    }\n",
       "\n",
       "    .dataframe tbody tr th {\n",
       "        vertical-align: top;\n",
       "    }\n",
       "\n",
       "    .dataframe thead th {\n",
       "        text-align: right;\n",
       "    }\n",
       "</style>\n",
       "<table border=\"1\" class=\"dataframe\">\n",
       "  <thead>\n",
       "    <tr style=\"text-align: right;\">\n",
       "      <th></th>\n",
       "      <th>customer_id</th>\n",
       "      <th>prediction</th>\n",
       "    </tr>\n",
       "  </thead>\n",
       "  <tbody>\n",
       "    <tr>\n",
       "      <th>0</th>\n",
       "      <td>00000dbacae5abe5e23885899a1fa44253a17956c6d1c3...</td>\n",
       "      <td>0706016001 0706016002 0372860001 0610776002 07...</td>\n",
       "    </tr>\n",
       "  </tbody>\n",
       "</table>\n",
       "</div>"
      ],
      "text/plain": [
       "                                         customer_id  \\\n",
       "0  00000dbacae5abe5e23885899a1fa44253a17956c6d1c3...   \n",
       "\n",
       "                                          prediction  \n",
       "0  0706016001 0706016002 0372860001 0610776002 07...  "
      ]
     },
     "execution_count": 9,
     "metadata": {},
     "output_type": "execute_result"
    }
   ],
   "source": [
    "submission = pd.read_csv(f'{mypath}sample_submission.csv')\n",
    "submission.head(1)"
   ]
  },
  {
   "cell_type": "code",
   "execution_count": 10,
   "id": "74f58fe5",
   "metadata": {
    "execution": {
     "iopub.execute_input": "2022-03-21T06:58:57.709771Z",
     "iopub.status.busy": "2022-03-21T06:58:57.709067Z",
     "iopub.status.idle": "2022-03-21T06:59:03.390050Z",
     "shell.execute_reply": "2022-03-21T06:59:03.388987Z",
     "shell.execute_reply.started": "2022-03-21T06:33:46.556260Z"
    },
    "papermill": {
     "duration": 5.703074,
     "end_time": "2022-03-21T06:59:03.390215",
     "exception": false,
     "start_time": "2022-03-21T06:58:57.687141",
     "status": "completed"
    },
    "tags": []
   },
   "outputs": [
    {
     "data": {
      "text/plain": [
       "(1371980, 7)"
      ]
     },
     "execution_count": 10,
     "metadata": {},
     "output_type": "execute_result"
    }
   ],
   "source": [
    "customers = pd.read_csv(f'{mypath}customers.csv')\n",
    "customers.shape"
   ]
  },
  {
   "cell_type": "code",
   "execution_count": 11,
   "id": "5c2993d8",
   "metadata": {
    "execution": {
     "iopub.execute_input": "2022-03-21T06:59:03.437683Z",
     "iopub.status.busy": "2022-03-21T06:59:03.436958Z",
     "iopub.status.idle": "2022-03-21T06:59:03.441766Z",
     "shell.execute_reply": "2022-03-21T06:59:03.441282Z",
     "shell.execute_reply.started": "2022-03-21T06:33:50.748844Z"
    },
    "papermill": {
     "duration": 0.034475,
     "end_time": "2022-03-21T06:59:03.441920",
     "exception": false,
     "start_time": "2022-03-21T06:59:03.407445",
     "status": "completed"
    },
    "tags": []
   },
   "outputs": [
    {
     "data": {
      "text/html": [
       "<div>\n",
       "<style scoped>\n",
       "    .dataframe tbody tr th:only-of-type {\n",
       "        vertical-align: middle;\n",
       "    }\n",
       "\n",
       "    .dataframe tbody tr th {\n",
       "        vertical-align: top;\n",
       "    }\n",
       "\n",
       "    .dataframe thead th {\n",
       "        text-align: right;\n",
       "    }\n",
       "</style>\n",
       "<table border=\"1\" class=\"dataframe\">\n",
       "  <thead>\n",
       "    <tr style=\"text-align: right;\">\n",
       "      <th></th>\n",
       "      <th>customer_id</th>\n",
       "      <th>FN</th>\n",
       "      <th>Active</th>\n",
       "      <th>club_member_status</th>\n",
       "      <th>fashion_news_frequency</th>\n",
       "      <th>age</th>\n",
       "      <th>postal_code</th>\n",
       "    </tr>\n",
       "  </thead>\n",
       "  <tbody>\n",
       "    <tr>\n",
       "      <th>0</th>\n",
       "      <td>00000dbacae5abe5e23885899a1fa44253a17956c6d1c3...</td>\n",
       "      <td>NaN</td>\n",
       "      <td>NaN</td>\n",
       "      <td>ACTIVE</td>\n",
       "      <td>NONE</td>\n",
       "      <td>49.0</td>\n",
       "      <td>52043ee2162cf5aa7ee79974281641c6f11a68d276429a...</td>\n",
       "    </tr>\n",
       "  </tbody>\n",
       "</table>\n",
       "</div>"
      ],
      "text/plain": [
       "                                         customer_id  FN  Active  \\\n",
       "0  00000dbacae5abe5e23885899a1fa44253a17956c6d1c3... NaN     NaN   \n",
       "\n",
       "  club_member_status fashion_news_frequency   age  \\\n",
       "0             ACTIVE                   NONE  49.0   \n",
       "\n",
       "                                         postal_code  \n",
       "0  52043ee2162cf5aa7ee79974281641c6f11a68d276429a...  "
      ]
     },
     "execution_count": 11,
     "metadata": {},
     "output_type": "execute_result"
    }
   ],
   "source": [
    "customers.head(1)"
   ]
  },
  {
   "cell_type": "markdown",
   "id": "31bec436",
   "metadata": {
    "papermill": {
     "duration": 0.017366,
     "end_time": "2022-03-21T06:59:03.477966",
     "exception": false,
     "start_time": "2022-03-21T06:59:03.460600",
     "status": "completed"
    },
    "tags": []
   },
   "source": [
    "- FN, Active : 모든 값 1\n",
    "- club_member_status : \n",
    "    - ACTIVE/PRE-CREATE/LEFT CLUB\n",
    "- fashion_news_frequency : 4\n",
    "    - NONE, Regulary, Monthly, None\n",
    "- age : numeric\n",
    "- postal_code : 암호화"
   ]
  },
  {
   "cell_type": "code",
   "execution_count": 12,
   "id": "965b439f",
   "metadata": {
    "execution": {
     "iopub.execute_input": "2022-03-21T06:59:03.519666Z",
     "iopub.status.busy": "2022-03-21T06:59:03.518957Z",
     "iopub.status.idle": "2022-03-21T06:59:03.523355Z",
     "shell.execute_reply": "2022-03-21T06:59:03.522877Z",
     "shell.execute_reply.started": "2022-03-21T06:34:04.726141Z"
    },
    "papermill": {
     "duration": 0.027198,
     "end_time": "2022-03-21T06:59:03.523506",
     "exception": false,
     "start_time": "2022-03-21T06:59:03.496308",
     "status": "completed"
    },
    "tags": []
   },
   "outputs": [
    {
     "data": {
      "text/plain": [
       "Index(['customer_id', 'FN', 'Active', 'club_member_status',\n",
       "       'fashion_news_frequency', 'age', 'postal_code'],\n",
       "      dtype='object')"
      ]
     },
     "execution_count": 12,
     "metadata": {},
     "output_type": "execute_result"
    }
   ],
   "source": [
    "customers.columns"
   ]
  },
  {
   "cell_type": "code",
   "execution_count": 13,
   "id": "ae74bea3",
   "metadata": {
    "execution": {
     "iopub.execute_input": "2022-03-21T06:59:03.564467Z",
     "iopub.status.busy": "2022-03-21T06:59:03.563817Z",
     "iopub.status.idle": "2022-03-21T06:59:04.703133Z",
     "shell.execute_reply": "2022-03-21T06:59:04.702637Z",
     "shell.execute_reply.started": "2022-03-21T05:13:32.602368Z"
    },
    "papermill": {
     "duration": 1.162248,
     "end_time": "2022-03-21T06:59:04.703330",
     "exception": false,
     "start_time": "2022-03-21T06:59:03.541082",
     "status": "completed"
    },
    "tags": []
   },
   "outputs": [
    {
     "data": {
      "text/plain": [
       "(105542, 25)"
      ]
     },
     "execution_count": 13,
     "metadata": {},
     "output_type": "execute_result"
    }
   ],
   "source": [
    "articles = pd.read_csv(f'{mypath}articles.csv')\n",
    "articles.shape"
   ]
  },
  {
   "cell_type": "code",
   "execution_count": 14,
   "id": "c222dddd",
   "metadata": {
    "execution": {
     "iopub.execute_input": "2022-03-21T06:59:04.774140Z",
     "iopub.status.busy": "2022-03-21T06:59:04.767074Z",
     "iopub.status.idle": "2022-03-21T06:59:04.783298Z",
     "shell.execute_reply": "2022-03-21T06:59:04.784097Z",
     "shell.execute_reply.started": "2022-03-21T05:15:08.801122Z"
    },
    "papermill": {
     "duration": 0.062868,
     "end_time": "2022-03-21T06:59:04.784401",
     "exception": false,
     "start_time": "2022-03-21T06:59:04.721533",
     "status": "completed"
    },
    "tags": []
   },
   "outputs": [
    {
     "data": {
      "text/html": [
       "<div>\n",
       "<style scoped>\n",
       "    .dataframe tbody tr th:only-of-type {\n",
       "        vertical-align: middle;\n",
       "    }\n",
       "\n",
       "    .dataframe tbody tr th {\n",
       "        vertical-align: top;\n",
       "    }\n",
       "\n",
       "    .dataframe thead th {\n",
       "        text-align: right;\n",
       "    }\n",
       "</style>\n",
       "<table border=\"1\" class=\"dataframe\">\n",
       "  <thead>\n",
       "    <tr style=\"text-align: right;\">\n",
       "      <th></th>\n",
       "      <th>article_id</th>\n",
       "      <th>product_code</th>\n",
       "      <th>prod_name</th>\n",
       "      <th>product_type_no</th>\n",
       "      <th>product_type_name</th>\n",
       "      <th>product_group_name</th>\n",
       "      <th>graphical_appearance_no</th>\n",
       "      <th>graphical_appearance_name</th>\n",
       "      <th>colour_group_code</th>\n",
       "      <th>colour_group_name</th>\n",
       "      <th>...</th>\n",
       "      <th>department_name</th>\n",
       "      <th>index_code</th>\n",
       "      <th>index_name</th>\n",
       "      <th>index_group_no</th>\n",
       "      <th>index_group_name</th>\n",
       "      <th>section_no</th>\n",
       "      <th>section_name</th>\n",
       "      <th>garment_group_no</th>\n",
       "      <th>garment_group_name</th>\n",
       "      <th>detail_desc</th>\n",
       "    </tr>\n",
       "  </thead>\n",
       "  <tbody>\n",
       "    <tr>\n",
       "      <th>0</th>\n",
       "      <td>108775015</td>\n",
       "      <td>108775</td>\n",
       "      <td>Strap top</td>\n",
       "      <td>253</td>\n",
       "      <td>Vest top</td>\n",
       "      <td>Garment Upper body</td>\n",
       "      <td>1010016</td>\n",
       "      <td>Solid</td>\n",
       "      <td>9</td>\n",
       "      <td>Black</td>\n",
       "      <td>...</td>\n",
       "      <td>Jersey Basic</td>\n",
       "      <td>A</td>\n",
       "      <td>Ladieswear</td>\n",
       "      <td>1</td>\n",
       "      <td>Ladieswear</td>\n",
       "      <td>16</td>\n",
       "      <td>Womens Everyday Basics</td>\n",
       "      <td>1002</td>\n",
       "      <td>Jersey Basic</td>\n",
       "      <td>Jersey top with narrow shoulder straps.</td>\n",
       "    </tr>\n",
       "  </tbody>\n",
       "</table>\n",
       "<p>1 rows × 25 columns</p>\n",
       "</div>"
      ],
      "text/plain": [
       "   article_id  product_code  prod_name  product_type_no product_type_name  \\\n",
       "0   108775015        108775  Strap top              253          Vest top   \n",
       "\n",
       "   product_group_name  graphical_appearance_no graphical_appearance_name  \\\n",
       "0  Garment Upper body                  1010016                     Solid   \n",
       "\n",
       "   colour_group_code colour_group_name  ...  department_name index_code  \\\n",
       "0                  9             Black  ...     Jersey Basic          A   \n",
       "\n",
       "   index_name index_group_no  index_group_name section_no  \\\n",
       "0  Ladieswear              1        Ladieswear         16   \n",
       "\n",
       "             section_name garment_group_no  garment_group_name  \\\n",
       "0  Womens Everyday Basics             1002        Jersey Basic   \n",
       "\n",
       "                               detail_desc  \n",
       "0  Jersey top with narrow shoulder straps.  \n",
       "\n",
       "[1 rows x 25 columns]"
      ]
     },
     "execution_count": 14,
     "metadata": {},
     "output_type": "execute_result"
    }
   ],
   "source": [
    "articles.head(1)"
   ]
  },
  {
   "cell_type": "markdown",
   "id": "7f675ade",
   "metadata": {
    "papermill": {
     "duration": 0.028327,
     "end_time": "2022-03-21T06:59:04.836744",
     "exception": false,
     "start_time": "2022-03-21T06:59:04.808417",
     "status": "completed"
    },
    "tags": []
   },
   "source": [
    "- garment_group : 21, 옷 분류(니트, 저지, 블라우스,,,)\n",
    "- group : 19, 옷 대분류 (상의, 하의, 악세서리,,,)\n",
    "    - type : 132, 옷 분류,\n",
    "- graphical : 30, 옷무늬\n",
    "- colour_group : 50\n",
    "- perceived_colour_value : 8, 명도\n",
    "- perceived_colour_master : 20, 색 대분류\n",
    "- department : 250, 옷 라인업\n",
    "- index_group : 5, 입는사람(남여,,,)\n",
    "    - index : 10, 추가(아동복 사이즈, 여성악세서리 등)\n",
    "- section : 56, 콜렉션\n",
    "- detail_desc : 43404 "
   ]
  },
  {
   "cell_type": "code",
   "execution_count": 15,
   "id": "16de3635",
   "metadata": {
    "execution": {
     "iopub.execute_input": "2022-03-21T06:59:04.894451Z",
     "iopub.status.busy": "2022-03-21T06:59:04.892902Z",
     "iopub.status.idle": "2022-03-21T06:59:04.897414Z",
     "shell.execute_reply": "2022-03-21T06:59:04.896913Z",
     "shell.execute_reply.started": "2022-03-21T05:15:31.647447Z"
    },
    "papermill": {
     "duration": 0.039443,
     "end_time": "2022-03-21T06:59:04.897562",
     "exception": false,
     "start_time": "2022-03-21T06:59:04.858119",
     "status": "completed"
    },
    "tags": []
   },
   "outputs": [
    {
     "data": {
      "text/plain": [
       "Index(['article_id', 'product_code', 'prod_name', 'product_type_no',\n",
       "       'product_type_name', 'product_group_name', 'graphical_appearance_no',\n",
       "       'graphical_appearance_name', 'colour_group_code', 'colour_group_name',\n",
       "       'perceived_colour_value_id', 'perceived_colour_value_name',\n",
       "       'perceived_colour_master_id', 'perceived_colour_master_name',\n",
       "       'department_no', 'department_name', 'index_code', 'index_name',\n",
       "       'index_group_no', 'index_group_name', 'section_no', 'section_name',\n",
       "       'garment_group_no', 'garment_group_name', 'detail_desc'],\n",
       "      dtype='object')"
      ]
     },
     "execution_count": 15,
     "metadata": {},
     "output_type": "execute_result"
    }
   ],
   "source": [
    "articles.columns"
   ]
  },
  {
   "cell_type": "code",
   "execution_count": null,
   "id": "bf8f5a41",
   "metadata": {
    "papermill": {
     "duration": 0.019063,
     "end_time": "2022-03-21T06:59:04.935344",
     "exception": false,
     "start_time": "2022-03-21T06:59:04.916281",
     "status": "completed"
    },
    "tags": []
   },
   "outputs": [],
   "source": []
  }
 ],
 "metadata": {
  "kernelspec": {
   "display_name": "Python 3",
   "language": "python",
   "name": "python3"
  },
  "language_info": {
   "codemirror_mode": {
    "name": "ipython",
    "version": 3
   },
   "file_extension": ".py",
   "mimetype": "text/x-python",
   "name": "python",
   "nbconvert_exporter": "python",
   "pygments_lexer": "ipython3",
   "version": "3.7.12"
  },
  "papermill": {
   "default_parameters": {},
   "duration": 88.605809,
   "end_time": "2022-03-21T06:59:06.570392",
   "environment_variables": {},
   "exception": null,
   "input_path": "__notebook__.ipynb",
   "output_path": "__notebook__.ipynb",
   "parameters": {},
   "start_time": "2022-03-21T06:57:37.964583",
   "version": "2.3.3"
  }
 },
 "nbformat": 4,
 "nbformat_minor": 5
}
