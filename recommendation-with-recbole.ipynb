{
 "cells": [
  {
   "cell_type": "markdown",
   "id": "bf342941",
   "metadata": {
    "editable": false,
    "papermill": {
     "duration": 0.02648,
     "end_time": "2022-03-24T04:04:56.645288",
     "exception": false,
     "start_time": "2022-03-24T04:04:56.618808",
     "status": "completed"
    },
    "tags": []
   },
   "source": [
    "# Recbole using all items for prediction\n",
    "- test 데이터까지 포함하여 예측을 해야함"
   ]
  },
  {
   "cell_type": "code",
   "execution_count": 1,
   "id": "98a470b4",
   "metadata": {
    "_cell_guid": "b1076dfc-b9ad-4769-8c92-a6c4dae69d19",
    "_uuid": "8f2839f25d086af736a60e9eeb907d3b93b6e0e5",
    "editable": false,
    "execution": {
     "iopub.execute_input": "2022-03-24T04:04:56.704810Z",
     "iopub.status.busy": "2022-03-24T04:04:56.703840Z",
     "iopub.status.idle": "2022-03-24T04:04:56.708373Z",
     "shell.execute_reply": "2022-03-24T04:04:56.709058Z",
     "shell.execute_reply.started": "2022-03-24T03:29:03.366328Z"
    },
    "papermill": {
     "duration": 0.03758,
     "end_time": "2022-03-24T04:04:56.709369",
     "exception": false,
     "start_time": "2022-03-24T04:04:56.671789",
     "status": "completed"
    },
    "tags": []
   },
   "outputs": [],
   "source": [
    "import numpy as np\n",
    "import pandas as pd "
   ]
  },
  {
   "cell_type": "code",
   "execution_count": 2,
   "id": "32cee378",
   "metadata": {
    "editable": false,
    "execution": {
     "iopub.execute_input": "2022-03-24T04:04:56.762135Z",
     "iopub.status.busy": "2022-03-24T04:04:56.761097Z",
     "iopub.status.idle": "2022-03-24T04:05:16.309576Z",
     "shell.execute_reply": "2022-03-24T04:05:16.308770Z",
     "shell.execute_reply.started": "2022-03-24T03:29:03.398766Z"
    },
    "papermill": {
     "duration": 19.576438,
     "end_time": "2022-03-24T04:05:16.309742",
     "exception": false,
     "start_time": "2022-03-24T04:04:56.733304",
     "status": "completed"
    },
    "tags": []
   },
   "outputs": [
    {
     "name": "stdout",
     "output_type": "stream",
     "text": [
      "Collecting recbole\r\n",
      "  Downloading recbole-1.0.1-py3-none-any.whl (2.0 MB)\r\n",
      "     |████████████████████████████████| 2.0 MB 888 kB/s            \r\n",
      "\u001b[?25hCollecting colorlog==4.7.2\r\n",
      "  Downloading colorlog-4.7.2-py2.py3-none-any.whl (10 kB)\r\n",
      "Requirement already satisfied: colorama==0.4.4 in /opt/conda/lib/python3.7/site-packages (from recbole) (0.4.4)\r\n",
      "Requirement already satisfied: pyyaml>=5.1.0 in /opt/conda/lib/python3.7/site-packages (from recbole) (6.0)\r\n",
      "Requirement already satisfied: torch>=1.7.0 in /opt/conda/lib/python3.7/site-packages (from recbole) (1.9.1+cpu)\r\n",
      "Requirement already satisfied: tqdm>=4.48.2 in /opt/conda/lib/python3.7/site-packages (from recbole) (4.62.3)\r\n",
      "Requirement already satisfied: numpy>=1.17.2 in /opt/conda/lib/python3.7/site-packages (from recbole) (1.20.3)\r\n",
      "Requirement already satisfied: pandas>=1.0.5 in /opt/conda/lib/python3.7/site-packages (from recbole) (1.3.5)\r\n",
      "Requirement already satisfied: scikit-learn>=0.23.2 in /opt/conda/lib/python3.7/site-packages (from recbole) (1.0.1)\r\n",
      "Requirement already satisfied: tensorboard>=2.5.0 in /opt/conda/lib/python3.7/site-packages (from recbole) (2.6.0)\r\n",
      "Collecting scipy==1.6.0\r\n",
      "  Downloading scipy-1.6.0-cp37-cp37m-manylinux1_x86_64.whl (27.4 MB)\r\n",
      "     |████████████████████████████████| 27.4 MB 64.5 MB/s            \r\n",
      "\u001b[?25hRequirement already satisfied: python-dateutil>=2.7.3 in /opt/conda/lib/python3.7/site-packages (from pandas>=1.0.5->recbole) (2.8.2)\r\n",
      "Requirement already satisfied: pytz>=2017.3 in /opt/conda/lib/python3.7/site-packages (from pandas>=1.0.5->recbole) (2021.3)\r\n",
      "Requirement already satisfied: threadpoolctl>=2.0.0 in /opt/conda/lib/python3.7/site-packages (from scikit-learn>=0.23.2->recbole) (3.0.0)\r\n",
      "Requirement already satisfied: joblib>=0.11 in /opt/conda/lib/python3.7/site-packages (from scikit-learn>=0.23.2->recbole) (1.1.0)\r\n",
      "Requirement already satisfied: tensorboard-plugin-wit>=1.6.0 in /opt/conda/lib/python3.7/site-packages (from tensorboard>=2.5.0->recbole) (1.8.0)\r\n",
      "Requirement already satisfied: werkzeug>=0.11.15 in /opt/conda/lib/python3.7/site-packages (from tensorboard>=2.5.0->recbole) (2.0.2)\r\n",
      "Requirement already satisfied: markdown>=2.6.8 in /opt/conda/lib/python3.7/site-packages (from tensorboard>=2.5.0->recbole) (3.3.6)\r\n",
      "Requirement already satisfied: grpcio>=1.24.3 in /opt/conda/lib/python3.7/site-packages (from tensorboard>=2.5.0->recbole) (1.43.0)\r\n",
      "Requirement already satisfied: google-auth-oauthlib<0.5,>=0.4.1 in /opt/conda/lib/python3.7/site-packages (from tensorboard>=2.5.0->recbole) (0.4.6)\r\n",
      "Requirement already satisfied: setuptools>=41.0.0 in /opt/conda/lib/python3.7/site-packages (from tensorboard>=2.5.0->recbole) (59.5.0)\r\n",
      "Requirement already satisfied: requests<3,>=2.21.0 in /opt/conda/lib/python3.7/site-packages (from tensorboard>=2.5.0->recbole) (2.26.0)\r\n",
      "Requirement already satisfied: google-auth<2,>=1.6.3 in /opt/conda/lib/python3.7/site-packages (from tensorboard>=2.5.0->recbole) (1.35.0)\r\n",
      "Requirement already satisfied: absl-py>=0.4 in /opt/conda/lib/python3.7/site-packages (from tensorboard>=2.5.0->recbole) (0.15.0)\r\n",
      "Requirement already satisfied: protobuf>=3.6.0 in /opt/conda/lib/python3.7/site-packages (from tensorboard>=2.5.0->recbole) (3.19.4)\r\n",
      "Requirement already satisfied: tensorboard-data-server<0.7.0,>=0.6.0 in /opt/conda/lib/python3.7/site-packages (from tensorboard>=2.5.0->recbole) (0.6.1)\r\n",
      "Requirement already satisfied: wheel>=0.26 in /opt/conda/lib/python3.7/site-packages (from tensorboard>=2.5.0->recbole) (0.37.0)\r\n",
      "Requirement already satisfied: typing-extensions in /opt/conda/lib/python3.7/site-packages (from torch>=1.7.0->recbole) (4.1.1)\r\n",
      "Requirement already satisfied: six in /opt/conda/lib/python3.7/site-packages (from absl-py>=0.4->tensorboard>=2.5.0->recbole) (1.16.0)\r\n",
      "Requirement already satisfied: cachetools<5.0,>=2.0.0 in /opt/conda/lib/python3.7/site-packages (from google-auth<2,>=1.6.3->tensorboard>=2.5.0->recbole) (4.2.4)\r\n",
      "Requirement already satisfied: pyasn1-modules>=0.2.1 in /opt/conda/lib/python3.7/site-packages (from google-auth<2,>=1.6.3->tensorboard>=2.5.0->recbole) (0.2.7)\r\n",
      "Requirement already satisfied: rsa<5,>=3.1.4 in /opt/conda/lib/python3.7/site-packages (from google-auth<2,>=1.6.3->tensorboard>=2.5.0->recbole) (4.8)\r\n",
      "Requirement already satisfied: requests-oauthlib>=0.7.0 in /opt/conda/lib/python3.7/site-packages (from google-auth-oauthlib<0.5,>=0.4.1->tensorboard>=2.5.0->recbole) (1.3.0)\r\n",
      "Requirement already satisfied: importlib-metadata>=4.4 in /opt/conda/lib/python3.7/site-packages (from markdown>=2.6.8->tensorboard>=2.5.0->recbole) (4.11.3)\r\n",
      "Requirement already satisfied: charset-normalizer~=2.0.0 in /opt/conda/lib/python3.7/site-packages (from requests<3,>=2.21.0->tensorboard>=2.5.0->recbole) (2.0.9)\r\n",
      "Requirement already satisfied: certifi>=2017.4.17 in /opt/conda/lib/python3.7/site-packages (from requests<3,>=2.21.0->tensorboard>=2.5.0->recbole) (2021.10.8)\r\n",
      "Requirement already satisfied: idna<4,>=2.5 in /opt/conda/lib/python3.7/site-packages (from requests<3,>=2.21.0->tensorboard>=2.5.0->recbole) (3.1)\r\n",
      "Requirement already satisfied: urllib3<1.27,>=1.21.1 in /opt/conda/lib/python3.7/site-packages (from requests<3,>=2.21.0->tensorboard>=2.5.0->recbole) (1.26.7)\r\n",
      "Requirement already satisfied: zipp>=0.5 in /opt/conda/lib/python3.7/site-packages (from importlib-metadata>=4.4->markdown>=2.6.8->tensorboard>=2.5.0->recbole) (3.6.0)\r\n",
      "Requirement already satisfied: pyasn1<0.5.0,>=0.4.6 in /opt/conda/lib/python3.7/site-packages (from pyasn1-modules>=0.2.1->google-auth<2,>=1.6.3->tensorboard>=2.5.0->recbole) (0.4.8)\r\n",
      "Requirement already satisfied: oauthlib>=3.0.0 in /opt/conda/lib/python3.7/site-packages (from requests-oauthlib>=0.7.0->google-auth-oauthlib<0.5,>=0.4.1->tensorboard>=2.5.0->recbole) (3.1.1)\r\n",
      "Installing collected packages: scipy, colorlog, recbole\r\n",
      "  Attempting uninstall: scipy\r\n",
      "    Found existing installation: scipy 1.7.3\r\n",
      "    Uninstalling scipy-1.7.3:\r\n",
      "      Successfully uninstalled scipy-1.7.3\r\n",
      "  Attempting uninstall: colorlog\r\n",
      "    Found existing installation: colorlog 6.6.0\r\n",
      "    Uninstalling colorlog-6.6.0:\r\n",
      "      Successfully uninstalled colorlog-6.6.0\r\n",
      "\u001b[31mERROR: pip's dependency resolver does not currently take into account all the packages that are installed. This behaviour is the source of the following dependency conflicts.\r\n",
      "pymc3 3.11.5 requires scipy<1.8.0,>=1.7.3, but you have scipy 1.6.0 which is incompatible.\r\n",
      "pdpbox 0.2.1 requires matplotlib==3.1.1, but you have matplotlib 3.5.1 which is incompatible.\r\n",
      "featuretools 1.6.0 requires numpy>=1.21.0, but you have numpy 1.20.3 which is incompatible.\r\n",
      "arviz 0.11.4 requires typing-extensions<4,>=3.7.4.3, but you have typing-extensions 4.1.1 which is incompatible.\u001b[0m\r\n",
      "Successfully installed colorlog-4.7.2 recbole-1.0.1 scipy-1.6.0\r\n",
      "\u001b[33mWARNING: Running pip as the 'root' user can result in broken permissions and conflicting behaviour with the system package manager. It is recommended to use a virtual environment instead: https://pip.pypa.io/warnings/venv\u001b[0m\r\n"
     ]
    }
   ],
   "source": [
    "!pip install recbole"
   ]
  },
  {
   "cell_type": "code",
   "execution_count": 3,
   "id": "ec30dd7e",
   "metadata": {
    "editable": false,
    "execution": {
     "iopub.execute_input": "2022-03-24T04:05:16.408441Z",
     "iopub.status.busy": "2022-03-24T04:05:16.407733Z",
     "iopub.status.idle": "2022-03-24T04:06:34.480389Z",
     "shell.execute_reply": "2022-03-24T04:06:34.481016Z",
     "shell.execute_reply.started": "2022-03-24T03:29:20.112023Z"
    },
    "papermill": {
     "duration": 78.125114,
     "end_time": "2022-03-24T04:06:34.481381",
     "exception": false,
     "start_time": "2022-03-24T04:05:16.356267",
     "status": "completed"
    },
    "tags": []
   },
   "outputs": [
    {
     "data": {
      "text/html": [
       "<div>\n",
       "<style scoped>\n",
       "    .dataframe tbody tr th:only-of-type {\n",
       "        vertical-align: middle;\n",
       "    }\n",
       "\n",
       "    .dataframe tbody tr th {\n",
       "        vertical-align: top;\n",
       "    }\n",
       "\n",
       "    .dataframe thead th {\n",
       "        text-align: right;\n",
       "    }\n",
       "</style>\n",
       "<table border=\"1\" class=\"dataframe\">\n",
       "  <thead>\n",
       "    <tr style=\"text-align: right;\">\n",
       "      <th></th>\n",
       "      <th>t_dat</th>\n",
       "      <th>customer_id</th>\n",
       "      <th>article_id</th>\n",
       "      <th>price</th>\n",
       "      <th>sales_channel_id</th>\n",
       "    </tr>\n",
       "  </thead>\n",
       "  <tbody>\n",
       "    <tr>\n",
       "      <th>0</th>\n",
       "      <td>2018-09-20</td>\n",
       "      <td>000058a12d5b43e67d225668fa1f8d618c13dc232df0ca...</td>\n",
       "      <td>0663713001</td>\n",
       "      <td>0.050831</td>\n",
       "      <td>2</td>\n",
       "    </tr>\n",
       "    <tr>\n",
       "      <th>1</th>\n",
       "      <td>2018-09-20</td>\n",
       "      <td>000058a12d5b43e67d225668fa1f8d618c13dc232df0ca...</td>\n",
       "      <td>0541518023</td>\n",
       "      <td>0.030492</td>\n",
       "      <td>2</td>\n",
       "    </tr>\n",
       "    <tr>\n",
       "      <th>2</th>\n",
       "      <td>2018-09-20</td>\n",
       "      <td>00007d2de826758b65a93dd24ce629ed66842531df6699...</td>\n",
       "      <td>0505221004</td>\n",
       "      <td>0.015237</td>\n",
       "      <td>2</td>\n",
       "    </tr>\n",
       "    <tr>\n",
       "      <th>3</th>\n",
       "      <td>2018-09-20</td>\n",
       "      <td>00007d2de826758b65a93dd24ce629ed66842531df6699...</td>\n",
       "      <td>0685687003</td>\n",
       "      <td>0.016932</td>\n",
       "      <td>2</td>\n",
       "    </tr>\n",
       "    <tr>\n",
       "      <th>4</th>\n",
       "      <td>2018-09-20</td>\n",
       "      <td>00007d2de826758b65a93dd24ce629ed66842531df6699...</td>\n",
       "      <td>0685687004</td>\n",
       "      <td>0.016932</td>\n",
       "      <td>2</td>\n",
       "    </tr>\n",
       "  </tbody>\n",
       "</table>\n",
       "</div>"
      ],
      "text/plain": [
       "        t_dat                                        customer_id  article_id  \\\n",
       "0  2018-09-20  000058a12d5b43e67d225668fa1f8d618c13dc232df0ca...  0663713001   \n",
       "1  2018-09-20  000058a12d5b43e67d225668fa1f8d618c13dc232df0ca...  0541518023   \n",
       "2  2018-09-20  00007d2de826758b65a93dd24ce629ed66842531df6699...  0505221004   \n",
       "3  2018-09-20  00007d2de826758b65a93dd24ce629ed66842531df6699...  0685687003   \n",
       "4  2018-09-20  00007d2de826758b65a93dd24ce629ed66842531df6699...  0685687004   \n",
       "\n",
       "      price  sales_channel_id  \n",
       "0  0.050831                 2  \n",
       "1  0.030492                 2  \n",
       "2  0.015237                 2  \n",
       "3  0.016932                 2  \n",
       "4  0.016932                 2  "
      ]
     },
     "execution_count": 3,
     "metadata": {},
     "output_type": "execute_result"
    }
   ],
   "source": [
    "df = pd.read_csv('../input/h-and-m-personalized-fashion-recommendations/transactions_train.csv',\n",
    "                dtype={'article_id':str})\n",
    "df.head()"
   ]
  },
  {
   "cell_type": "code",
   "execution_count": 4,
   "id": "f0cffb34",
   "metadata": {
    "editable": false,
    "execution": {
     "iopub.execute_input": "2022-03-24T04:06:34.577329Z",
     "iopub.status.busy": "2022-03-24T04:06:34.576502Z",
     "iopub.status.idle": "2022-03-24T04:06:41.742536Z",
     "shell.execute_reply": "2022-03-24T04:06:41.741802Z",
     "shell.execute_reply.started": "2022-03-24T03:30:20.420955Z"
    },
    "papermill": {
     "duration": 7.215257,
     "end_time": "2022-03-24T04:06:41.742682",
     "exception": false,
     "start_time": "2022-03-24T04:06:34.527425",
     "status": "completed"
    },
    "tags": []
   },
   "outputs": [
    {
     "data": {
      "text/html": [
       "<div>\n",
       "<style scoped>\n",
       "    .dataframe tbody tr th:only-of-type {\n",
       "        vertical-align: middle;\n",
       "    }\n",
       "\n",
       "    .dataframe tbody tr th {\n",
       "        vertical-align: top;\n",
       "    }\n",
       "\n",
       "    .dataframe thead th {\n",
       "        text-align: right;\n",
       "    }\n",
       "</style>\n",
       "<table border=\"1\" class=\"dataframe\">\n",
       "  <thead>\n",
       "    <tr style=\"text-align: right;\">\n",
       "      <th></th>\n",
       "      <th>t_dat</th>\n",
       "      <th>customer_id</th>\n",
       "      <th>article_id</th>\n",
       "      <th>price</th>\n",
       "      <th>sales_channel_id</th>\n",
       "      <th>timestamp</th>\n",
       "    </tr>\n",
       "  </thead>\n",
       "  <tbody>\n",
       "    <tr>\n",
       "      <th>0</th>\n",
       "      <td>2018-09-20</td>\n",
       "      <td>000058a12d5b43e67d225668fa1f8d618c13dc232df0ca...</td>\n",
       "      <td>0663713001</td>\n",
       "      <td>0.050831</td>\n",
       "      <td>2</td>\n",
       "      <td>1537401600</td>\n",
       "    </tr>\n",
       "    <tr>\n",
       "      <th>1</th>\n",
       "      <td>2018-09-20</td>\n",
       "      <td>000058a12d5b43e67d225668fa1f8d618c13dc232df0ca...</td>\n",
       "      <td>0541518023</td>\n",
       "      <td>0.030492</td>\n",
       "      <td>2</td>\n",
       "      <td>1537401600</td>\n",
       "    </tr>\n",
       "    <tr>\n",
       "      <th>2</th>\n",
       "      <td>2018-09-20</td>\n",
       "      <td>00007d2de826758b65a93dd24ce629ed66842531df6699...</td>\n",
       "      <td>0505221004</td>\n",
       "      <td>0.015237</td>\n",
       "      <td>2</td>\n",
       "      <td>1537401600</td>\n",
       "    </tr>\n",
       "    <tr>\n",
       "      <th>3</th>\n",
       "      <td>2018-09-20</td>\n",
       "      <td>00007d2de826758b65a93dd24ce629ed66842531df6699...</td>\n",
       "      <td>0685687003</td>\n",
       "      <td>0.016932</td>\n",
       "      <td>2</td>\n",
       "      <td>1537401600</td>\n",
       "    </tr>\n",
       "    <tr>\n",
       "      <th>4</th>\n",
       "      <td>2018-09-20</td>\n",
       "      <td>00007d2de826758b65a93dd24ce629ed66842531df6699...</td>\n",
       "      <td>0685687004</td>\n",
       "      <td>0.016932</td>\n",
       "      <td>2</td>\n",
       "      <td>1537401600</td>\n",
       "    </tr>\n",
       "  </tbody>\n",
       "</table>\n",
       "</div>"
      ],
      "text/plain": [
       "       t_dat                                        customer_id  article_id  \\\n",
       "0 2018-09-20  000058a12d5b43e67d225668fa1f8d618c13dc232df0ca...  0663713001   \n",
       "1 2018-09-20  000058a12d5b43e67d225668fa1f8d618c13dc232df0ca...  0541518023   \n",
       "2 2018-09-20  00007d2de826758b65a93dd24ce629ed66842531df6699...  0505221004   \n",
       "3 2018-09-20  00007d2de826758b65a93dd24ce629ed66842531df6699...  0685687003   \n",
       "4 2018-09-20  00007d2de826758b65a93dd24ce629ed66842531df6699...  0685687004   \n",
       "\n",
       "      price  sales_channel_id   timestamp  \n",
       "0  0.050831                 2  1537401600  \n",
       "1  0.030492                 2  1537401600  \n",
       "2  0.015237                 2  1537401600  \n",
       "3  0.016932                 2  1537401600  \n",
       "4  0.016932                 2  1537401600  "
      ]
     },
     "execution_count": 4,
     "metadata": {},
     "output_type": "execute_result"
    }
   ],
   "source": [
    "df['t_dat'] = pd.to_datetime(df['t_dat'], format='%Y-%m-%d')\n",
    "df['timestamp'] = df.t_dat.values.astype(np.int64) // 10 ** 9\n",
    "df.head()"
   ]
  },
  {
   "cell_type": "code",
   "execution_count": 5,
   "id": "b9ddd03a",
   "metadata": {
    "editable": false,
    "execution": {
     "iopub.execute_input": "2022-03-24T04:06:41.859483Z",
     "iopub.status.busy": "2022-03-24T04:06:41.858371Z",
     "iopub.status.idle": "2022-03-24T04:06:42.970977Z",
     "shell.execute_reply": "2022-03-24T04:06:42.970382Z",
     "shell.execute_reply.started": "2022-03-24T03:30:26.723901Z"
    },
    "papermill": {
     "duration": 1.181969,
     "end_time": "2022-03-24T04:06:42.971122",
     "exception": false,
     "start_time": "2022-03-24T04:06:41.789153",
     "status": "completed"
    },
    "tags": []
   },
   "outputs": [
    {
     "data": {
      "text/plain": [
       "(Timestamp('2020-04-01 00:00:00'), Timestamp('2020-09-22 00:00:00'))"
      ]
     },
     "execution_count": 5,
     "metadata": {},
     "output_type": "execute_result"
    }
   ],
   "source": [
    "t = df[df['timestamp'] > 1585620000]\n",
    "t.t_dat.min(), t.t_dat.max()"
   ]
  },
  {
   "cell_type": "code",
   "execution_count": 6,
   "id": "0dff566b",
   "metadata": {
    "editable": false,
    "execution": {
     "iopub.execute_input": "2022-03-24T04:06:43.066898Z",
     "iopub.status.busy": "2022-03-24T04:06:43.066232Z",
     "iopub.status.idle": "2022-03-24T04:06:44.262853Z",
     "shell.execute_reply": "2022-03-24T04:06:44.262214Z",
     "shell.execute_reply.started": "2022-03-24T03:30:27.777721Z"
    },
    "papermill": {
     "duration": 1.245714,
     "end_time": "2022-03-24T04:06:44.263008",
     "exception": false,
     "start_time": "2022-03-24T04:06:43.017294",
     "status": "completed"
    },
    "tags": []
   },
   "outputs": [
    {
     "data": {
      "text/html": [
       "<div>\n",
       "<style scoped>\n",
       "    .dataframe tbody tr th:only-of-type {\n",
       "        vertical-align: middle;\n",
       "    }\n",
       "\n",
       "    .dataframe tbody tr th {\n",
       "        vertical-align: top;\n",
       "    }\n",
       "\n",
       "    .dataframe thead th {\n",
       "        text-align: right;\n",
       "    }\n",
       "</style>\n",
       "<table border=\"1\" class=\"dataframe\">\n",
       "  <thead>\n",
       "    <tr style=\"text-align: right;\">\n",
       "      <th></th>\n",
       "      <th>user_id:token</th>\n",
       "      <th>item_id:token</th>\n",
       "      <th>timestamp:float</th>\n",
       "    </tr>\n",
       "  </thead>\n",
       "  <tbody>\n",
       "    <tr>\n",
       "      <th>23934157</th>\n",
       "      <td>000058a12d5b43e67d225668fa1f8d618c13dc232df0ca...</td>\n",
       "      <td>0727808001</td>\n",
       "      <td>1585699200</td>\n",
       "    </tr>\n",
       "    <tr>\n",
       "      <th>23934158</th>\n",
       "      <td>000058a12d5b43e67d225668fa1f8d618c13dc232df0ca...</td>\n",
       "      <td>0727808007</td>\n",
       "      <td>1585699200</td>\n",
       "    </tr>\n",
       "    <tr>\n",
       "      <th>23934159</th>\n",
       "      <td>000563485cbb7850b0a93c6606f89c5b961c6647d1bd48...</td>\n",
       "      <td>0567532015</td>\n",
       "      <td>1585699200</td>\n",
       "    </tr>\n",
       "    <tr>\n",
       "      <th>23934160</th>\n",
       "      <td>000563485cbb7850b0a93c6606f89c5b961c6647d1bd48...</td>\n",
       "      <td>0706104009</td>\n",
       "      <td>1585699200</td>\n",
       "    </tr>\n",
       "    <tr>\n",
       "      <th>23934161</th>\n",
       "      <td>00083cda041544b2fbb0e0d2905ad17da7cf1007526fb4...</td>\n",
       "      <td>0783504004</td>\n",
       "      <td>1585699200</td>\n",
       "    </tr>\n",
       "    <tr>\n",
       "      <th>...</th>\n",
       "      <td>...</td>\n",
       "      <td>...</td>\n",
       "      <td>...</td>\n",
       "    </tr>\n",
       "    <tr>\n",
       "      <th>31788319</th>\n",
       "      <td>fff2282977442e327b45d8c89afde25617d00124d0f999...</td>\n",
       "      <td>0929511001</td>\n",
       "      <td>1600732800</td>\n",
       "    </tr>\n",
       "    <tr>\n",
       "      <th>31788320</th>\n",
       "      <td>fff2282977442e327b45d8c89afde25617d00124d0f999...</td>\n",
       "      <td>0891322004</td>\n",
       "      <td>1600732800</td>\n",
       "    </tr>\n",
       "    <tr>\n",
       "      <th>31788321</th>\n",
       "      <td>fff380805474b287b05cb2a7507b9a013482f7dd0bce0e...</td>\n",
       "      <td>0918325001</td>\n",
       "      <td>1600732800</td>\n",
       "    </tr>\n",
       "    <tr>\n",
       "      <th>31788322</th>\n",
       "      <td>fff4d3a8b1f3b60af93e78c30a7cb4cf75edaf2590d3e5...</td>\n",
       "      <td>0833459002</td>\n",
       "      <td>1600732800</td>\n",
       "    </tr>\n",
       "    <tr>\n",
       "      <th>31788323</th>\n",
       "      <td>fffef3b6b73545df065b521e19f64bf6fe93bfd450ab20...</td>\n",
       "      <td>0898573003</td>\n",
       "      <td>1600732800</td>\n",
       "    </tr>\n",
       "  </tbody>\n",
       "</table>\n",
       "<p>7854167 rows × 3 columns</p>\n",
       "</div>"
      ],
      "text/plain": [
       "                                              user_id:token item_id:token  \\\n",
       "23934157  000058a12d5b43e67d225668fa1f8d618c13dc232df0ca...    0727808001   \n",
       "23934158  000058a12d5b43e67d225668fa1f8d618c13dc232df0ca...    0727808007   \n",
       "23934159  000563485cbb7850b0a93c6606f89c5b961c6647d1bd48...    0567532015   \n",
       "23934160  000563485cbb7850b0a93c6606f89c5b961c6647d1bd48...    0706104009   \n",
       "23934161  00083cda041544b2fbb0e0d2905ad17da7cf1007526fb4...    0783504004   \n",
       "...                                                     ...           ...   \n",
       "31788319  fff2282977442e327b45d8c89afde25617d00124d0f999...    0929511001   \n",
       "31788320  fff2282977442e327b45d8c89afde25617d00124d0f999...    0891322004   \n",
       "31788321  fff380805474b287b05cb2a7507b9a013482f7dd0bce0e...    0918325001   \n",
       "31788322  fff4d3a8b1f3b60af93e78c30a7cb4cf75edaf2590d3e5...    0833459002   \n",
       "31788323  fffef3b6b73545df065b521e19f64bf6fe93bfd450ab20...    0898573003   \n",
       "\n",
       "          timestamp:float  \n",
       "23934157       1585699200  \n",
       "23934158       1585699200  \n",
       "23934159       1585699200  \n",
       "23934160       1585699200  \n",
       "23934161       1585699200  \n",
       "...                   ...  \n",
       "31788319       1600732800  \n",
       "31788320       1600732800  \n",
       "31788321       1600732800  \n",
       "31788322       1600732800  \n",
       "31788323       1600732800  \n",
       "\n",
       "[7854167 rows x 3 columns]"
      ]
     },
     "execution_count": 6,
     "metadata": {},
     "output_type": "execute_result"
    }
   ],
   "source": [
    "temp = df[df['timestamp'] > 1585620000][['customer_id', 'article_id', 'timestamp']].rename(\n",
    "    columns={'customer_id': 'user_id:token', 'article_id': 'item_id:token', 'timestamp': 'timestamp:float'})\n",
    "temp"
   ]
  },
  {
   "cell_type": "code",
   "execution_count": 7,
   "id": "6c7a8aa1",
   "metadata": {
    "editable": false,
    "execution": {
     "iopub.execute_input": "2022-03-24T04:06:44.360045Z",
     "iopub.status.busy": "2022-03-24T04:06:44.359395Z",
     "iopub.status.idle": "2022-03-24T04:07:25.457412Z",
     "shell.execute_reply": "2022-03-24T04:07:25.458029Z",
     "shell.execute_reply.started": "2022-03-24T03:30:28.903376Z"
    },
    "papermill": {
     "duration": 41.148464,
     "end_time": "2022-03-24T04:07:25.458239",
     "exception": false,
     "start_time": "2022-03-24T04:06:44.309775",
     "status": "completed"
    },
    "tags": []
   },
   "outputs": [],
   "source": [
    "!mkdir /kaggle/working/recbox_data\n",
    "temp.to_csv('/kaggle/working/recbox_data/recbox_data.inter', index=False, sep='\\t')"
   ]
  },
  {
   "cell_type": "code",
   "execution_count": 8,
   "id": "72e972a7",
   "metadata": {
    "editable": false,
    "execution": {
     "iopub.execute_input": "2022-03-24T04:07:25.746701Z",
     "iopub.status.busy": "2022-03-24T04:07:25.745512Z",
     "iopub.status.idle": "2022-03-24T04:07:25.750923Z",
     "shell.execute_reply": "2022-03-24T04:07:25.750231Z",
     "shell.execute_reply.started": "2022-03-24T03:31:03.966376Z"
    },
    "papermill": {
     "duration": 0.244144,
     "end_time": "2022-03-24T04:07:25.751084",
     "exception": false,
     "start_time": "2022-03-24T04:07:25.506940",
     "status": "completed"
    },
    "tags": []
   },
   "outputs": [
    {
     "data": {
      "text/plain": [
       "34"
      ]
     },
     "execution_count": 8,
     "metadata": {},
     "output_type": "execute_result"
    }
   ],
   "source": [
    "import gc\n",
    "del temp\n",
    "gc.collect()"
   ]
  },
  {
   "cell_type": "code",
   "execution_count": 9,
   "id": "06f2f971",
   "metadata": {
    "editable": false,
    "execution": {
     "iopub.execute_input": "2022-03-24T04:07:25.852627Z",
     "iopub.status.busy": "2022-03-24T04:07:25.851967Z",
     "iopub.status.idle": "2022-03-24T04:07:28.299579Z",
     "shell.execute_reply": "2022-03-24T04:07:28.298741Z",
     "shell.execute_reply.started": "2022-03-24T03:31:04.081515Z"
    },
    "papermill": {
     "duration": 2.500787,
     "end_time": "2022-03-24T04:07:28.299726",
     "exception": false,
     "start_time": "2022-03-24T04:07:25.798939",
     "status": "completed"
    },
    "tags": []
   },
   "outputs": [],
   "source": [
    "import logging\n",
    "from logging import getLogger\n",
    "from recbole.config import Config\n",
    "from recbole.data import create_dataset, data_preparation\n",
    "from recbole.model.sequential_recommender import GRU4Rec\n",
    "from recbole.trainer import Trainer\n",
    "from recbole.utils import init_seed, init_logger"
   ]
  },
  {
   "cell_type": "code",
   "execution_count": 10,
   "id": "d8221126",
   "metadata": {
    "editable": false,
    "execution": {
     "iopub.execute_input": "2022-03-24T04:07:28.410205Z",
     "iopub.status.busy": "2022-03-24T04:07:28.402654Z",
     "iopub.status.idle": "2022-03-24T04:07:28.545590Z",
     "shell.execute_reply": "2022-03-24T04:07:28.544964Z",
     "shell.execute_reply.started": "2022-03-24T03:31:06.455345Z"
    },
    "papermill": {
     "duration": 0.197172,
     "end_time": "2022-03-24T04:07:28.545738",
     "exception": false,
     "start_time": "2022-03-24T04:07:28.348566",
     "status": "completed"
    },
    "tags": []
   },
   "outputs": [],
   "source": [
    "parameter_dict = {\n",
    "    'data_path': '/kaggle/working',\n",
    "    'USER_ID_FIELD': 'user_id',\n",
    "    'ITEM_ID_FIELD': 'item_id',\n",
    "    'TIME_FIELD': 'timestamp',\n",
    "    'user_inter_num_interval': \"[40,inf)\",\n",
    "    'item_inter_num_interval': \"[40,inf)\",\n",
    "    'load_col': {'inter': ['user_id', 'item_id', 'timestamp']},\n",
    "    'neg_sampling': None,\n",
    "    'epochs': 2,\n",
    "    'eval_args': {\n",
    "        'split': {'RS': [9, 0, 1]},\n",
    "        'group_by': 'user',\n",
    "        'order': 'TO',\n",
    "        'mode': 'full'}\n",
    "}\n",
    "config = Config(model='GRU4Rec', dataset='recbox_data', config_dict=parameter_dict)\n",
    "\n",
    "# init random seed\n",
    "init_seed(config['seed'], config['reproducibility'])\n",
    "\n",
    "# logger initialization\n",
    "init_logger(config)\n",
    "logger = getLogger()\n",
    "# Create handlers\n",
    "c_handler = logging.StreamHandler()\n",
    "c_handler.setLevel(logging.INFO)\n",
    "logger.addHandler(c_handler)\n",
    "\n",
    "# write config info into log\n",
    "# logger.info(config)"
   ]
  },
  {
   "cell_type": "code",
   "execution_count": 11,
   "id": "34d859f7",
   "metadata": {
    "editable": false,
    "execution": {
     "iopub.execute_input": "2022-03-24T04:07:28.648357Z",
     "iopub.status.busy": "2022-03-24T04:07:28.647303Z",
     "iopub.status.idle": "2022-03-24T04:08:56.074660Z",
     "shell.execute_reply": "2022-03-24T04:08:56.060608Z",
     "shell.execute_reply.started": "2022-03-24T03:31:06.610985Z"
    },
    "papermill": {
     "duration": 87.479822,
     "end_time": "2022-03-24T04:08:56.074817",
     "exception": false,
     "start_time": "2022-03-24T04:07:28.594995",
     "status": "completed"
    },
    "tags": []
   },
   "outputs": [
    {
     "name": "stderr",
     "output_type": "stream",
     "text": [
      "recbox_data\n",
      "The number of users: 15459\n",
      "Average actions of users: 59.21956268598784\n",
      "The number of items: 7330\n",
      "Average actions of items: 124.9032610178742\n",
      "The number of inters: 915416\n",
      "The sparsity of the dataset: 99.19214553975321%\n",
      "Remain Fields: ['user_id', 'item_id', 'timestamp']\n"
     ]
    }
   ],
   "source": [
    "dataset = create_dataset(config)\n",
    "logger.info(dataset)"
   ]
  },
  {
   "cell_type": "code",
   "execution_count": 12,
   "id": "685a1569",
   "metadata": {
    "editable": false,
    "execution": {
     "iopub.execute_input": "2022-03-24T04:08:56.194113Z",
     "iopub.status.busy": "2022-03-24T04:08:56.193371Z",
     "iopub.status.idle": "2022-03-24T04:09:15.735332Z",
     "shell.execute_reply": "2022-03-24T04:09:15.730480Z",
     "shell.execute_reply.started": "2022-03-24T03:32:19.559339Z"
    },
    "papermill": {
     "duration": 19.607668,
     "end_time": "2022-03-24T04:09:15.735510",
     "exception": false,
     "start_time": "2022-03-24T04:08:56.127842",
     "status": "completed"
    },
    "tags": []
   },
   "outputs": [
    {
     "name": "stderr",
     "output_type": "stream",
     "text": [
      "[Training]: train_batch_size = [2048] negative sampling: [None]\n",
      "[Evaluation]: eval_batch_size = [4096] eval_args: [{'split': {'RS': [9, 0, 1]}, 'group_by': 'user', 'order': 'TO', 'mode': 'full'}]\n"
     ]
    }
   ],
   "source": [
    "train_data, valid_data, test_data = data_preparation(config, dataset)"
   ]
  },
  {
   "cell_type": "code",
   "execution_count": 13,
   "id": "8145c10a",
   "metadata": {
    "editable": false,
    "execution": {
     "iopub.execute_input": "2022-03-24T04:09:15.866072Z",
     "iopub.status.busy": "2022-03-24T04:09:15.865271Z",
     "iopub.status.idle": "2022-03-24T04:34:48.597552Z",
     "shell.execute_reply": "2022-03-24T04:34:48.591129Z",
     "shell.execute_reply.started": "2022-03-24T03:32:37.566654Z"
    },
    "papermill": {
     "duration": 1532.802214,
     "end_time": "2022-03-24T04:34:48.597787",
     "exception": false,
     "start_time": "2022-03-24T04:09:15.795573",
     "status": "completed"
    },
    "tags": []
   },
   "outputs": [
    {
     "name": "stderr",
     "output_type": "stream",
     "text": [
      "GRU4Rec(\n",
      "  (item_embedding): Embedding(7330, 64, padding_idx=0)\n",
      "  (emb_dropout): Dropout(p=0.3, inplace=False)\n",
      "  (gru_layers): GRU(64, 128, bias=False, batch_first=True)\n",
      "  (dense): Linear(in_features=128, out_features=64, bias=True)\n",
      "  (loss_fct): CrossEntropyLoss()\n",
      ")\n",
      "Trainable parameters: 551104\n",
      "epoch 0 training [time: 762.46s, train loss: 3385.1080]\n",
      "Saving current: saved/GRU4Rec-Mar-24-2022_04-09-20.pth\n",
      "epoch 1 training [time: 765.14s, train loss: 3260.3123]\n",
      "Saving current: saved/GRU4Rec-Mar-24-2022_04-09-20.pth\n"
     ]
    }
   ],
   "source": [
    "# model loading and initialization\n",
    "model = GRU4Rec(config, train_data.dataset).to(config['device'])\n",
    "logger.info(model)\n",
    "\n",
    "# trainer loading and initialization\n",
    "trainer = Trainer(config, model)\n",
    "\n",
    "# model training\n",
    "best_valid_score, best_valid_result = trainer.fit(train_data)"
   ]
  },
  {
   "cell_type": "code",
   "execution_count": 14,
   "id": "050e901c",
   "metadata": {
    "editable": false,
    "execution": {
     "iopub.execute_input": "2022-03-24T04:34:48.732697Z",
     "iopub.status.busy": "2022-03-24T04:34:48.732066Z",
     "iopub.status.idle": "2022-03-24T04:34:48.737461Z",
     "shell.execute_reply": "2022-03-24T04:34:48.737963Z",
     "shell.execute_reply.started": "2022-03-24T03:33:09.238578Z"
    },
    "papermill": {
     "duration": 0.07486,
     "end_time": "2022-03-24T04:34:48.738133",
     "exception": false,
     "start_time": "2022-03-24T04:34:48.663273",
     "status": "completed"
    },
    "tags": []
   },
   "outputs": [
    {
     "data": {
      "text/plain": [
       "GRU4Rec(\n",
       "  (item_embedding): Embedding(7330, 64, padding_idx=0)\n",
       "  (emb_dropout): Dropout(p=0.3, inplace=False)\n",
       "  (gru_layers): GRU(64, 128, bias=False, batch_first=True)\n",
       "  (dense): Linear(in_features=128, out_features=64, bias=True)\n",
       "  (loss_fct): CrossEntropyLoss()\n",
       ")"
      ]
     },
     "execution_count": 14,
     "metadata": {},
     "output_type": "execute_result"
    }
   ],
   "source": [
    "model.eval()"
   ]
  },
  {
   "cell_type": "code",
   "execution_count": 15,
   "id": "42c9741a",
   "metadata": {
    "editable": false,
    "execution": {
     "iopub.execute_input": "2022-03-24T04:34:48.873270Z",
     "iopub.status.busy": "2022-03-24T04:34:48.872614Z",
     "iopub.status.idle": "2022-03-24T04:34:48.884265Z",
     "shell.execute_reply": "2022-03-24T04:34:48.884777Z",
     "shell.execute_reply.started": "2022-03-24T03:33:09.247103Z"
    },
    "papermill": {
     "duration": 0.080957,
     "end_time": "2022-03-24T04:34:48.884964",
     "exception": false,
     "start_time": "2022-03-24T04:34:48.804007",
     "status": "completed"
    },
    "tags": []
   },
   "outputs": [],
   "source": [
    "import torch\n",
    "from recbole.data.interaction import Interaction\n",
    "\n",
    "def add_last_item(old_interaction, last_item_id, max_len=50):\n",
    "    new_seq_items = old_interaction['item_id_list'][-1]\n",
    "    if old_interaction['item_length'][-1].item() < max_len:\n",
    "        new_seq_items[old_interaction['item_length'][-1].item()] = last_item_id\n",
    "    else:\n",
    "        new_seq_items = torch.roll(new_seq_items, -1)\n",
    "        new_seq_items[-1] = last_item_id\n",
    "    return new_seq_items.view(1, len(new_seq_items))\n",
    "\n",
    "def predict_for_all_item(external_user_id, dataset, model):\n",
    "    model.eval()\n",
    "    with torch.no_grad():\n",
    "        uid_series = dataset.token2id(dataset.uid_field, [external_user_id])\n",
    "        index = np.isin(dataset[dataset.uid_field].numpy(), uid_series)\n",
    "        input_interaction = dataset[index]\n",
    "        test = {\n",
    "            'item_id_list': add_last_item(input_interaction, \n",
    "                                          input_interaction['item_id'][-1].item(), model.max_seq_length),\n",
    "            'item_length': torch.tensor(\n",
    "                [input_interaction['item_length'][-1].item() + 1\n",
    "                 if input_interaction['item_length'][-1].item() < model.max_seq_length else model.max_seq_length])\n",
    "        }\n",
    "        new_inter = Interaction(test)\n",
    "        new_inter = new_inter.to(config['device'])\n",
    "        new_scores = model.full_sort_predict(new_inter)\n",
    "        new_scores = new_scores.view(-1, test_data.dataset.item_num)\n",
    "        new_scores[:, 0] = -np.inf  # set scores of [pad] to -inf\n",
    "    return torch.topk(new_scores, 10)"
   ]
  },
  {
   "cell_type": "code",
   "execution_count": 16,
   "id": "7e5a26b4",
   "metadata": {
    "editable": false,
    "execution": {
     "iopub.execute_input": "2022-03-24T04:34:49.021346Z",
     "iopub.status.busy": "2022-03-24T04:34:49.020662Z",
     "iopub.status.idle": "2022-03-24T04:35:01.793250Z",
     "shell.execute_reply": "2022-03-24T04:35:01.793757Z",
     "shell.execute_reply.started": "2022-03-24T03:33:09.261419Z"
    },
    "papermill": {
     "duration": 12.842518,
     "end_time": "2022-03-24T04:35:01.793943",
     "exception": false,
     "start_time": "2022-03-24T04:34:48.951425",
     "status": "completed"
    },
    "tags": []
   },
   "outputs": [
    {
     "data": {
      "text/html": [
       "<div>\n",
       "<style scoped>\n",
       "    .dataframe tbody tr th:only-of-type {\n",
       "        vertical-align: middle;\n",
       "    }\n",
       "\n",
       "    .dataframe tbody tr th {\n",
       "        vertical-align: top;\n",
       "    }\n",
       "\n",
       "    .dataframe thead th {\n",
       "        text-align: right;\n",
       "    }\n",
       "</style>\n",
       "<table border=\"1\" class=\"dataframe\">\n",
       "  <thead>\n",
       "    <tr style=\"text-align: right;\">\n",
       "      <th></th>\n",
       "      <th>user_id:token\\titem_id:token\\ttimestamp:float</th>\n",
       "    </tr>\n",
       "  </thead>\n",
       "  <tbody>\n",
       "    <tr>\n",
       "      <th>0</th>\n",
       "      <td>000058a12d5b43e67d225668fa1f8d618c13dc232df0ca...</td>\n",
       "    </tr>\n",
       "    <tr>\n",
       "      <th>1</th>\n",
       "      <td>000058a12d5b43e67d225668fa1f8d618c13dc232df0ca...</td>\n",
       "    </tr>\n",
       "    <tr>\n",
       "      <th>2</th>\n",
       "      <td>000563485cbb7850b0a93c6606f89c5b961c6647d1bd48...</td>\n",
       "    </tr>\n",
       "    <tr>\n",
       "      <th>3</th>\n",
       "      <td>000563485cbb7850b0a93c6606f89c5b961c6647d1bd48...</td>\n",
       "    </tr>\n",
       "    <tr>\n",
       "      <th>4</th>\n",
       "      <td>00083cda041544b2fbb0e0d2905ad17da7cf1007526fb4...</td>\n",
       "    </tr>\n",
       "  </tbody>\n",
       "</table>\n",
       "</div>"
      ],
      "text/plain": [
       "       user_id:token\\titem_id:token\\ttimestamp:float\n",
       "0  000058a12d5b43e67d225668fa1f8d618c13dc232df0ca...\n",
       "1  000058a12d5b43e67d225668fa1f8d618c13dc232df0ca...\n",
       "2  000563485cbb7850b0a93c6606f89c5b961c6647d1bd48...\n",
       "3  000563485cbb7850b0a93c6606f89c5b961c6647d1bd48...\n",
       "4  00083cda041544b2fbb0e0d2905ad17da7cf1007526fb4..."
      ]
     },
     "execution_count": 16,
     "metadata": {},
     "output_type": "execute_result"
    }
   ],
   "source": [
    "recbox_data = pd.read_csv('./recbox_data/recbox_data.inter')\n",
    "recbox_data.head()"
   ]
  },
  {
   "cell_type": "code",
   "execution_count": 17,
   "id": "00cb78a9",
   "metadata": {
    "editable": false,
    "execution": {
     "iopub.execute_input": "2022-03-24T04:35:01.933612Z",
     "iopub.status.busy": "2022-03-24T04:35:01.932824Z",
     "iopub.status.idle": "2022-03-24T04:35:06.433087Z",
     "shell.execute_reply": "2022-03-24T04:35:06.433575Z",
     "shell.execute_reply.started": "2022-03-24T03:33:18.781133Z"
    },
    "papermill": {
     "duration": 4.571686,
     "end_time": "2022-03-24T04:35:06.433766",
     "exception": false,
     "start_time": "2022-03-24T04:35:01.862080",
     "status": "completed"
    },
    "tags": []
   },
   "outputs": [
    {
     "data": {
      "text/plain": [
       "(1371980, 1)"
      ]
     },
     "execution_count": 17,
     "metadata": {},
     "output_type": "execute_result"
    }
   ],
   "source": [
    "customers = pd.read_csv('../input/h-and-m-personalized-fashion-recommendations/customers.csv',\n",
    "                        usecols=['customer_id'])\n",
    "customers.shape"
   ]
  },
  {
   "cell_type": "code",
   "execution_count": 18,
   "id": "d2045d19",
   "metadata": {
    "editable": false,
    "execution": {
     "iopub.execute_input": "2022-03-24T04:35:06.579059Z",
     "iopub.status.busy": "2022-03-24T04:35:06.578366Z",
     "iopub.status.idle": "2022-03-24T04:35:06.587948Z",
     "shell.execute_reply": "2022-03-24T04:35:06.587183Z",
     "shell.execute_reply.started": "2022-03-24T03:58:21.350909Z"
    },
    "papermill": {
     "duration": 0.0847,
     "end_time": "2022-03-24T04:35:06.588119",
     "exception": false,
     "start_time": "2022-03-24T04:35:06.503419",
     "status": "completed"
    },
    "tags": []
   },
   "outputs": [],
   "source": [
    "from recbole.utils.case_study import full_sort_topk\n",
    "external_user_ids = dataset.id2token(\n",
    "    dataset.uid_field, list(range(dataset.user_num)))[1:]#fist element in array is 'PAD'(default of Recbole) ->remove it "
   ]
  },
  {
   "cell_type": "code",
   "execution_count": 19,
   "id": "0f0cabcc",
   "metadata": {
    "editable": false,
    "execution": {
     "iopub.execute_input": "2022-03-24T04:35:06.729358Z",
     "iopub.status.busy": "2022-03-24T04:35:06.726131Z",
     "iopub.status.idle": "2022-03-24T04:41:17.818113Z",
     "shell.execute_reply": "2022-03-24T04:41:17.817506Z",
     "shell.execute_reply.started": "2022-03-24T04:00:09.833659Z"
    },
    "papermill": {
     "duration": 371.161791,
     "end_time": "2022-03-24T04:41:17.818269",
     "exception": false,
     "start_time": "2022-03-24T04:35:06.656478",
     "status": "completed"
    },
    "tags": []
   },
   "outputs": [
    {
     "name": "stdout",
     "output_type": "stream",
     "text": [
      "15458\n"
     ]
    }
   ],
   "source": [
    "topk_items = []\n",
    "for external_user_id in external_user_ids:\n",
    "    _, topk_iid_list = predict_for_all_item(external_user_id, dataset, model)\n",
    "    last_topk_iid_list = topk_iid_list[-1]\n",
    "    external_item_list = dataset.id2token(dataset.iid_field, last_topk_iid_list.cpu()).tolist()\n",
    "    topk_items.append(external_item_list)\n",
    "print(len(topk_items))"
   ]
  },
  {
   "cell_type": "code",
   "execution_count": 20,
   "id": "614e0a99",
   "metadata": {
    "editable": false,
    "execution": {
     "iopub.execute_input": "2022-03-24T04:41:17.968413Z",
     "iopub.status.busy": "2022-03-24T04:41:17.963081Z",
     "iopub.status.idle": "2022-03-24T04:41:17.982571Z",
     "shell.execute_reply": "2022-03-24T04:41:17.983118Z",
     "shell.execute_reply.started": "2022-03-24T04:03:58.999594Z"
    },
    "papermill": {
     "duration": 0.097285,
     "end_time": "2022-03-24T04:41:17.983296",
     "exception": false,
     "start_time": "2022-03-24T04:41:17.886011",
     "status": "completed"
    },
    "tags": []
   },
   "outputs": [
    {
     "data": {
      "text/html": [
       "<div>\n",
       "<style scoped>\n",
       "    .dataframe tbody tr th:only-of-type {\n",
       "        vertical-align: middle;\n",
       "    }\n",
       "\n",
       "    .dataframe tbody tr th {\n",
       "        vertical-align: top;\n",
       "    }\n",
       "\n",
       "    .dataframe thead th {\n",
       "        text-align: right;\n",
       "    }\n",
       "</style>\n",
       "<table border=\"1\" class=\"dataframe\">\n",
       "  <thead>\n",
       "    <tr style=\"text-align: right;\">\n",
       "      <th></th>\n",
       "      <th>customer_id</th>\n",
       "      <th>prediction</th>\n",
       "    </tr>\n",
       "  </thead>\n",
       "  <tbody>\n",
       "    <tr>\n",
       "      <th>0</th>\n",
       "      <td>00d7ebd46f6a6d53630d41386b6ef6a505cdc4c80011ff...</td>\n",
       "      <td>0919273002 0929275001 0893141002 0924243001 08...</td>\n",
       "    </tr>\n",
       "    <tr>\n",
       "      <th>1</th>\n",
       "      <td>0109ad0b5a76924a1b58be677409bb601cc8bead9a87b8...</td>\n",
       "      <td>0866383006 0913030001 0779725006 0822946001 05...</td>\n",
       "    </tr>\n",
       "    <tr>\n",
       "      <th>2</th>\n",
       "      <td>013f00f9e218549246a3aa82b3f3a0c22a693bc25fa735...</td>\n",
       "      <td>0817472005 0850244003 0870970001 0880749002 08...</td>\n",
       "    </tr>\n",
       "    <tr>\n",
       "      <th>3</th>\n",
       "      <td>01bada2a453b09c70ea57bdda5a9ef0fb04062718d3a3d...</td>\n",
       "      <td>0827968001 0448509014 0685814001 0811899003 07...</td>\n",
       "    </tr>\n",
       "    <tr>\n",
       "      <th>4</th>\n",
       "      <td>01dd96059a11759518f10969d0a528f03c8501dc4c628b...</td>\n",
       "      <td>0448509014 0866731001 0706016001 0827968001 08...</td>\n",
       "    </tr>\n",
       "  </tbody>\n",
       "</table>\n",
       "</div>"
      ],
      "text/plain": [
       "                                         customer_id  \\\n",
       "0  00d7ebd46f6a6d53630d41386b6ef6a505cdc4c80011ff...   \n",
       "1  0109ad0b5a76924a1b58be677409bb601cc8bead9a87b8...   \n",
       "2  013f00f9e218549246a3aa82b3f3a0c22a693bc25fa735...   \n",
       "3  01bada2a453b09c70ea57bdda5a9ef0fb04062718d3a3d...   \n",
       "4  01dd96059a11759518f10969d0a528f03c8501dc4c628b...   \n",
       "\n",
       "                                          prediction  \n",
       "0  0919273002 0929275001 0893141002 0924243001 08...  \n",
       "1  0866383006 0913030001 0779725006 0822946001 05...  \n",
       "2  0817472005 0850244003 0870970001 0880749002 08...  \n",
       "3  0827968001 0448509014 0685814001 0811899003 07...  \n",
       "4  0448509014 0866731001 0706016001 0827968001 08...  "
      ]
     },
     "execution_count": 20,
     "metadata": {},
     "output_type": "execute_result"
    }
   ],
   "source": [
    "external_item_str = [' '.join(x) for x in topk_items]\n",
    "result = pd.DataFrame(external_user_ids, columns=['customer_id'])\n",
    "result['prediction'] = external_item_str\n",
    "result.head()"
   ]
  },
  {
   "cell_type": "code",
   "execution_count": 21,
   "id": "bd305316",
   "metadata": {
    "editable": false,
    "execution": {
     "iopub.execute_input": "2022-03-24T04:41:18.123370Z",
     "iopub.status.busy": "2022-03-24T04:41:18.122737Z",
     "iopub.status.idle": "2022-03-24T04:41:18.256829Z",
     "shell.execute_reply": "2022-03-24T04:41:18.257395Z",
     "shell.execute_reply.started": "2022-03-24T04:03:59.148887Z"
    },
    "papermill": {
     "duration": 0.205619,
     "end_time": "2022-03-24T04:41:18.257591",
     "exception": false,
     "start_time": "2022-03-24T04:41:18.051972",
     "status": "completed"
    },
    "tags": []
   },
   "outputs": [],
   "source": [
    "result.to_csv('./submission_recbole.csv', index=False)"
   ]
  },
  {
   "cell_type": "code",
   "execution_count": 22,
   "id": "ee577df1",
   "metadata": {
    "editable": false,
    "execution": {
     "iopub.execute_input": "2022-03-24T04:41:18.397185Z",
     "iopub.status.busy": "2022-03-24T04:41:18.396491Z",
     "iopub.status.idle": "2022-03-24T04:41:18.657666Z",
     "shell.execute_reply": "2022-03-24T04:41:18.658176Z",
     "shell.execute_reply.started": "2022-03-24T03:33:22.823061Z"
    },
    "papermill": {
     "duration": 0.332401,
     "end_time": "2022-03-24T04:41:18.658345",
     "exception": false,
     "start_time": "2022-03-24T04:41:18.325944",
     "status": "completed"
    },
    "tags": []
   },
   "outputs": [
    {
     "data": {
      "text/plain": [
       "63"
      ]
     },
     "execution_count": 22,
     "metadata": {},
     "output_type": "execute_result"
    }
   ],
   "source": [
    "del external_item_str\n",
    "del topk_items\n",
    "del external_user_ids\n",
    "del train_data\n",
    "del valid_data\n",
    "del test_data\n",
    "del model\n",
    "del Trainer\n",
    "del logger\n",
    "del dataset\n",
    "gc.collect()"
   ]
  }
 ],
 "metadata": {
  "kernelspec": {
   "display_name": "Python 3",
   "language": "python",
   "name": "python3"
  },
  "language_info": {
   "codemirror_mode": {
    "name": "ipython",
    "version": 3
   },
   "file_extension": ".py",
   "mimetype": "text/x-python",
   "name": "python",
   "nbconvert_exporter": "python",
   "pygments_lexer": "ipython3",
   "version": "3.7.12"
  },
  "papermill": {
   "default_parameters": {},
   "duration": 2195.126095,
   "end_time": "2022-03-24T04:41:21.566201",
   "environment_variables": {},
   "exception": null,
   "input_path": "__notebook__.ipynb",
   "output_path": "__notebook__.ipynb",
   "parameters": {},
   "start_time": "2022-03-24T04:04:46.440106",
   "version": "2.3.3"
  }
 },
 "nbformat": 4,
 "nbformat_minor": 5
}
