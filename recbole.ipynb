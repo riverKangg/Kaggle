{
 "cells": [
  {
   "cell_type": "code",
   "execution_count": 1,
   "id": "8cbbd4e9",
   "metadata": {
    "_cell_guid": "b1076dfc-b9ad-4769-8c92-a6c4dae69d19",
    "_uuid": "8f2839f25d086af736a60e9eeb907d3b93b6e0e5",
    "execution": {
     "iopub.execute_input": "2022-03-22T11:29:32.775216Z",
     "iopub.status.busy": "2022-03-22T11:29:32.773749Z",
     "iopub.status.idle": "2022-03-22T11:29:32.782263Z",
     "shell.execute_reply": "2022-03-22T11:29:32.781780Z",
     "shell.execute_reply.started": "2022-03-22T11:24:12.109063Z"
    },
    "papermill": {
     "duration": 0.030306,
     "end_time": "2022-03-22T11:29:32.782391",
     "exception": false,
     "start_time": "2022-03-22T11:29:32.752085",
     "status": "completed"
    },
    "tags": []
   },
   "outputs": [],
   "source": [
    "import numpy as np\n",
    "import pandas as pd "
   ]
  },
  {
   "cell_type": "code",
   "execution_count": 2,
   "id": "16659f72",
   "metadata": {
    "execution": {
     "iopub.execute_input": "2022-03-22T11:29:32.821208Z",
     "iopub.status.busy": "2022-03-22T11:29:32.820502Z",
     "iopub.status.idle": "2022-03-22T11:29:51.842539Z",
     "shell.execute_reply": "2022-03-22T11:29:51.841903Z",
     "shell.execute_reply.started": "2022-03-22T11:24:12.178967Z"
    },
    "papermill": {
     "duration": 19.042075,
     "end_time": "2022-03-22T11:29:51.842690",
     "exception": false,
     "start_time": "2022-03-22T11:29:32.800615",
     "status": "completed"
    },
    "tags": []
   },
   "outputs": [
    {
     "name": "stdout",
     "output_type": "stream",
     "text": [
      "Collecting recbole\r\n",
      "  Downloading recbole-1.0.1-py3-none-any.whl (2.0 MB)\r\n",
      "     |████████████████████████████████| 2.0 MB 288 kB/s            \r\n",
      "\u001b[?25hRequirement already satisfied: tensorboard>=2.5.0 in /opt/conda/lib/python3.7/site-packages (from recbole) (2.6.0)\r\n",
      "Requirement already satisfied: pyyaml>=5.1.0 in /opt/conda/lib/python3.7/site-packages (from recbole) (6.0)\r\n",
      "Requirement already satisfied: numpy>=1.17.2 in /opt/conda/lib/python3.7/site-packages (from recbole) (1.20.3)\r\n",
      "Requirement already satisfied: pandas>=1.0.5 in /opt/conda/lib/python3.7/site-packages (from recbole) (1.3.5)\r\n",
      "Requirement already satisfied: torch>=1.7.0 in /opt/conda/lib/python3.7/site-packages (from recbole) (1.9.1)\r\n",
      "Requirement already satisfied: tqdm>=4.48.2 in /opt/conda/lib/python3.7/site-packages (from recbole) (4.62.3)\r\n",
      "Requirement already satisfied: scikit-learn>=0.23.2 in /opt/conda/lib/python3.7/site-packages (from recbole) (1.0.1)\r\n",
      "Collecting colorlog==4.7.2\r\n",
      "  Downloading colorlog-4.7.2-py2.py3-none-any.whl (10 kB)\r\n",
      "Requirement already satisfied: colorama==0.4.4 in /opt/conda/lib/python3.7/site-packages (from recbole) (0.4.4)\r\n",
      "Collecting scipy==1.6.0\r\n",
      "  Downloading scipy-1.6.0-cp37-cp37m-manylinux1_x86_64.whl (27.4 MB)\r\n",
      "     |████████████████████████████████| 27.4 MB 1.1 MB/s             \r\n",
      "\u001b[?25hRequirement already satisfied: python-dateutil>=2.7.3 in /opt/conda/lib/python3.7/site-packages (from pandas>=1.0.5->recbole) (2.8.2)\r\n",
      "Requirement already satisfied: pytz>=2017.3 in /opt/conda/lib/python3.7/site-packages (from pandas>=1.0.5->recbole) (2021.3)\r\n",
      "Requirement already satisfied: joblib>=0.11 in /opt/conda/lib/python3.7/site-packages (from scikit-learn>=0.23.2->recbole) (1.1.0)\r\n",
      "Requirement already satisfied: threadpoolctl>=2.0.0 in /opt/conda/lib/python3.7/site-packages (from scikit-learn>=0.23.2->recbole) (3.0.0)\r\n",
      "Requirement already satisfied: absl-py>=0.4 in /opt/conda/lib/python3.7/site-packages (from tensorboard>=2.5.0->recbole) (0.15.0)\r\n",
      "Requirement already satisfied: tensorboard-data-server<0.7.0,>=0.6.0 in /opt/conda/lib/python3.7/site-packages (from tensorboard>=2.5.0->recbole) (0.6.1)\r\n",
      "Requirement already satisfied: grpcio>=1.24.3 in /opt/conda/lib/python3.7/site-packages (from tensorboard>=2.5.0->recbole) (1.43.0)\r\n",
      "Requirement already satisfied: werkzeug>=0.11.15 in /opt/conda/lib/python3.7/site-packages (from tensorboard>=2.5.0->recbole) (2.0.2)\r\n",
      "Requirement already satisfied: setuptools>=41.0.0 in /opt/conda/lib/python3.7/site-packages (from tensorboard>=2.5.0->recbole) (59.5.0)\r\n",
      "Requirement already satisfied: requests<3,>=2.21.0 in /opt/conda/lib/python3.7/site-packages (from tensorboard>=2.5.0->recbole) (2.26.0)\r\n",
      "Requirement already satisfied: google-auth-oauthlib<0.5,>=0.4.1 in /opt/conda/lib/python3.7/site-packages (from tensorboard>=2.5.0->recbole) (0.4.6)\r\n",
      "Requirement already satisfied: google-auth<2,>=1.6.3 in /opt/conda/lib/python3.7/site-packages (from tensorboard>=2.5.0->recbole) (1.35.0)\r\n",
      "Requirement already satisfied: markdown>=2.6.8 in /opt/conda/lib/python3.7/site-packages (from tensorboard>=2.5.0->recbole) (3.3.6)\r\n",
      "Requirement already satisfied: wheel>=0.26 in /opt/conda/lib/python3.7/site-packages (from tensorboard>=2.5.0->recbole) (0.37.0)\r\n",
      "Requirement already satisfied: tensorboard-plugin-wit>=1.6.0 in /opt/conda/lib/python3.7/site-packages (from tensorboard>=2.5.0->recbole) (1.8.0)\r\n",
      "Requirement already satisfied: protobuf>=3.6.0 in /opt/conda/lib/python3.7/site-packages (from tensorboard>=2.5.0->recbole) (3.19.4)\r\n",
      "Requirement already satisfied: typing-extensions in /opt/conda/lib/python3.7/site-packages (from torch>=1.7.0->recbole) (4.1.1)\r\n",
      "Requirement already satisfied: six in /opt/conda/lib/python3.7/site-packages (from absl-py>=0.4->tensorboard>=2.5.0->recbole) (1.16.0)\r\n",
      "Requirement already satisfied: pyasn1-modules>=0.2.1 in /opt/conda/lib/python3.7/site-packages (from google-auth<2,>=1.6.3->tensorboard>=2.5.0->recbole) (0.2.7)\r\n",
      "Requirement already satisfied: rsa<5,>=3.1.4 in /opt/conda/lib/python3.7/site-packages (from google-auth<2,>=1.6.3->tensorboard>=2.5.0->recbole) (4.8)\r\n",
      "Requirement already satisfied: cachetools<5.0,>=2.0.0 in /opt/conda/lib/python3.7/site-packages (from google-auth<2,>=1.6.3->tensorboard>=2.5.0->recbole) (4.2.4)\r\n",
      "Requirement already satisfied: requests-oauthlib>=0.7.0 in /opt/conda/lib/python3.7/site-packages (from google-auth-oauthlib<0.5,>=0.4.1->tensorboard>=2.5.0->recbole) (1.3.0)\r\n",
      "Requirement already satisfied: importlib-metadata>=4.4 in /opt/conda/lib/python3.7/site-packages (from markdown>=2.6.8->tensorboard>=2.5.0->recbole) (4.11.3)\r\n",
      "Requirement already satisfied: certifi>=2017.4.17 in /opt/conda/lib/python3.7/site-packages (from requests<3,>=2.21.0->tensorboard>=2.5.0->recbole) (2021.10.8)\r\n",
      "Requirement already satisfied: charset-normalizer~=2.0.0 in /opt/conda/lib/python3.7/site-packages (from requests<3,>=2.21.0->tensorboard>=2.5.0->recbole) (2.0.9)\r\n",
      "Requirement already satisfied: idna<4,>=2.5 in /opt/conda/lib/python3.7/site-packages (from requests<3,>=2.21.0->tensorboard>=2.5.0->recbole) (3.1)\r\n",
      "Requirement already satisfied: urllib3<1.27,>=1.21.1 in /opt/conda/lib/python3.7/site-packages (from requests<3,>=2.21.0->tensorboard>=2.5.0->recbole) (1.26.7)\r\n",
      "Requirement already satisfied: zipp>=0.5 in /opt/conda/lib/python3.7/site-packages (from importlib-metadata>=4.4->markdown>=2.6.8->tensorboard>=2.5.0->recbole) (3.6.0)\r\n",
      "Requirement already satisfied: pyasn1<0.5.0,>=0.4.6 in /opt/conda/lib/python3.7/site-packages (from pyasn1-modules>=0.2.1->google-auth<2,>=1.6.3->tensorboard>=2.5.0->recbole) (0.4.8)\r\n",
      "Requirement already satisfied: oauthlib>=3.0.0 in /opt/conda/lib/python3.7/site-packages (from requests-oauthlib>=0.7.0->google-auth-oauthlib<0.5,>=0.4.1->tensorboard>=2.5.0->recbole) (3.1.1)\r\n",
      "Installing collected packages: scipy, colorlog, recbole\r\n",
      "  Attempting uninstall: scipy\r\n",
      "    Found existing installation: scipy 1.7.3\r\n",
      "    Uninstalling scipy-1.7.3:\r\n",
      "      Successfully uninstalled scipy-1.7.3\r\n",
      "  Attempting uninstall: colorlog\r\n",
      "    Found existing installation: colorlog 6.6.0\r\n",
      "    Uninstalling colorlog-6.6.0:\r\n",
      "      Successfully uninstalled colorlog-6.6.0\r\n",
      "\u001b[31mERROR: pip's dependency resolver does not currently take into account all the packages that are installed. This behaviour is the source of the following dependency conflicts.\r\n",
      "pymc3 3.11.5 requires scipy<1.8.0,>=1.7.3, but you have scipy 1.6.0 which is incompatible.\r\n",
      "pdpbox 0.2.1 requires matplotlib==3.1.1, but you have matplotlib 3.5.1 which is incompatible.\r\n",
      "featuretools 1.6.0 requires numpy>=1.21.0, but you have numpy 1.20.3 which is incompatible.\r\n",
      "arviz 0.11.4 requires typing-extensions<4,>=3.7.4.3, but you have typing-extensions 4.1.1 which is incompatible.\u001b[0m\r\n",
      "Successfully installed colorlog-4.7.2 recbole-1.0.1 scipy-1.6.0\r\n",
      "\u001b[33mWARNING: Running pip as the 'root' user can result in broken permissions and conflicting behaviour with the system package manager. It is recommended to use a virtual environment instead: https://pip.pypa.io/warnings/venv\u001b[0m\r\n"
     ]
    }
   ],
   "source": [
    "!pip install recbole"
   ]
  },
  {
   "cell_type": "code",
   "execution_count": 3,
   "id": "f59c92bf",
   "metadata": {
    "execution": {
     "iopub.execute_input": "2022-03-22T11:29:51.941519Z",
     "iopub.status.busy": "2022-03-22T11:29:51.939547Z",
     "iopub.status.idle": "2022-03-22T11:30:53.605395Z",
     "shell.execute_reply": "2022-03-22T11:30:53.604829Z",
     "shell.execute_reply.started": "2022-03-22T11:24:32.494765Z"
    },
    "papermill": {
     "duration": 61.715109,
     "end_time": "2022-03-22T11:30:53.605553",
     "exception": false,
     "start_time": "2022-03-22T11:29:51.890444",
     "status": "completed"
    },
    "tags": []
   },
   "outputs": [],
   "source": [
    "df = pd.read_csv(r\"/kaggle/input/h-and-m-personalized-fashion-recommendations/transactions_train.csv\", \n",
    "                 dtype={'article_id': 'str'})"
   ]
  },
  {
   "cell_type": "code",
   "execution_count": 4,
   "id": "318f5050",
   "metadata": {
    "execution": {
     "iopub.execute_input": "2022-03-22T11:30:55.244716Z",
     "iopub.status.busy": "2022-03-22T11:30:55.243895Z",
     "iopub.status.idle": "2022-03-22T11:31:00.520068Z",
     "shell.execute_reply": "2022-03-22T11:31:00.519606Z"
    },
    "papermill": {
     "duration": 6.8736,
     "end_time": "2022-03-22T11:31:00.520193",
     "exception": false,
     "start_time": "2022-03-22T11:30:53.646593",
     "status": "completed"
    },
    "tags": []
   },
   "outputs": [
    {
     "data": {
      "text/html": [
       "<div>\n",
       "<style scoped>\n",
       "    .dataframe tbody tr th:only-of-type {\n",
       "        vertical-align: middle;\n",
       "    }\n",
       "\n",
       "    .dataframe tbody tr th {\n",
       "        vertical-align: top;\n",
       "    }\n",
       "\n",
       "    .dataframe thead th {\n",
       "        text-align: right;\n",
       "    }\n",
       "</style>\n",
       "<table border=\"1\" class=\"dataframe\">\n",
       "  <thead>\n",
       "    <tr style=\"text-align: right;\">\n",
       "      <th></th>\n",
       "      <th>t_dat</th>\n",
       "      <th>customer_id</th>\n",
       "      <th>article_id</th>\n",
       "      <th>price</th>\n",
       "      <th>sales_channel_id</th>\n",
       "      <th>timestamp</th>\n",
       "    </tr>\n",
       "  </thead>\n",
       "  <tbody>\n",
       "    <tr>\n",
       "      <th>0</th>\n",
       "      <td>2018-09-20</td>\n",
       "      <td>000058a12d5b43e67d225668fa1f8d618c13dc232df0ca...</td>\n",
       "      <td>0663713001</td>\n",
       "      <td>0.050831</td>\n",
       "      <td>2</td>\n",
       "      <td>1537401600</td>\n",
       "    </tr>\n",
       "    <tr>\n",
       "      <th>1</th>\n",
       "      <td>2018-09-20</td>\n",
       "      <td>000058a12d5b43e67d225668fa1f8d618c13dc232df0ca...</td>\n",
       "      <td>0541518023</td>\n",
       "      <td>0.030492</td>\n",
       "      <td>2</td>\n",
       "      <td>1537401600</td>\n",
       "    </tr>\n",
       "    <tr>\n",
       "      <th>2</th>\n",
       "      <td>2018-09-20</td>\n",
       "      <td>00007d2de826758b65a93dd24ce629ed66842531df6699...</td>\n",
       "      <td>0505221004</td>\n",
       "      <td>0.015237</td>\n",
       "      <td>2</td>\n",
       "      <td>1537401600</td>\n",
       "    </tr>\n",
       "    <tr>\n",
       "      <th>3</th>\n",
       "      <td>2018-09-20</td>\n",
       "      <td>00007d2de826758b65a93dd24ce629ed66842531df6699...</td>\n",
       "      <td>0685687003</td>\n",
       "      <td>0.016932</td>\n",
       "      <td>2</td>\n",
       "      <td>1537401600</td>\n",
       "    </tr>\n",
       "    <tr>\n",
       "      <th>4</th>\n",
       "      <td>2018-09-20</td>\n",
       "      <td>00007d2de826758b65a93dd24ce629ed66842531df6699...</td>\n",
       "      <td>0685687004</td>\n",
       "      <td>0.016932</td>\n",
       "      <td>2</td>\n",
       "      <td>1537401600</td>\n",
       "    </tr>\n",
       "  </tbody>\n",
       "</table>\n",
       "</div>"
      ],
      "text/plain": [
       "       t_dat                                        customer_id  article_id  \\\n",
       "0 2018-09-20  000058a12d5b43e67d225668fa1f8d618c13dc232df0ca...  0663713001   \n",
       "1 2018-09-20  000058a12d5b43e67d225668fa1f8d618c13dc232df0ca...  0541518023   \n",
       "2 2018-09-20  00007d2de826758b65a93dd24ce629ed66842531df6699...  0505221004   \n",
       "3 2018-09-20  00007d2de826758b65a93dd24ce629ed66842531df6699...  0685687003   \n",
       "4 2018-09-20  00007d2de826758b65a93dd24ce629ed66842531df6699...  0685687004   \n",
       "\n",
       "      price  sales_channel_id   timestamp  \n",
       "0  0.050831                 2  1537401600  \n",
       "1  0.030492                 2  1537401600  \n",
       "2  0.015237                 2  1537401600  \n",
       "3  0.016932                 2  1537401600  \n",
       "4  0.016932                 2  1537401600  "
      ]
     },
     "execution_count": 4,
     "metadata": {},
     "output_type": "execute_result"
    }
   ],
   "source": [
    "import numpy as np\n",
    "df['t_dat'] = pd.to_datetime(df['t_dat'], format=\"%Y-%m-%d\")\n",
    "df['timestamp'] = df.t_dat.values.astype(np.int64) // 10 ** 9\n",
    "df.head()"
   ]
  },
  {
   "cell_type": "code",
   "execution_count": 5,
   "id": "96e91ab4",
   "metadata": {
    "execution": {
     "iopub.execute_input": "2022-03-22T11:31:00.615274Z",
     "iopub.status.busy": "2022-03-22T11:31:00.614464Z",
     "iopub.status.idle": "2022-03-22T11:31:02.035750Z",
     "shell.execute_reply": "2022-03-22T11:31:02.035288Z",
     "shell.execute_reply.started": "2022-03-22T11:25:40.792129Z"
    },
    "papermill": {
     "duration": 1.473981,
     "end_time": "2022-03-22T11:31:02.035894",
     "exception": false,
     "start_time": "2022-03-22T11:31:00.561913",
     "status": "completed"
    },
    "tags": []
   },
   "outputs": [
    {
     "data": {
      "text/html": [
       "<div>\n",
       "<style scoped>\n",
       "    .dataframe tbody tr th:only-of-type {\n",
       "        vertical-align: middle;\n",
       "    }\n",
       "\n",
       "    .dataframe tbody tr th {\n",
       "        vertical-align: top;\n",
       "    }\n",
       "\n",
       "    .dataframe thead th {\n",
       "        text-align: right;\n",
       "    }\n",
       "</style>\n",
       "<table border=\"1\" class=\"dataframe\">\n",
       "  <thead>\n",
       "    <tr style=\"text-align: right;\">\n",
       "      <th></th>\n",
       "      <th>user_id:token</th>\n",
       "      <th>item_id:token</th>\n",
       "      <th>timestamp:float</th>\n",
       "    </tr>\n",
       "  </thead>\n",
       "  <tbody>\n",
       "    <tr>\n",
       "      <th>23934157</th>\n",
       "      <td>000058a12d5b43e67d225668fa1f8d618c13dc232df0ca...</td>\n",
       "      <td>0727808001</td>\n",
       "      <td>1585699200</td>\n",
       "    </tr>\n",
       "    <tr>\n",
       "      <th>23934158</th>\n",
       "      <td>000058a12d5b43e67d225668fa1f8d618c13dc232df0ca...</td>\n",
       "      <td>0727808007</td>\n",
       "      <td>1585699200</td>\n",
       "    </tr>\n",
       "    <tr>\n",
       "      <th>23934159</th>\n",
       "      <td>000563485cbb7850b0a93c6606f89c5b961c6647d1bd48...</td>\n",
       "      <td>0567532015</td>\n",
       "      <td>1585699200</td>\n",
       "    </tr>\n",
       "    <tr>\n",
       "      <th>23934160</th>\n",
       "      <td>000563485cbb7850b0a93c6606f89c5b961c6647d1bd48...</td>\n",
       "      <td>0706104009</td>\n",
       "      <td>1585699200</td>\n",
       "    </tr>\n",
       "    <tr>\n",
       "      <th>23934161</th>\n",
       "      <td>00083cda041544b2fbb0e0d2905ad17da7cf1007526fb4...</td>\n",
       "      <td>0783504004</td>\n",
       "      <td>1585699200</td>\n",
       "    </tr>\n",
       "    <tr>\n",
       "      <th>...</th>\n",
       "      <td>...</td>\n",
       "      <td>...</td>\n",
       "      <td>...</td>\n",
       "    </tr>\n",
       "    <tr>\n",
       "      <th>31788319</th>\n",
       "      <td>fff2282977442e327b45d8c89afde25617d00124d0f999...</td>\n",
       "      <td>0929511001</td>\n",
       "      <td>1600732800</td>\n",
       "    </tr>\n",
       "    <tr>\n",
       "      <th>31788320</th>\n",
       "      <td>fff2282977442e327b45d8c89afde25617d00124d0f999...</td>\n",
       "      <td>0891322004</td>\n",
       "      <td>1600732800</td>\n",
       "    </tr>\n",
       "    <tr>\n",
       "      <th>31788321</th>\n",
       "      <td>fff380805474b287b05cb2a7507b9a013482f7dd0bce0e...</td>\n",
       "      <td>0918325001</td>\n",
       "      <td>1600732800</td>\n",
       "    </tr>\n",
       "    <tr>\n",
       "      <th>31788322</th>\n",
       "      <td>fff4d3a8b1f3b60af93e78c30a7cb4cf75edaf2590d3e5...</td>\n",
       "      <td>0833459002</td>\n",
       "      <td>1600732800</td>\n",
       "    </tr>\n",
       "    <tr>\n",
       "      <th>31788323</th>\n",
       "      <td>fffef3b6b73545df065b521e19f64bf6fe93bfd450ab20...</td>\n",
       "      <td>0898573003</td>\n",
       "      <td>1600732800</td>\n",
       "    </tr>\n",
       "  </tbody>\n",
       "</table>\n",
       "<p>7854167 rows × 3 columns</p>\n",
       "</div>"
      ],
      "text/plain": [
       "                                              user_id:token item_id:token  \\\n",
       "23934157  000058a12d5b43e67d225668fa1f8d618c13dc232df0ca...    0727808001   \n",
       "23934158  000058a12d5b43e67d225668fa1f8d618c13dc232df0ca...    0727808007   \n",
       "23934159  000563485cbb7850b0a93c6606f89c5b961c6647d1bd48...    0567532015   \n",
       "23934160  000563485cbb7850b0a93c6606f89c5b961c6647d1bd48...    0706104009   \n",
       "23934161  00083cda041544b2fbb0e0d2905ad17da7cf1007526fb4...    0783504004   \n",
       "...                                                     ...           ...   \n",
       "31788319  fff2282977442e327b45d8c89afde25617d00124d0f999...    0929511001   \n",
       "31788320  fff2282977442e327b45d8c89afde25617d00124d0f999...    0891322004   \n",
       "31788321  fff380805474b287b05cb2a7507b9a013482f7dd0bce0e...    0918325001   \n",
       "31788322  fff4d3a8b1f3b60af93e78c30a7cb4cf75edaf2590d3e5...    0833459002   \n",
       "31788323  fffef3b6b73545df065b521e19f64bf6fe93bfd450ab20...    0898573003   \n",
       "\n",
       "          timestamp:float  \n",
       "23934157       1585699200  \n",
       "23934158       1585699200  \n",
       "23934159       1585699200  \n",
       "23934160       1585699200  \n",
       "23934161       1585699200  \n",
       "...                   ...  \n",
       "31788319       1600732800  \n",
       "31788320       1600732800  \n",
       "31788321       1600732800  \n",
       "31788322       1600732800  \n",
       "31788323       1600732800  \n",
       "\n",
       "[7854167 rows x 3 columns]"
      ]
     },
     "execution_count": 5,
     "metadata": {},
     "output_type": "execute_result"
    }
   ],
   "source": [
    "temp = df[df['timestamp'] > 1585620000][['customer_id', 'article_id', 'timestamp']].rename(\n",
    "    columns={'customer_id': 'user_id:token', 'article_id': 'item_id:token', 'timestamp': 'timestamp:float'})\n",
    "temp"
   ]
  },
  {
   "cell_type": "code",
   "execution_count": 6,
   "id": "25c9bb0a",
   "metadata": {
    "execution": {
     "iopub.execute_input": "2022-03-22T11:31:02.126051Z",
     "iopub.status.busy": "2022-03-22T11:31:02.125180Z",
     "iopub.status.idle": "2022-03-22T11:31:37.029438Z",
     "shell.execute_reply": "2022-03-22T11:31:37.028667Z",
     "shell.execute_reply.started": "2022-03-22T11:25:40.924574Z"
    },
    "papermill": {
     "duration": 34.95187,
     "end_time": "2022-03-22T11:31:37.029610",
     "exception": false,
     "start_time": "2022-03-22T11:31:02.077740",
     "status": "completed"
    },
    "tags": []
   },
   "outputs": [],
   "source": [
    "!mkdir /kaggle/working/recbox_data\n",
    "temp.to_csv('/kaggle/working/recbox_data/recbox_data.inter', index=False, sep='\\t')"
   ]
  },
  {
   "cell_type": "code",
   "execution_count": 7,
   "id": "5fa2f882",
   "metadata": {
    "execution": {
     "iopub.execute_input": "2022-03-22T11:31:37.216527Z",
     "iopub.status.busy": "2022-03-22T11:31:37.215892Z",
     "iopub.status.idle": "2022-03-22T11:31:37.218617Z",
     "shell.execute_reply": "2022-03-22T11:31:37.219038Z",
     "shell.execute_reply.started": "2022-03-22T11:25:40.927583Z"
    },
    "papermill": {
     "duration": 0.14659,
     "end_time": "2022-03-22T11:31:37.219179",
     "exception": false,
     "start_time": "2022-03-22T11:31:37.072589",
     "status": "completed"
    },
    "tags": []
   },
   "outputs": [
    {
     "data": {
      "text/plain": [
       "21"
      ]
     },
     "execution_count": 7,
     "metadata": {},
     "output_type": "execute_result"
    }
   ],
   "source": [
    "import gc\n",
    "del temp\n",
    "gc.collect()"
   ]
  },
  {
   "cell_type": "code",
   "execution_count": 8,
   "id": "e9087f77",
   "metadata": {
    "execution": {
     "iopub.execute_input": "2022-03-22T11:31:37.307371Z",
     "iopub.status.busy": "2022-03-22T11:31:37.306864Z",
     "iopub.status.idle": "2022-03-22T11:31:39.380341Z",
     "shell.execute_reply": "2022-03-22T11:31:39.379848Z",
     "shell.execute_reply.started": "2022-03-22T11:25:40.931003Z"
    },
    "papermill": {
     "duration": 2.119333,
     "end_time": "2022-03-22T11:31:39.380472",
     "exception": false,
     "start_time": "2022-03-22T11:31:37.261139",
     "status": "completed"
    },
    "tags": []
   },
   "outputs": [],
   "source": [
    "import logging\n",
    "from logging import getLogger\n",
    "from recbole.config import Config\n",
    "from recbole.data import create_dataset, data_preparation\n",
    "from recbole.model.sequential_recommender import GRU4Rec\n",
    "from recbole.trainer import Trainer\n",
    "from recbole.utils import init_seed, init_logger"
   ]
  },
  {
   "cell_type": "code",
   "execution_count": 9,
   "id": "5b12b5e3",
   "metadata": {
    "execution": {
     "iopub.execute_input": "2022-03-22T11:31:39.471933Z",
     "iopub.status.busy": "2022-03-22T11:31:39.471364Z",
     "iopub.status.idle": "2022-03-22T11:31:39.616847Z",
     "shell.execute_reply": "2022-03-22T11:31:39.616069Z",
     "shell.execute_reply.started": "2022-03-22T11:25:40.933743Z"
    },
    "papermill": {
     "duration": 0.194499,
     "end_time": "2022-03-22T11:31:39.616986",
     "exception": false,
     "start_time": "2022-03-22T11:31:39.422487",
     "status": "completed"
    },
    "tags": []
   },
   "outputs": [],
   "source": [
    "parameter_dict = {\n",
    "    'data_path': '/kaggle/working',\n",
    "    'USER_ID_FIELD': 'user_id',\n",
    "    'ITEM_ID_FIELD': 'item_id',\n",
    "    'TIME_FIELD': 'timestamp',\n",
    "    'user_inter_num_interval': \"[40,inf)\",\n",
    "    'item_inter_num_interval': \"[40,inf)\",\n",
    "    'load_col': {'inter': ['user_id', 'item_id', 'timestamp']},\n",
    "    'neg_sampling': None,\n",
    "    'epochs': 2,\n",
    "    'eval_args': {\n",
    "        'split': {'RS': [9, 0, 1]},\n",
    "        'group_by': 'user',\n",
    "        'order': 'TO',\n",
    "        'mode': 'full'}\n",
    "}\n",
    "config = Config(model='GRU4Rec', dataset='recbox_data', config_dict=parameter_dict)\n",
    "\n",
    "# init random seed\n",
    "init_seed(config['seed'], config['reproducibility'])\n",
    "\n",
    "# logger initialization\n",
    "init_logger(config)\n",
    "logger = getLogger()\n",
    "# Create handlers\n",
    "c_handler = logging.StreamHandler()\n",
    "c_handler.setLevel(logging.INFO)\n",
    "logger.addHandler(c_handler)\n",
    "\n",
    "# write config info into log\n",
    "# logger.info(config)"
   ]
  },
  {
   "cell_type": "code",
   "execution_count": 10,
   "id": "66d6665c",
   "metadata": {
    "execution": {
     "iopub.execute_input": "2022-03-22T11:31:39.705283Z",
     "iopub.status.busy": "2022-03-22T11:31:39.704402Z",
     "iopub.status.idle": "2022-03-22T11:32:50.717689Z",
     "shell.execute_reply": "2022-03-22T11:32:50.704401Z",
     "shell.execute_reply.started": "2022-03-22T11:25:40.936334Z"
    },
    "papermill": {
     "duration": 71.058918,
     "end_time": "2022-03-22T11:32:50.717821",
     "exception": false,
     "start_time": "2022-03-22T11:31:39.658903",
     "status": "completed"
    },
    "tags": []
   },
   "outputs": [
    {
     "name": "stderr",
     "output_type": "stream",
     "text": [
      "recbox_data\n",
      "The number of users: 15459\n",
      "Average actions of users: 59.21956268598784\n",
      "The number of items: 7330\n",
      "Average actions of items: 124.9032610178742\n",
      "The number of inters: 915416\n",
      "The sparsity of the dataset: 99.19214553975321%\n",
      "Remain Fields: ['user_id', 'item_id', 'timestamp']\n"
     ]
    }
   ],
   "source": [
    "dataset = create_dataset(config)\n",
    "logger.info(dataset)"
   ]
  },
  {
   "cell_type": "code",
   "execution_count": 11,
   "id": "0f89f348",
   "metadata": {
    "execution": {
     "iopub.execute_input": "2022-03-22T11:32:50.817058Z",
     "iopub.status.busy": "2022-03-22T11:32:50.816513Z",
     "iopub.status.idle": "2022-03-22T11:33:08.612467Z",
     "shell.execute_reply": "2022-03-22T11:33:08.608620Z",
     "shell.execute_reply.started": "2022-03-22T11:25:40.938920Z"
    },
    "papermill": {
     "duration": 17.848457,
     "end_time": "2022-03-22T11:33:08.612596",
     "exception": false,
     "start_time": "2022-03-22T11:32:50.764139",
     "status": "completed"
    },
    "tags": []
   },
   "outputs": [
    {
     "name": "stderr",
     "output_type": "stream",
     "text": [
      "[Training]: train_batch_size = [2048] negative sampling: [None]\n",
      "[Evaluation]: eval_batch_size = [4096] eval_args: [{'split': {'RS': [9, 0, 1]}, 'group_by': 'user', 'order': 'TO', 'mode': 'full'}]\n"
     ]
    }
   ],
   "source": [
    "# dataset splitting\n",
    "train_data, valid_data, test_data = data_preparation(config, dataset)"
   ]
  },
  {
   "cell_type": "code",
   "execution_count": 12,
   "id": "dc05d4c5",
   "metadata": {
    "execution": {
     "iopub.execute_input": "2022-03-22T11:33:08.720286Z",
     "iopub.status.busy": "2022-03-22T11:33:08.719792Z",
     "iopub.status.idle": "2022-03-22T11:33:08.729172Z",
     "shell.execute_reply": "2022-03-22T11:33:08.728748Z",
     "shell.execute_reply.started": "2022-03-22T11:25:40.941469Z"
    },
    "papermill": {
     "duration": 0.06471,
     "end_time": "2022-03-22T11:33:08.729290",
     "exception": false,
     "start_time": "2022-03-22T11:33:08.664580",
     "status": "completed"
    },
    "tags": []
   },
   "outputs": [
    {
     "data": {
      "text/plain": [
       "The batch_size of interaction: 5\n",
       "    user_id, torch.Size([5]), cpu, torch.int64\n",
       "    item_id, torch.Size([5]), cpu, torch.int64\n",
       "    timestamp, torch.Size([5]), cpu, torch.float32\n",
       "    item_length, torch.Size([5]), cpu, torch.int64\n",
       "    item_id_list, torch.Size([5, 50]), cpu, torch.int64\n",
       "    timestamp_list, torch.Size([5, 50]), cpu, torch.float32\n"
      ]
     },
     "execution_count": 12,
     "metadata": {},
     "output_type": "execute_result"
    }
   ],
   "source": [
    "input_features = test_data.dataset[np.isin(test_data.dataset[test_data.dataset.uid_field].numpy(), [2])]\n",
    "input_features"
   ]
  },
  {
   "cell_type": "markdown",
   "id": "ca282f03",
   "metadata": {
    "papermill": {
     "duration": 0.052308,
     "end_time": "2022-03-22T11:33:08.833298",
     "exception": false,
     "start_time": "2022-03-22T11:33:08.780990",
     "status": "completed"
    },
    "tags": []
   },
   "source": [
    "#  Custom code for using all items in recommendation"
   ]
  },
  {
   "cell_type": "code",
   "execution_count": 13,
   "id": "71552c79",
   "metadata": {
    "execution": {
     "iopub.execute_input": "2022-03-22T11:33:08.946461Z",
     "iopub.status.busy": "2022-03-22T11:33:08.945910Z",
     "iopub.status.idle": "2022-03-22T11:33:39.407936Z",
     "shell.execute_reply": "2022-03-22T11:33:39.397431Z",
     "shell.execute_reply.started": "2022-03-22T11:25:40.944086Z"
    },
    "papermill": {
     "duration": 30.522024,
     "end_time": "2022-03-22T11:33:39.408141",
     "exception": false,
     "start_time": "2022-03-22T11:33:08.886117",
     "status": "completed"
    },
    "tags": []
   },
   "outputs": [
    {
     "name": "stderr",
     "output_type": "stream",
     "text": [
      "GRU4Rec(\n",
      "  (item_embedding): Embedding(7330, 64, padding_idx=0)\n",
      "  (emb_dropout): Dropout(p=0.3, inplace=False)\n",
      "  (gru_layers): GRU(64, 128, bias=False, batch_first=True)\n",
      "  (dense): Linear(in_features=128, out_features=64, bias=True)\n",
      "  (loss_fct): CrossEntropyLoss()\n",
      ")\n",
      "Trainable parameters: 551104\n",
      "epoch 0 training [time: 13.01s, train loss: 3384.6924]\n",
      "Saving current: saved/GRU4Rec-Mar-22-2022_11-33-16.pth\n",
      "epoch 1 training [time: 10.17s, train loss: 3260.1609]\n",
      "Saving current: saved/GRU4Rec-Mar-22-2022_11-33-16.pth\n"
     ]
    }
   ],
   "source": [
    "# model loading and initialization\n",
    "model = GRU4Rec(config, train_data.dataset).to(config['device'])\n",
    "logger.info(model)\n",
    "\n",
    "# trainer loading and initialization\n",
    "trainer = Trainer(config, model)\n",
    "\n",
    "# model training\n",
    "best_valid_score, best_valid_result = trainer.fit(train_data)"
   ]
  },
  {
   "cell_type": "code",
   "execution_count": 14,
   "id": "6afff581",
   "metadata": {
    "execution": {
     "iopub.execute_input": "2022-03-22T11:33:39.608140Z",
     "iopub.status.busy": "2022-03-22T11:33:39.606785Z",
     "iopub.status.idle": "2022-03-22T11:33:39.610071Z",
     "shell.execute_reply": "2022-03-22T11:33:39.607490Z",
     "shell.execute_reply.started": "2022-03-22T11:25:40.946600Z"
    },
    "papermill": {
     "duration": 0.106679,
     "end_time": "2022-03-22T11:33:39.610240",
     "exception": false,
     "start_time": "2022-03-22T11:33:39.503561",
     "status": "completed"
    },
    "tags": []
   },
   "outputs": [
    {
     "data": {
      "text/plain": [
       "GRU4Rec(\n",
       "  (item_embedding): Embedding(7330, 64, padding_idx=0)\n",
       "  (emb_dropout): Dropout(p=0.3, inplace=False)\n",
       "  (gru_layers): GRU(64, 128, bias=False, batch_first=True)\n",
       "  (dense): Linear(in_features=128, out_features=64, bias=True)\n",
       "  (loss_fct): CrossEntropyLoss()\n",
       ")"
      ]
     },
     "execution_count": 14,
     "metadata": {},
     "output_type": "execute_result"
    }
   ],
   "source": [
    "model.eval()"
   ]
  },
  {
   "cell_type": "code",
   "execution_count": 15,
   "id": "795385ae",
   "metadata": {
    "execution": {
     "iopub.execute_input": "2022-03-22T11:33:39.811793Z",
     "iopub.status.busy": "2022-03-22T11:33:39.811038Z",
     "iopub.status.idle": "2022-03-22T11:33:39.832317Z",
     "shell.execute_reply": "2022-03-22T11:33:39.833256Z",
     "shell.execute_reply.started": "2022-03-22T11:25:40.949110Z"
    },
    "papermill": {
     "duration": 0.127568,
     "end_time": "2022-03-22T11:33:39.833428",
     "exception": false,
     "start_time": "2022-03-22T11:33:39.705860",
     "status": "completed"
    },
    "tags": []
   },
   "outputs": [
    {
     "data": {
      "text/plain": [
       "The batch_size of interaction: 50\n",
       "    user_id, torch.Size([50]), cpu, torch.int64\n",
       "    item_id, torch.Size([50]), cpu, torch.int64\n",
       "    timestamp, torch.Size([50]), cpu, torch.float32\n",
       "    item_length, torch.Size([50]), cpu, torch.int64\n",
       "    item_id_list, torch.Size([50, 50]), cpu, torch.int64\n",
       "    timestamp_list, torch.Size([50, 50]), cpu, torch.float32\n"
      ]
     },
     "execution_count": 15,
     "metadata": {},
     "output_type": "execute_result"
    }
   ],
   "source": [
    "index = np.isin(dataset[dataset.uid_field].numpy(), [2])\n",
    "input_interaction = dataset[index]\n",
    "input_interaction"
   ]
  },
  {
   "cell_type": "code",
   "execution_count": 16,
   "id": "348e0a5c",
   "metadata": {
    "execution": {
     "iopub.execute_input": "2022-03-22T11:33:39.991773Z",
     "iopub.status.busy": "2022-03-22T11:33:39.991208Z",
     "iopub.status.idle": "2022-03-22T11:33:39.998130Z",
     "shell.execute_reply": "2022-03-22T11:33:39.997714Z",
     "shell.execute_reply.started": "2022-03-22T11:25:40.951701Z"
    },
    "papermill": {
     "duration": 0.071779,
     "end_time": "2022-03-22T11:33:39.998237",
     "exception": false,
     "start_time": "2022-03-22T11:33:39.926458",
     "status": "completed"
    },
    "tags": []
   },
   "outputs": [
    {
     "data": {
      "text/plain": [
       "The batch_size of interaction: 1\n",
       "    item_id_list, torch.Size([1, 50]), cpu, torch.int64\n",
       "    item_length, torch.Size([1]), cpu, torch.int64\n"
      ]
     },
     "execution_count": 16,
     "metadata": {},
     "output_type": "execute_result"
    }
   ],
   "source": [
    "import torch\n",
    "from recbole.data.interaction import Interaction\n",
    "\n",
    "def add_last_item(old_interaction, last_item_id, max_len=50):\n",
    "    new_seq_items = old_interaction['item_id_list'][-1]\n",
    "    if old_interaction['item_length'][-1].item() < max_len:\n",
    "        new_seq_items[input_interaction['item_length'][-1].item()] = last_item_id\n",
    "    else:\n",
    "        new_seq_items = torch.roll(new_seq_items, -1)\n",
    "        new_seq_items[-1] = last_item_id\n",
    "    return new_seq_items.view(1, len(new_seq_items))\n",
    "\n",
    "test = {\n",
    "            'item_id_list': add_last_item(input_interaction, input_interaction['item_id'][-1].item(), model.max_seq_length),\n",
    "            'item_length': torch.tensor(\n",
    "                [input_interaction['item_length'][-1].item() + 1\n",
    "                 if input_interaction['item_length'][-1].item() < model.max_seq_length else model.max_seq_length])\n",
    "        }\n",
    "new_inter = Interaction(test)\n",
    "new_inter"
   ]
  },
  {
   "cell_type": "code",
   "execution_count": 17,
   "id": "284e2288",
   "metadata": {
    "execution": {
     "iopub.execute_input": "2022-03-22T11:33:40.121283Z",
     "iopub.status.busy": "2022-03-22T11:33:40.120361Z",
     "iopub.status.idle": "2022-03-22T11:33:40.139686Z",
     "shell.execute_reply": "2022-03-22T11:33:40.139223Z",
     "shell.execute_reply.started": "2022-03-22T11:25:40.954364Z"
    },
    "papermill": {
     "duration": 0.082693,
     "end_time": "2022-03-22T11:33:40.139796",
     "exception": false,
     "start_time": "2022-03-22T11:33:40.057103",
     "status": "completed"
    },
    "tags": []
   },
   "outputs": [],
   "source": [
    "new_inter = new_inter.to(config['device'])\n",
    "new_scores = model.full_sort_predict(new_inter)\n",
    "new_scores = new_scores.view(-1, test_data.dataset.item_num)\n",
    "new_scores[:, 0] = -np.inf  # set scores of [pad] to -inf"
   ]
  },
  {
   "cell_type": "code",
   "execution_count": 18,
   "id": "caf0baec",
   "metadata": {
    "execution": {
     "iopub.execute_input": "2022-03-22T11:33:40.266973Z",
     "iopub.status.busy": "2022-03-22T11:33:40.266282Z",
     "iopub.status.idle": "2022-03-22T11:33:40.268800Z",
     "shell.execute_reply": "2022-03-22T11:33:40.268341Z",
     "shell.execute_reply.started": "2022-03-22T11:25:40.956845Z"
    },
    "papermill": {
     "duration": 0.070408,
     "end_time": "2022-03-22T11:33:40.268908",
     "exception": false,
     "start_time": "2022-03-22T11:33:40.198500",
     "status": "completed"
    },
    "tags": []
   },
   "outputs": [],
   "source": [
    "import torch\n",
    "from recbole.data.interaction import Interaction\n",
    "\n",
    "def add_last_item(old_interaction, last_item_id, max_len=50):\n",
    "    new_seq_items = old_interaction['item_id_list'][-1]\n",
    "    if old_interaction['item_length'][-1].item() < max_len:\n",
    "        new_seq_items[old_interaction['item_length'][-1].item()] = last_item_id\n",
    "    else:\n",
    "        new_seq_items = torch.roll(new_seq_items, -1)\n",
    "        new_seq_items[-1] = last_item_id\n",
    "    return new_seq_items.view(1, len(new_seq_items))\n",
    "\n",
    "def predict_for_all_item(external_user_id, dataset, model):\n",
    "    model.eval()\n",
    "    with torch.no_grad():\n",
    "        uid_series = dataset.token2id(dataset.uid_field, [external_user_id])\n",
    "        index = np.isin(dataset[dataset.uid_field].numpy(), uid_series)\n",
    "        input_interaction = dataset[index]\n",
    "        test = {\n",
    "            'item_id_list': add_last_item(input_interaction, \n",
    "                                          input_interaction['item_id'][-1].item(), model.max_seq_length),\n",
    "            'item_length': torch.tensor(\n",
    "                [input_interaction['item_length'][-1].item() + 1\n",
    "                 if input_interaction['item_length'][-1].item() < model.max_seq_length else model.max_seq_length])\n",
    "        }\n",
    "        new_inter = Interaction(test)\n",
    "        new_inter = new_inter.to(config['device'])\n",
    "        new_scores = model.full_sort_predict(new_inter)\n",
    "        new_scores = new_scores.view(-1, test_data.dataset.item_num)\n",
    "        new_scores[:, 0] = -np.inf  # set scores of [pad] to -inf\n",
    "    return torch.topk(new_scores, 10)"
   ]
  },
  {
   "cell_type": "code",
   "execution_count": null,
   "id": "fd1e56d1",
   "metadata": {
    "papermill": {
     "duration": 0.058238,
     "end_time": "2022-03-22T11:33:40.385402",
     "exception": false,
     "start_time": "2022-03-22T11:33:40.327164",
     "status": "completed"
    },
    "tags": []
   },
   "outputs": [],
   "source": []
  },
  {
   "cell_type": "code",
   "execution_count": null,
   "id": "03fa9774",
   "metadata": {
    "papermill": {
     "duration": 0.057962,
     "end_time": "2022-03-22T11:33:40.501931",
     "exception": false,
     "start_time": "2022-03-22T11:33:40.443969",
     "status": "completed"
    },
    "tags": []
   },
   "outputs": [],
   "source": []
  }
 ],
 "metadata": {
  "kernelspec": {
   "display_name": "Python 3",
   "language": "python",
   "name": "python3"
  },
  "language_info": {
   "codemirror_mode": {
    "name": "ipython",
    "version": 3
   },
   "file_extension": ".py",
   "mimetype": "text/x-python",
   "name": "python",
   "nbconvert_exporter": "python",
   "pygments_lexer": "ipython3",
   "version": "3.7.12"
  },
  "papermill": {
   "default_parameters": {},
   "duration": 259.663881,
   "end_time": "2022-03-22T11:33:44.088564",
   "environment_variables": {},
   "exception": null,
   "input_path": "__notebook__.ipynb",
   "output_path": "__notebook__.ipynb",
   "parameters": {},
   "start_time": "2022-03-22T11:29:24.424683",
   "version": "2.3.3"
  }
 },
 "nbformat": 4,
 "nbformat_minor": 5
}
