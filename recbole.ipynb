{
 "cells": [
  {
   "cell_type": "code",
   "execution_count": 1,
   "id": "247faddb",
   "metadata": {
    "_cell_guid": "b1076dfc-b9ad-4769-8c92-a6c4dae69d19",
    "_uuid": "8f2839f25d086af736a60e9eeb907d3b93b6e0e5",
    "execution": {
     "iopub.execute_input": "2022-03-22T11:37:09.286254Z",
     "iopub.status.busy": "2022-03-22T11:37:09.285517Z",
     "iopub.status.idle": "2022-03-22T11:37:09.288957Z",
     "shell.execute_reply": "2022-03-22T11:37:09.289916Z",
     "shell.execute_reply.started": "2022-03-22T11:24:12.109063Z"
    },
    "papermill": {
     "duration": 0.049388,
     "end_time": "2022-03-22T11:37:09.290204",
     "exception": false,
     "start_time": "2022-03-22T11:37:09.240816",
     "status": "completed"
    },
    "tags": []
   },
   "outputs": [],
   "source": [
    "import numpy as np\n",
    "import pandas as pd "
   ]
  },
  {
   "cell_type": "code",
   "execution_count": 2,
   "id": "994727ef",
   "metadata": {
    "execution": {
     "iopub.execute_input": "2022-03-22T11:37:09.334745Z",
     "iopub.status.busy": "2022-03-22T11:37:09.334004Z",
     "iopub.status.idle": "2022-03-22T11:37:25.479189Z",
     "shell.execute_reply": "2022-03-22T11:37:25.478634Z",
     "shell.execute_reply.started": "2022-03-22T11:24:12.178967Z"
    },
    "papermill": {
     "duration": 16.165944,
     "end_time": "2022-03-22T11:37:25.479338",
     "exception": false,
     "start_time": "2022-03-22T11:37:09.313394",
     "status": "completed"
    },
    "tags": []
   },
   "outputs": [
    {
     "name": "stdout",
     "output_type": "stream",
     "text": [
      "Collecting recbole\r\n",
      "  Downloading recbole-1.0.1-py3-none-any.whl (2.0 MB)\r\n",
      "     |████████████████████████████████| 2.0 MB 892 kB/s            \r\n",
      "\u001b[?25hRequirement already satisfied: colorama==0.4.4 in /opt/conda/lib/python3.7/site-packages (from recbole) (0.4.4)\r\n",
      "Collecting scipy==1.6.0\r\n",
      "  Downloading scipy-1.6.0-cp37-cp37m-manylinux1_x86_64.whl (27.4 MB)\r\n",
      "     |████████████████████████████████| 27.4 MB 63.5 MB/s            \r\n",
      "\u001b[?25hRequirement already satisfied: tensorboard>=2.5.0 in /opt/conda/lib/python3.7/site-packages (from recbole) (2.6.0)\r\n",
      "Requirement already satisfied: pandas>=1.0.5 in /opt/conda/lib/python3.7/site-packages (from recbole) (1.3.5)\r\n",
      "Requirement already satisfied: pyyaml>=5.1.0 in /opt/conda/lib/python3.7/site-packages (from recbole) (6.0)\r\n",
      "Requirement already satisfied: numpy>=1.17.2 in /opt/conda/lib/python3.7/site-packages (from recbole) (1.20.3)\r\n",
      "Requirement already satisfied: scikit-learn>=0.23.2 in /opt/conda/lib/python3.7/site-packages (from recbole) (1.0.1)\r\n",
      "Collecting colorlog==4.7.2\r\n",
      "  Downloading colorlog-4.7.2-py2.py3-none-any.whl (10 kB)\r\n",
      "Requirement already satisfied: tqdm>=4.48.2 in /opt/conda/lib/python3.7/site-packages (from recbole) (4.62.3)\r\n",
      "Requirement already satisfied: torch>=1.7.0 in /opt/conda/lib/python3.7/site-packages (from recbole) (1.9.1)\r\n",
      "Requirement already satisfied: python-dateutil>=2.7.3 in /opt/conda/lib/python3.7/site-packages (from pandas>=1.0.5->recbole) (2.8.2)\r\n",
      "Requirement already satisfied: pytz>=2017.3 in /opt/conda/lib/python3.7/site-packages (from pandas>=1.0.5->recbole) (2021.3)\r\n",
      "Requirement already satisfied: joblib>=0.11 in /opt/conda/lib/python3.7/site-packages (from scikit-learn>=0.23.2->recbole) (1.1.0)\r\n",
      "Requirement already satisfied: threadpoolctl>=2.0.0 in /opt/conda/lib/python3.7/site-packages (from scikit-learn>=0.23.2->recbole) (3.0.0)\r\n",
      "Requirement already satisfied: setuptools>=41.0.0 in /opt/conda/lib/python3.7/site-packages (from tensorboard>=2.5.0->recbole) (59.5.0)\r\n",
      "Requirement already satisfied: tensorboard-plugin-wit>=1.6.0 in /opt/conda/lib/python3.7/site-packages (from tensorboard>=2.5.0->recbole) (1.8.0)\r\n",
      "Requirement already satisfied: google-auth<2,>=1.6.3 in /opt/conda/lib/python3.7/site-packages (from tensorboard>=2.5.0->recbole) (1.35.0)\r\n",
      "Requirement already satisfied: tensorboard-data-server<0.7.0,>=0.6.0 in /opt/conda/lib/python3.7/site-packages (from tensorboard>=2.5.0->recbole) (0.6.1)\r\n",
      "Requirement already satisfied: grpcio>=1.24.3 in /opt/conda/lib/python3.7/site-packages (from tensorboard>=2.5.0->recbole) (1.43.0)\r\n",
      "Requirement already satisfied: google-auth-oauthlib<0.5,>=0.4.1 in /opt/conda/lib/python3.7/site-packages (from tensorboard>=2.5.0->recbole) (0.4.6)\r\n",
      "Requirement already satisfied: absl-py>=0.4 in /opt/conda/lib/python3.7/site-packages (from tensorboard>=2.5.0->recbole) (0.15.0)\r\n",
      "Requirement already satisfied: requests<3,>=2.21.0 in /opt/conda/lib/python3.7/site-packages (from tensorboard>=2.5.0->recbole) (2.26.0)\r\n",
      "Requirement already satisfied: markdown>=2.6.8 in /opt/conda/lib/python3.7/site-packages (from tensorboard>=2.5.0->recbole) (3.3.6)\r\n",
      "Requirement already satisfied: wheel>=0.26 in /opt/conda/lib/python3.7/site-packages (from tensorboard>=2.5.0->recbole) (0.37.0)\r\n",
      "Requirement already satisfied: protobuf>=3.6.0 in /opt/conda/lib/python3.7/site-packages (from tensorboard>=2.5.0->recbole) (3.19.4)\r\n",
      "Requirement already satisfied: werkzeug>=0.11.15 in /opt/conda/lib/python3.7/site-packages (from tensorboard>=2.5.0->recbole) (2.0.2)\r\n",
      "Requirement already satisfied: typing-extensions in /opt/conda/lib/python3.7/site-packages (from torch>=1.7.0->recbole) (4.1.1)\r\n",
      "Requirement already satisfied: six in /opt/conda/lib/python3.7/site-packages (from absl-py>=0.4->tensorboard>=2.5.0->recbole) (1.16.0)\r\n",
      "Requirement already satisfied: cachetools<5.0,>=2.0.0 in /opt/conda/lib/python3.7/site-packages (from google-auth<2,>=1.6.3->tensorboard>=2.5.0->recbole) (4.2.4)\r\n",
      "Requirement already satisfied: rsa<5,>=3.1.4 in /opt/conda/lib/python3.7/site-packages (from google-auth<2,>=1.6.3->tensorboard>=2.5.0->recbole) (4.8)\r\n",
      "Requirement already satisfied: pyasn1-modules>=0.2.1 in /opt/conda/lib/python3.7/site-packages (from google-auth<2,>=1.6.3->tensorboard>=2.5.0->recbole) (0.2.7)\r\n",
      "Requirement already satisfied: requests-oauthlib>=0.7.0 in /opt/conda/lib/python3.7/site-packages (from google-auth-oauthlib<0.5,>=0.4.1->tensorboard>=2.5.0->recbole) (1.3.0)\r\n",
      "Requirement already satisfied: importlib-metadata>=4.4 in /opt/conda/lib/python3.7/site-packages (from markdown>=2.6.8->tensorboard>=2.5.0->recbole) (4.11.3)\r\n",
      "Requirement already satisfied: idna<4,>=2.5 in /opt/conda/lib/python3.7/site-packages (from requests<3,>=2.21.0->tensorboard>=2.5.0->recbole) (3.1)\r\n",
      "Requirement already satisfied: charset-normalizer~=2.0.0 in /opt/conda/lib/python3.7/site-packages (from requests<3,>=2.21.0->tensorboard>=2.5.0->recbole) (2.0.9)\r\n",
      "Requirement already satisfied: urllib3<1.27,>=1.21.1 in /opt/conda/lib/python3.7/site-packages (from requests<3,>=2.21.0->tensorboard>=2.5.0->recbole) (1.26.7)\r\n",
      "Requirement already satisfied: certifi>=2017.4.17 in /opt/conda/lib/python3.7/site-packages (from requests<3,>=2.21.0->tensorboard>=2.5.0->recbole) (2021.10.8)\r\n",
      "Requirement already satisfied: zipp>=0.5 in /opt/conda/lib/python3.7/site-packages (from importlib-metadata>=4.4->markdown>=2.6.8->tensorboard>=2.5.0->recbole) (3.6.0)\r\n",
      "Requirement already satisfied: pyasn1<0.5.0,>=0.4.6 in /opt/conda/lib/python3.7/site-packages (from pyasn1-modules>=0.2.1->google-auth<2,>=1.6.3->tensorboard>=2.5.0->recbole) (0.4.8)\r\n",
      "Requirement already satisfied: oauthlib>=3.0.0 in /opt/conda/lib/python3.7/site-packages (from requests-oauthlib>=0.7.0->google-auth-oauthlib<0.5,>=0.4.1->tensorboard>=2.5.0->recbole) (3.1.1)\r\n",
      "Installing collected packages: scipy, colorlog, recbole\r\n",
      "  Attempting uninstall: scipy\r\n",
      "    Found existing installation: scipy 1.7.3\r\n",
      "    Uninstalling scipy-1.7.3:\r\n",
      "      Successfully uninstalled scipy-1.7.3\r\n",
      "  Attempting uninstall: colorlog\r\n",
      "    Found existing installation: colorlog 6.6.0\r\n",
      "    Uninstalling colorlog-6.6.0:\r\n",
      "      Successfully uninstalled colorlog-6.6.0\r\n",
      "\u001b[31mERROR: pip's dependency resolver does not currently take into account all the packages that are installed. This behaviour is the source of the following dependency conflicts.\r\n",
      "pymc3 3.11.5 requires scipy<1.8.0,>=1.7.3, but you have scipy 1.6.0 which is incompatible.\r\n",
      "pdpbox 0.2.1 requires matplotlib==3.1.1, but you have matplotlib 3.5.1 which is incompatible.\r\n",
      "featuretools 1.6.0 requires numpy>=1.21.0, but you have numpy 1.20.3 which is incompatible.\r\n",
      "arviz 0.11.4 requires typing-extensions<4,>=3.7.4.3, but you have typing-extensions 4.1.1 which is incompatible.\u001b[0m\r\n",
      "Successfully installed colorlog-4.7.2 recbole-1.0.1 scipy-1.6.0\r\n",
      "\u001b[33mWARNING: Running pip as the 'root' user can result in broken permissions and conflicting behaviour with the system package manager. It is recommended to use a virtual environment instead: https://pip.pypa.io/warnings/venv\u001b[0m\r\n"
     ]
    }
   ],
   "source": [
    "!pip install recbole"
   ]
  },
  {
   "cell_type": "code",
   "execution_count": 3,
   "id": "0d07caba",
   "metadata": {
    "execution": {
     "iopub.execute_input": "2022-03-22T11:37:25.556765Z",
     "iopub.status.busy": "2022-03-22T11:37:25.556180Z",
     "iopub.status.idle": "2022-03-22T11:38:27.952033Z",
     "shell.execute_reply": "2022-03-22T11:38:27.953027Z",
     "shell.execute_reply.started": "2022-03-22T11:35:53.446441Z"
    },
    "papermill": {
     "duration": 62.437193,
     "end_time": "2022-03-22T11:38:27.953237",
     "exception": false,
     "start_time": "2022-03-22T11:37:25.516044",
     "status": "completed"
    },
    "tags": []
   },
   "outputs": [],
   "source": [
    "df = pd.read_csv(r\"/kaggle/input/h-and-m-personalized-fashion-recommendations/transactions_train.csv\", \n",
    "                 dtype={'article_id': 'str'})"
   ]
  },
  {
   "cell_type": "code",
   "execution_count": 4,
   "id": "9ef6857d",
   "metadata": {
    "execution": {
     "iopub.execute_input": "2022-03-22T11:38:28.099464Z",
     "iopub.status.busy": "2022-03-22T11:38:28.098786Z",
     "iopub.status.idle": "2022-03-22T11:38:35.168875Z",
     "shell.execute_reply": "2022-03-22T11:38:35.169339Z",
     "shell.execute_reply.started": "2022-03-22T11:36:34.443835Z"
    },
    "papermill": {
     "duration": 7.145568,
     "end_time": "2022-03-22T11:38:35.169490",
     "exception": false,
     "start_time": "2022-03-22T11:38:28.023922",
     "status": "completed"
    },
    "tags": []
   },
   "outputs": [
    {
     "data": {
      "text/html": [
       "<div>\n",
       "<style scoped>\n",
       "    .dataframe tbody tr th:only-of-type {\n",
       "        vertical-align: middle;\n",
       "    }\n",
       "\n",
       "    .dataframe tbody tr th {\n",
       "        vertical-align: top;\n",
       "    }\n",
       "\n",
       "    .dataframe thead th {\n",
       "        text-align: right;\n",
       "    }\n",
       "</style>\n",
       "<table border=\"1\" class=\"dataframe\">\n",
       "  <thead>\n",
       "    <tr style=\"text-align: right;\">\n",
       "      <th></th>\n",
       "      <th>t_dat</th>\n",
       "      <th>customer_id</th>\n",
       "      <th>article_id</th>\n",
       "      <th>price</th>\n",
       "      <th>sales_channel_id</th>\n",
       "      <th>timestamp</th>\n",
       "    </tr>\n",
       "  </thead>\n",
       "  <tbody>\n",
       "    <tr>\n",
       "      <th>0</th>\n",
       "      <td>2018-09-20</td>\n",
       "      <td>000058a12d5b43e67d225668fa1f8d618c13dc232df0ca...</td>\n",
       "      <td>0663713001</td>\n",
       "      <td>0.050831</td>\n",
       "      <td>2</td>\n",
       "      <td>1537401600</td>\n",
       "    </tr>\n",
       "    <tr>\n",
       "      <th>1</th>\n",
       "      <td>2018-09-20</td>\n",
       "      <td>000058a12d5b43e67d225668fa1f8d618c13dc232df0ca...</td>\n",
       "      <td>0541518023</td>\n",
       "      <td>0.030492</td>\n",
       "      <td>2</td>\n",
       "      <td>1537401600</td>\n",
       "    </tr>\n",
       "    <tr>\n",
       "      <th>2</th>\n",
       "      <td>2018-09-20</td>\n",
       "      <td>00007d2de826758b65a93dd24ce629ed66842531df6699...</td>\n",
       "      <td>0505221004</td>\n",
       "      <td>0.015237</td>\n",
       "      <td>2</td>\n",
       "      <td>1537401600</td>\n",
       "    </tr>\n",
       "    <tr>\n",
       "      <th>3</th>\n",
       "      <td>2018-09-20</td>\n",
       "      <td>00007d2de826758b65a93dd24ce629ed66842531df6699...</td>\n",
       "      <td>0685687003</td>\n",
       "      <td>0.016932</td>\n",
       "      <td>2</td>\n",
       "      <td>1537401600</td>\n",
       "    </tr>\n",
       "    <tr>\n",
       "      <th>4</th>\n",
       "      <td>2018-09-20</td>\n",
       "      <td>00007d2de826758b65a93dd24ce629ed66842531df6699...</td>\n",
       "      <td>0685687004</td>\n",
       "      <td>0.016932</td>\n",
       "      <td>2</td>\n",
       "      <td>1537401600</td>\n",
       "    </tr>\n",
       "  </tbody>\n",
       "</table>\n",
       "</div>"
      ],
      "text/plain": [
       "       t_dat                                        customer_id  article_id  \\\n",
       "0 2018-09-20  000058a12d5b43e67d225668fa1f8d618c13dc232df0ca...  0663713001   \n",
       "1 2018-09-20  000058a12d5b43e67d225668fa1f8d618c13dc232df0ca...  0541518023   \n",
       "2 2018-09-20  00007d2de826758b65a93dd24ce629ed66842531df6699...  0505221004   \n",
       "3 2018-09-20  00007d2de826758b65a93dd24ce629ed66842531df6699...  0685687003   \n",
       "4 2018-09-20  00007d2de826758b65a93dd24ce629ed66842531df6699...  0685687004   \n",
       "\n",
       "      price  sales_channel_id   timestamp  \n",
       "0  0.050831                 2  1537401600  \n",
       "1  0.030492                 2  1537401600  \n",
       "2  0.015237                 2  1537401600  \n",
       "3  0.016932                 2  1537401600  \n",
       "4  0.016932                 2  1537401600  "
      ]
     },
     "execution_count": 4,
     "metadata": {},
     "output_type": "execute_result"
    }
   ],
   "source": [
    "import numpy as np\n",
    "df['t_dat'] = pd.to_datetime(df['t_dat'], format=\"%Y-%m-%d\")\n",
    "df['timestamp'] = df.t_dat.values.astype(np.int64) // 10 ** 9\n",
    "df.head()"
   ]
  },
  {
   "cell_type": "code",
   "execution_count": 5,
   "id": "a1489177",
   "metadata": {
    "execution": {
     "iopub.execute_input": "2022-03-22T11:38:35.252910Z",
     "iopub.status.busy": "2022-03-22T11:38:35.252128Z",
     "iopub.status.idle": "2022-03-22T11:38:36.654949Z",
     "shell.execute_reply": "2022-03-22T11:38:36.654512Z",
     "shell.execute_reply.started": "2022-03-22T11:36:41.816910Z"
    },
    "papermill": {
     "duration": 1.450047,
     "end_time": "2022-03-22T11:38:36.655071",
     "exception": false,
     "start_time": "2022-03-22T11:38:35.205024",
     "status": "completed"
    },
    "tags": []
   },
   "outputs": [
    {
     "data": {
      "text/html": [
       "<div>\n",
       "<style scoped>\n",
       "    .dataframe tbody tr th:only-of-type {\n",
       "        vertical-align: middle;\n",
       "    }\n",
       "\n",
       "    .dataframe tbody tr th {\n",
       "        vertical-align: top;\n",
       "    }\n",
       "\n",
       "    .dataframe thead th {\n",
       "        text-align: right;\n",
       "    }\n",
       "</style>\n",
       "<table border=\"1\" class=\"dataframe\">\n",
       "  <thead>\n",
       "    <tr style=\"text-align: right;\">\n",
       "      <th></th>\n",
       "      <th>user_id:token</th>\n",
       "      <th>item_id:token</th>\n",
       "      <th>timestamp:float</th>\n",
       "    </tr>\n",
       "  </thead>\n",
       "  <tbody>\n",
       "    <tr>\n",
       "      <th>23934157</th>\n",
       "      <td>000058a12d5b43e67d225668fa1f8d618c13dc232df0ca...</td>\n",
       "      <td>0727808001</td>\n",
       "      <td>1585699200</td>\n",
       "    </tr>\n",
       "    <tr>\n",
       "      <th>23934158</th>\n",
       "      <td>000058a12d5b43e67d225668fa1f8d618c13dc232df0ca...</td>\n",
       "      <td>0727808007</td>\n",
       "      <td>1585699200</td>\n",
       "    </tr>\n",
       "    <tr>\n",
       "      <th>23934159</th>\n",
       "      <td>000563485cbb7850b0a93c6606f89c5b961c6647d1bd48...</td>\n",
       "      <td>0567532015</td>\n",
       "      <td>1585699200</td>\n",
       "    </tr>\n",
       "    <tr>\n",
       "      <th>23934160</th>\n",
       "      <td>000563485cbb7850b0a93c6606f89c5b961c6647d1bd48...</td>\n",
       "      <td>0706104009</td>\n",
       "      <td>1585699200</td>\n",
       "    </tr>\n",
       "    <tr>\n",
       "      <th>23934161</th>\n",
       "      <td>00083cda041544b2fbb0e0d2905ad17da7cf1007526fb4...</td>\n",
       "      <td>0783504004</td>\n",
       "      <td>1585699200</td>\n",
       "    </tr>\n",
       "  </tbody>\n",
       "</table>\n",
       "</div>"
      ],
      "text/plain": [
       "                                              user_id:token item_id:token  \\\n",
       "23934157  000058a12d5b43e67d225668fa1f8d618c13dc232df0ca...    0727808001   \n",
       "23934158  000058a12d5b43e67d225668fa1f8d618c13dc232df0ca...    0727808007   \n",
       "23934159  000563485cbb7850b0a93c6606f89c5b961c6647d1bd48...    0567532015   \n",
       "23934160  000563485cbb7850b0a93c6606f89c5b961c6647d1bd48...    0706104009   \n",
       "23934161  00083cda041544b2fbb0e0d2905ad17da7cf1007526fb4...    0783504004   \n",
       "\n",
       "          timestamp:float  \n",
       "23934157       1585699200  \n",
       "23934158       1585699200  \n",
       "23934159       1585699200  \n",
       "23934160       1585699200  \n",
       "23934161       1585699200  "
      ]
     },
     "execution_count": 5,
     "metadata": {},
     "output_type": "execute_result"
    }
   ],
   "source": [
    "temp = df[df['timestamp'] > 1585620000][['customer_id', 'article_id', 'timestamp']].rename(\n",
    "    columns={'customer_id': 'user_id:token', 'article_id': 'item_id:token', 'timestamp': 'timestamp:float'})\n",
    "temp.head()"
   ]
  },
  {
   "cell_type": "code",
   "execution_count": 6,
   "id": "97198298",
   "metadata": {
    "execution": {
     "iopub.execute_input": "2022-03-22T11:38:36.731564Z",
     "iopub.status.busy": "2022-03-22T11:38:36.731017Z",
     "iopub.status.idle": "2022-03-22T11:39:12.710797Z",
     "shell.execute_reply": "2022-03-22T11:39:12.711287Z",
     "shell.execute_reply.started": "2022-03-22T11:25:40.924574Z"
    },
    "papermill": {
     "duration": 36.02026,
     "end_time": "2022-03-22T11:39:12.711497",
     "exception": false,
     "start_time": "2022-03-22T11:38:36.691237",
     "status": "completed"
    },
    "tags": []
   },
   "outputs": [],
   "source": [
    "!mkdir /kaggle/working/recbox_data\n",
    "temp.to_csv('/kaggle/working/recbox_data/recbox_data.inter', index=False, sep='\\t')"
   ]
  },
  {
   "cell_type": "code",
   "execution_count": 7,
   "id": "8a39bd98",
   "metadata": {
    "execution": {
     "iopub.execute_input": "2022-03-22T11:39:12.895463Z",
     "iopub.status.busy": "2022-03-22T11:39:12.894400Z",
     "iopub.status.idle": "2022-03-22T11:39:12.898352Z",
     "shell.execute_reply": "2022-03-22T11:39:12.897919Z",
     "shell.execute_reply.started": "2022-03-22T11:25:40.927583Z"
    },
    "papermill": {
     "duration": 0.14964,
     "end_time": "2022-03-22T11:39:12.898536",
     "exception": false,
     "start_time": "2022-03-22T11:39:12.748896",
     "status": "completed"
    },
    "tags": []
   },
   "outputs": [
    {
     "data": {
      "text/plain": [
       "34"
      ]
     },
     "execution_count": 7,
     "metadata": {},
     "output_type": "execute_result"
    }
   ],
   "source": [
    "import gc\n",
    "del temp\n",
    "gc.collect()"
   ]
  },
  {
   "cell_type": "code",
   "execution_count": 8,
   "id": "e30eb444",
   "metadata": {
    "execution": {
     "iopub.execute_input": "2022-03-22T11:39:12.973776Z",
     "iopub.status.busy": "2022-03-22T11:39:12.972996Z",
     "iopub.status.idle": "2022-03-22T11:39:15.120253Z",
     "shell.execute_reply": "2022-03-22T11:39:15.119407Z",
     "shell.execute_reply.started": "2022-03-22T11:25:40.931003Z"
    },
    "papermill": {
     "duration": 2.18597,
     "end_time": "2022-03-22T11:39:15.120427",
     "exception": false,
     "start_time": "2022-03-22T11:39:12.934457",
     "status": "completed"
    },
    "tags": []
   },
   "outputs": [],
   "source": [
    "import logging\n",
    "from logging import getLogger\n",
    "from recbole.config import Config\n",
    "from recbole.data import create_dataset, data_preparation\n",
    "from recbole.model.sequential_recommender import GRU4Rec\n",
    "from recbole.trainer import Trainer\n",
    "from recbole.utils import init_seed, init_logger"
   ]
  },
  {
   "cell_type": "code",
   "execution_count": 9,
   "id": "d26f6ffe",
   "metadata": {
    "execution": {
     "iopub.execute_input": "2022-03-22T11:39:15.201218Z",
     "iopub.status.busy": "2022-03-22T11:39:15.200684Z",
     "iopub.status.idle": "2022-03-22T11:39:15.355193Z",
     "shell.execute_reply": "2022-03-22T11:39:15.353997Z",
     "shell.execute_reply.started": "2022-03-22T11:25:40.933743Z"
    },
    "papermill": {
     "duration": 0.198263,
     "end_time": "2022-03-22T11:39:15.355363",
     "exception": false,
     "start_time": "2022-03-22T11:39:15.157100",
     "status": "completed"
    },
    "tags": []
   },
   "outputs": [],
   "source": [
    "parameter_dict = {\n",
    "    'data_path': '/kaggle/working',\n",
    "    'USER_ID_FIELD': 'user_id',\n",
    "    'ITEM_ID_FIELD': 'item_id',\n",
    "    'TIME_FIELD': 'timestamp',\n",
    "    'user_inter_num_interval': \"[40,inf)\",\n",
    "    'item_inter_num_interval': \"[40,inf)\",\n",
    "    'load_col': {'inter': ['user_id', 'item_id', 'timestamp']},\n",
    "    'neg_sampling': None,\n",
    "    'epochs': 2,\n",
    "    'eval_args': {\n",
    "        'split': {'RS': [9, 0, 1]},\n",
    "        'group_by': 'user',\n",
    "        'order': 'TO',\n",
    "        'mode': 'full'}\n",
    "}\n",
    "config = Config(model='GRU4Rec', dataset='recbox_data', config_dict=parameter_dict)\n",
    "\n",
    "# init random seed\n",
    "init_seed(config['seed'], config['reproducibility'])\n",
    "\n",
    "# logger initialization\n",
    "init_logger(config)\n",
    "logger = getLogger()\n",
    "# Create handlers\n",
    "c_handler = logging.StreamHandler()\n",
    "c_handler.setLevel(logging.INFO)\n",
    "logger.addHandler(c_handler)\n",
    "\n",
    "# write config info into log\n",
    "# logger.info(config)"
   ]
  },
  {
   "cell_type": "code",
   "execution_count": 10,
   "id": "76f0c762",
   "metadata": {
    "execution": {
     "iopub.execute_input": "2022-03-22T11:39:15.432189Z",
     "iopub.status.busy": "2022-03-22T11:39:15.431385Z",
     "iopub.status.idle": "2022-03-22T11:40:27.202080Z",
     "shell.execute_reply": "2022-03-22T11:40:27.190075Z",
     "shell.execute_reply.started": "2022-03-22T11:25:40.936334Z"
    },
    "papermill": {
     "duration": 71.810528,
     "end_time": "2022-03-22T11:40:27.202209",
     "exception": false,
     "start_time": "2022-03-22T11:39:15.391681",
     "status": "completed"
    },
    "tags": []
   },
   "outputs": [
    {
     "name": "stderr",
     "output_type": "stream",
     "text": [
      "recbox_data\n",
      "The number of users: 15459\n",
      "Average actions of users: 59.21956268598784\n",
      "The number of items: 7330\n",
      "Average actions of items: 124.9032610178742\n",
      "The number of inters: 915416\n",
      "The sparsity of the dataset: 99.19214553975321%\n",
      "Remain Fields: ['user_id', 'item_id', 'timestamp']\n"
     ]
    }
   ],
   "source": [
    "dataset = create_dataset(config)\n",
    "logger.info(dataset)"
   ]
  },
  {
   "cell_type": "code",
   "execution_count": 11,
   "id": "a8df9a5a",
   "metadata": {
    "execution": {
     "iopub.execute_input": "2022-03-22T11:40:27.291012Z",
     "iopub.status.busy": "2022-03-22T11:40:27.290484Z",
     "iopub.status.idle": "2022-03-22T11:40:43.114257Z",
     "shell.execute_reply": "2022-03-22T11:40:43.109099Z",
     "shell.execute_reply.started": "2022-03-22T11:25:40.938920Z"
    },
    "papermill": {
     "duration": 15.871529,
     "end_time": "2022-03-22T11:40:43.114592",
     "exception": false,
     "start_time": "2022-03-22T11:40:27.243063",
     "status": "completed"
    },
    "tags": []
   },
   "outputs": [
    {
     "name": "stderr",
     "output_type": "stream",
     "text": [
      "[Training]: train_batch_size = [2048] negative sampling: [None]\n",
      "[Evaluation]: eval_batch_size = [4096] eval_args: [{'split': {'RS': [9, 0, 1]}, 'group_by': 'user', 'order': 'TO', 'mode': 'full'}]\n"
     ]
    }
   ],
   "source": [
    "# dataset splitting\n",
    "train_data, valid_data, test_data = data_preparation(config, dataset)"
   ]
  },
  {
   "cell_type": "code",
   "execution_count": 12,
   "id": "4c5976cf",
   "metadata": {
    "execution": {
     "iopub.execute_input": "2022-03-22T11:40:43.212489Z",
     "iopub.status.busy": "2022-03-22T11:40:43.211897Z",
     "iopub.status.idle": "2022-03-22T11:40:43.221886Z",
     "shell.execute_reply": "2022-03-22T11:40:43.221438Z",
     "shell.execute_reply.started": "2022-03-22T11:25:40.941469Z"
    },
    "papermill": {
     "duration": 0.060626,
     "end_time": "2022-03-22T11:40:43.221998",
     "exception": false,
     "start_time": "2022-03-22T11:40:43.161372",
     "status": "completed"
    },
    "tags": []
   },
   "outputs": [
    {
     "data": {
      "text/plain": [
       "The batch_size of interaction: 5\n",
       "    user_id, torch.Size([5]), cpu, torch.int64\n",
       "    item_id, torch.Size([5]), cpu, torch.int64\n",
       "    timestamp, torch.Size([5]), cpu, torch.float32\n",
       "    item_length, torch.Size([5]), cpu, torch.int64\n",
       "    item_id_list, torch.Size([5, 50]), cpu, torch.int64\n",
       "    timestamp_list, torch.Size([5, 50]), cpu, torch.float32\n"
      ]
     },
     "execution_count": 12,
     "metadata": {},
     "output_type": "execute_result"
    }
   ],
   "source": [
    "input_features = test_data.dataset[np.isin(test_data.dataset[test_data.dataset.uid_field].numpy(), [2])]\n",
    "input_features"
   ]
  },
  {
   "cell_type": "markdown",
   "id": "4487ba95",
   "metadata": {
    "papermill": {
     "duration": 0.046857,
     "end_time": "2022-03-22T11:40:43.315413",
     "exception": false,
     "start_time": "2022-03-22T11:40:43.268556",
     "status": "completed"
    },
    "tags": []
   },
   "source": [
    "#  Custom code for using all items in recommendation"
   ]
  },
  {
   "cell_type": "code",
   "execution_count": 13,
   "id": "d0abf9eb",
   "metadata": {
    "execution": {
     "iopub.execute_input": "2022-03-22T11:40:43.417682Z",
     "iopub.status.busy": "2022-03-22T11:40:43.417095Z",
     "iopub.status.idle": "2022-03-22T11:41:14.226765Z",
     "shell.execute_reply": "2022-03-22T11:41:14.221272Z",
     "shell.execute_reply.started": "2022-03-22T11:25:40.944086Z"
    },
    "papermill": {
     "duration": 30.865075,
     "end_time": "2022-03-22T11:41:14.226888",
     "exception": false,
     "start_time": "2022-03-22T11:40:43.361813",
     "status": "completed"
    },
    "tags": []
   },
   "outputs": [
    {
     "name": "stderr",
     "output_type": "stream",
     "text": [
      "GRU4Rec(\n",
      "  (item_embedding): Embedding(7330, 64, padding_idx=0)\n",
      "  (emb_dropout): Dropout(p=0.3, inplace=False)\n",
      "  (gru_layers): GRU(64, 128, bias=False, batch_first=True)\n",
      "  (dense): Linear(in_features=128, out_features=64, bias=True)\n",
      "  (loss_fct): CrossEntropyLoss()\n",
      ")\n",
      "Trainable parameters: 551104\n",
      "epoch 0 training [time: 13.14s, train loss: 3384.6924]\n",
      "Saving current: saved/GRU4Rec-Mar-22-2022_11-40-50.pth\n",
      "epoch 1 training [time: 10.26s, train loss: 3260.1609]\n",
      "Saving current: saved/GRU4Rec-Mar-22-2022_11-40-50.pth\n"
     ]
    }
   ],
   "source": [
    "# model loading and initialization\n",
    "model = GRU4Rec(config, train_data.dataset).to(config['device'])\n",
    "logger.info(model)\n",
    "\n",
    "# trainer loading and initialization\n",
    "trainer = Trainer(config, model)\n",
    "\n",
    "# model training\n",
    "best_valid_score, best_valid_result = trainer.fit(train_data)"
   ]
  },
  {
   "cell_type": "code",
   "execution_count": 14,
   "id": "f9f977e6",
   "metadata": {
    "execution": {
     "iopub.execute_input": "2022-03-22T11:41:14.335928Z",
     "iopub.status.busy": "2022-03-22T11:41:14.335246Z",
     "iopub.status.idle": "2022-03-22T11:41:14.337953Z",
     "shell.execute_reply": "2022-03-22T11:41:14.338373Z",
     "shell.execute_reply.started": "2022-03-22T11:25:40.946600Z"
    },
    "papermill": {
     "duration": 0.060434,
     "end_time": "2022-03-22T11:41:14.338517",
     "exception": false,
     "start_time": "2022-03-22T11:41:14.278083",
     "status": "completed"
    },
    "tags": []
   },
   "outputs": [
    {
     "data": {
      "text/plain": [
       "GRU4Rec(\n",
       "  (item_embedding): Embedding(7330, 64, padding_idx=0)\n",
       "  (emb_dropout): Dropout(p=0.3, inplace=False)\n",
       "  (gru_layers): GRU(64, 128, bias=False, batch_first=True)\n",
       "  (dense): Linear(in_features=128, out_features=64, bias=True)\n",
       "  (loss_fct): CrossEntropyLoss()\n",
       ")"
      ]
     },
     "execution_count": 14,
     "metadata": {},
     "output_type": "execute_result"
    }
   ],
   "source": [
    "model.eval()"
   ]
  },
  {
   "cell_type": "code",
   "execution_count": 15,
   "id": "3de552c9",
   "metadata": {
    "execution": {
     "iopub.execute_input": "2022-03-22T11:41:14.447048Z",
     "iopub.status.busy": "2022-03-22T11:41:14.446531Z",
     "iopub.status.idle": "2022-03-22T11:41:14.464174Z",
     "shell.execute_reply": "2022-03-22T11:41:14.464624Z",
     "shell.execute_reply.started": "2022-03-22T11:25:40.949110Z"
    },
    "papermill": {
     "duration": 0.074265,
     "end_time": "2022-03-22T11:41:14.464779",
     "exception": false,
     "start_time": "2022-03-22T11:41:14.390514",
     "status": "completed"
    },
    "tags": []
   },
   "outputs": [
    {
     "data": {
      "text/plain": [
       "The batch_size of interaction: 50\n",
       "    user_id, torch.Size([50]), cpu, torch.int64\n",
       "    item_id, torch.Size([50]), cpu, torch.int64\n",
       "    timestamp, torch.Size([50]), cpu, torch.float32\n",
       "    item_length, torch.Size([50]), cpu, torch.int64\n",
       "    item_id_list, torch.Size([50, 50]), cpu, torch.int64\n",
       "    timestamp_list, torch.Size([50, 50]), cpu, torch.float32\n"
      ]
     },
     "execution_count": 15,
     "metadata": {},
     "output_type": "execute_result"
    }
   ],
   "source": [
    "index = np.isin(dataset[dataset.uid_field].numpy(), [2])\n",
    "input_interaction = dataset[index]\n",
    "input_interaction"
   ]
  },
  {
   "cell_type": "code",
   "execution_count": 16,
   "id": "5f55c54b",
   "metadata": {
    "execution": {
     "iopub.execute_input": "2022-03-22T11:41:14.579669Z",
     "iopub.status.busy": "2022-03-22T11:41:14.578839Z",
     "iopub.status.idle": "2022-03-22T11:41:14.585492Z",
     "shell.execute_reply": "2022-03-22T11:41:14.585905Z",
     "shell.execute_reply.started": "2022-03-22T11:25:40.951701Z"
    },
    "papermill": {
     "duration": 0.06731,
     "end_time": "2022-03-22T11:41:14.586037",
     "exception": false,
     "start_time": "2022-03-22T11:41:14.518727",
     "status": "completed"
    },
    "tags": []
   },
   "outputs": [
    {
     "data": {
      "text/plain": [
       "The batch_size of interaction: 1\n",
       "    item_id_list, torch.Size([1, 50]), cpu, torch.int64\n",
       "    item_length, torch.Size([1]), cpu, torch.int64\n"
      ]
     },
     "execution_count": 16,
     "metadata": {},
     "output_type": "execute_result"
    }
   ],
   "source": [
    "import torch\n",
    "from recbole.data.interaction import Interaction\n",
    "\n",
    "def add_last_item(old_interaction, last_item_id, max_len=50):\n",
    "    new_seq_items = old_interaction['item_id_list'][-1]\n",
    "    if old_interaction['item_length'][-1].item() < max_len:\n",
    "        new_seq_items[input_interaction['item_length'][-1].item()] = last_item_id\n",
    "    else:\n",
    "        new_seq_items = torch.roll(new_seq_items, -1)\n",
    "        new_seq_items[-1] = last_item_id\n",
    "    return new_seq_items.view(1, len(new_seq_items))\n",
    "\n",
    "test = {\n",
    "            'item_id_list': add_last_item(input_interaction, input_interaction['item_id'][-1].item(), model.max_seq_length),\n",
    "            'item_length': torch.tensor(\n",
    "                [input_interaction['item_length'][-1].item() + 1\n",
    "                 if input_interaction['item_length'][-1].item() < model.max_seq_length else model.max_seq_length])\n",
    "        }\n",
    "new_inter = Interaction(test)\n",
    "new_inter"
   ]
  },
  {
   "cell_type": "code",
   "execution_count": 17,
   "id": "43b5e687",
   "metadata": {
    "execution": {
     "iopub.execute_input": "2022-03-22T11:41:14.697730Z",
     "iopub.status.busy": "2022-03-22T11:41:14.696917Z",
     "iopub.status.idle": "2022-03-22T11:41:14.717112Z",
     "shell.execute_reply": "2022-03-22T11:41:14.716661Z",
     "shell.execute_reply.started": "2022-03-22T11:25:40.954364Z"
    },
    "papermill": {
     "duration": 0.078019,
     "end_time": "2022-03-22T11:41:14.717238",
     "exception": false,
     "start_time": "2022-03-22T11:41:14.639219",
     "status": "completed"
    },
    "tags": []
   },
   "outputs": [],
   "source": [
    "new_inter = new_inter.to(config['device'])\n",
    "new_scores = model.full_sort_predict(new_inter)\n",
    "new_scores = new_scores.view(-1, test_data.dataset.item_num)\n",
    "new_scores[:, 0] = -np.inf  # set scores of [pad] to -inf"
   ]
  },
  {
   "cell_type": "code",
   "execution_count": 18,
   "id": "7533c701",
   "metadata": {
    "execution": {
     "iopub.execute_input": "2022-03-22T11:41:14.835233Z",
     "iopub.status.busy": "2022-03-22T11:41:14.834171Z",
     "iopub.status.idle": "2022-03-22T11:41:14.836710Z",
     "shell.execute_reply": "2022-03-22T11:41:14.837134Z",
     "shell.execute_reply.started": "2022-03-22T11:25:40.956845Z"
    },
    "papermill": {
     "duration": 0.066456,
     "end_time": "2022-03-22T11:41:14.837287",
     "exception": false,
     "start_time": "2022-03-22T11:41:14.770831",
     "status": "completed"
    },
    "tags": []
   },
   "outputs": [],
   "source": [
    "import torch\n",
    "from recbole.data.interaction import Interaction\n",
    "\n",
    "def add_last_item(old_interaction, last_item_id, max_len=50):\n",
    "    new_seq_items = old_interaction['item_id_list'][-1]\n",
    "    if old_interaction['item_length'][-1].item() < max_len:\n",
    "        new_seq_items[old_interaction['item_length'][-1].item()] = last_item_id\n",
    "    else:\n",
    "        new_seq_items = torch.roll(new_seq_items, -1)\n",
    "        new_seq_items[-1] = last_item_id\n",
    "    return new_seq_items.view(1, len(new_seq_items))\n",
    "\n",
    "def predict_for_all_item(external_user_id, dataset, model):\n",
    "    model.eval()\n",
    "    with torch.no_grad():\n",
    "        uid_series = dataset.token2id(dataset.uid_field, [external_user_id])\n",
    "        index = np.isin(dataset[dataset.uid_field].numpy(), uid_series)\n",
    "        input_interaction = dataset[index]\n",
    "        test = {\n",
    "            'item_id_list': add_last_item(input_interaction, \n",
    "                                          input_interaction['item_id'][-1].item(), model.max_seq_length),\n",
    "            'item_length': torch.tensor(\n",
    "                [input_interaction['item_length'][-1].item() + 1\n",
    "                 if input_interaction['item_length'][-1].item() < model.max_seq_length else model.max_seq_length])\n",
    "        }\n",
    "        new_inter = Interaction(test)\n",
    "        new_inter = new_inter.to(config['device'])\n",
    "        new_scores = model.full_sort_predict(new_inter)\n",
    "        new_scores = new_scores.view(-1, test_data.dataset.item_num)\n",
    "        new_scores[:, 0] = -np.inf  # set scores of [pad] to -inf\n",
    "    return torch.topk(new_scores, 10)"
   ]
  },
  {
   "cell_type": "code",
   "execution_count": null,
   "id": "0a979f03",
   "metadata": {
    "papermill": {
     "duration": 0.052987,
     "end_time": "2022-03-22T11:41:14.943230",
     "exception": false,
     "start_time": "2022-03-22T11:41:14.890243",
     "status": "completed"
    },
    "tags": []
   },
   "outputs": [],
   "source": []
  },
  {
   "cell_type": "code",
   "execution_count": null,
   "id": "fb8f4d20",
   "metadata": {
    "papermill": {
     "duration": 0.053305,
     "end_time": "2022-03-22T11:41:15.049271",
     "exception": false,
     "start_time": "2022-03-22T11:41:14.995966",
     "status": "completed"
    },
    "tags": []
   },
   "outputs": [],
   "source": []
  }
 ],
 "metadata": {
  "kernelspec": {
   "display_name": "Python 3",
   "language": "python",
   "name": "python3"
  },
  "language_info": {
   "codemirror_mode": {
    "name": "ipython",
    "version": 3
   },
   "file_extension": ".py",
   "mimetype": "text/x-python",
   "name": "python",
   "nbconvert_exporter": "python",
   "pygments_lexer": "ipython3",
   "version": "3.7.12"
  },
  "papermill": {
   "default_parameters": {},
   "duration": 257.42711,
   "end_time": "2022-03-22T11:41:18.502922",
   "environment_variables": {},
   "exception": null,
   "input_path": "__notebook__.ipynb",
   "output_path": "__notebook__.ipynb",
   "parameters": {},
   "start_time": "2022-03-22T11:37:01.075812",
   "version": "2.3.3"
  }
 },
 "nbformat": 4,
 "nbformat_minor": 5
}
