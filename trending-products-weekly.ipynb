{
 "cells": [
  {
   "cell_type": "code",
   "execution_count": 1,
   "id": "7932f959",
   "metadata": {
    "execution": {
     "iopub.execute_input": "2022-03-24T06:22:27.003744Z",
     "iopub.status.busy": "2022-03-24T06:22:26.997984Z",
     "iopub.status.idle": "2022-03-24T06:22:35.453253Z",
     "shell.execute_reply": "2022-03-24T06:22:35.452639Z",
     "shell.execute_reply.started": "2022-03-24T06:08:30.117061Z"
    },
    "papermill": {
     "duration": 8.47579,
     "end_time": "2022-03-24T06:22:35.453398",
     "exception": false,
     "start_time": "2022-03-24T06:22:26.977608",
     "status": "completed"
    },
    "tags": []
   },
   "outputs": [
    {
     "name": "stdout",
     "output_type": "stream",
     "text": [
      "Requirement already satisfied: cudf in /opt/conda/lib/python3.7/site-packages (21.10.1)\r\n",
      "Requirement already satisfied: numba>=0.53.1 in /opt/conda/lib/python3.7/site-packages (from cudf) (0.54.1)\r\n",
      "Requirement already satisfied: Cython<0.30,>=0.29 in /opt/conda/lib/python3.7/site-packages (from cudf) (0.29.28)\r\n",
      "Requirement already satisfied: fastavro>=0.22.9 in /opt/conda/lib/python3.7/site-packages (from cudf) (1.4.10)\r\n",
      "Requirement already satisfied: fsspec>=0.6.0 in /opt/conda/lib/python3.7/site-packages (from cudf) (2022.2.0)\r\n",
      "Requirement already satisfied: numpy in /opt/conda/lib/python3.7/site-packages (from cudf) (1.20.3)\r\n",
      "Requirement already satisfied: pandas<1.4.0dev0,>=1.0 in /opt/conda/lib/python3.7/site-packages (from cudf) (1.3.5)\r\n",
      "Requirement already satisfied: typing_extensions in /opt/conda/lib/python3.7/site-packages (from cudf) (4.1.1)\r\n",
      "Requirement already satisfied: protobuf in /opt/conda/lib/python3.7/site-packages (from cudf) (3.19.4)\r\n",
      "Requirement already satisfied: nvtx>=0.2.1 in /opt/conda/lib/python3.7/site-packages (from cudf) (0.2.3)\r\n",
      "Requirement already satisfied: cachetools in /opt/conda/lib/python3.7/site-packages (from cudf) (4.2.4)\r\n",
      "Requirement already satisfied: packaging in /opt/conda/lib/python3.7/site-packages (from cudf) (21.3)\r\n",
      "Requirement already satisfied: cupy-cuda110 in /opt/conda/lib/python3.7/site-packages (from cudf) (10.2.0)\r\n",
      "Requirement already satisfied: setuptools in /opt/conda/lib/python3.7/site-packages (from numba>=0.53.1->cudf) (59.5.0)\r\n",
      "Requirement already satisfied: llvmlite<0.38,>=0.37.0rc1 in /opt/conda/lib/python3.7/site-packages (from numba>=0.53.1->cudf) (0.37.0)\r\n",
      "Requirement already satisfied: python-dateutil>=2.7.3 in /opt/conda/lib/python3.7/site-packages (from pandas<1.4.0dev0,>=1.0->cudf) (2.8.2)\r\n",
      "Requirement already satisfied: pytz>=2017.3 in /opt/conda/lib/python3.7/site-packages (from pandas<1.4.0dev0,>=1.0->cudf) (2021.3)\r\n",
      "Requirement already satisfied: fastrlock>=0.5 in /opt/conda/lib/python3.7/site-packages (from cupy-cuda110->cudf) (0.8)\r\n",
      "Requirement already satisfied: pyparsing!=3.0.5,>=2.0.2 in /opt/conda/lib/python3.7/site-packages (from packaging->cudf) (3.0.6)\r\n",
      "Requirement already satisfied: six>=1.5 in /opt/conda/lib/python3.7/site-packages (from python-dateutil>=2.7.3->pandas<1.4.0dev0,>=1.0->cudf) (1.16.0)\r\n",
      "\u001b[33mWARNING: Running pip as the 'root' user can result in broken permissions and conflicting behaviour with the system package manager. It is recommended to use a virtual environment instead: https://pip.pypa.io/warnings/venv\u001b[0m\r\n"
     ]
    }
   ],
   "source": [
    "!pip install cudf"
   ]
  },
  {
   "cell_type": "code",
   "execution_count": 2,
   "id": "c9d7a7b1",
   "metadata": {
    "_cell_guid": "b1076dfc-b9ad-4769-8c92-a6c4dae69d19",
    "_uuid": "8f2839f25d086af736a60e9eeb907d3b93b6e0e5",
    "execution": {
     "iopub.execute_input": "2022-03-24T06:22:35.529383Z",
     "iopub.status.busy": "2022-03-24T06:22:35.528584Z",
     "iopub.status.idle": "2022-03-24T06:22:39.242376Z",
     "shell.execute_reply": "2022-03-24T06:22:39.244018Z",
     "shell.execute_reply.started": "2022-03-24T06:08:38.919657Z"
    },
    "papermill": {
     "duration": 3.759859,
     "end_time": "2022-03-24T06:22:39.244253",
     "exception": false,
     "start_time": "2022-03-24T06:22:35.484394",
     "status": "completed"
    },
    "tags": []
   },
   "outputs": [],
   "source": [
    "import numpy as np\n",
    "import pandas as pd \n",
    "from datetime import datetime, timedelta\n",
    "import gc\n",
    "\n",
    "import cudf"
   ]
  },
  {
   "cell_type": "code",
   "execution_count": 3,
   "id": "21d81823",
   "metadata": {
    "execution": {
     "iopub.execute_input": "2022-03-24T06:22:39.326561Z",
     "iopub.status.busy": "2022-03-24T06:22:39.325502Z",
     "iopub.status.idle": "2022-03-24T06:22:39.328266Z",
     "shell.execute_reply": "2022-03-24T06:22:39.327401Z",
     "shell.execute_reply.started": "2022-03-24T06:08:54.538847Z"
    },
    "papermill": {
     "duration": 0.04998,
     "end_time": "2022-03-24T06:22:39.328450",
     "exception": false,
     "start_time": "2022-03-24T06:22:39.278470",
     "status": "completed"
    },
    "tags": []
   },
   "outputs": [],
   "source": [
    "N = 12"
   ]
  },
  {
   "cell_type": "code",
   "execution_count": 4,
   "id": "01236985",
   "metadata": {
    "execution": {
     "iopub.execute_input": "2022-03-24T06:22:39.402476Z",
     "iopub.status.busy": "2022-03-24T06:22:39.401685Z",
     "iopub.status.idle": "2022-03-24T06:23:19.794528Z",
     "shell.execute_reply": "2022-03-24T06:23:19.794014Z",
     "shell.execute_reply.started": "2022-03-24T06:09:08.180531Z"
    },
    "papermill": {
     "duration": 40.43342,
     "end_time": "2022-03-24T06:23:19.794675",
     "exception": false,
     "start_time": "2022-03-24T06:22:39.361255",
     "status": "completed"
    },
    "tags": []
   },
   "outputs": [],
   "source": [
    "df  = cudf.read_csv('../input/h-and-m-personalized-fashion-recommendations/transactions_train.csv',\n",
    "                            usecols= ['t_dat', 'customer_id', 'article_id'], \n",
    "                            dtype={'article_id': 'int32', 't_dat': 'string', 'customer_id': 'string'})\n",
    "df ['customer_id'] = df ['customer_id'].str[-16:].str.hex_to_int().astype('int64')\n",
    "\n",
    "df['t_dat'] = cudf.to_datetime(df['t_dat'])\n",
    "last_ts = df['t_dat'].max()"
   ]
  },
  {
   "cell_type": "code",
   "execution_count": 5,
   "id": "39d7ba71",
   "metadata": {
    "execution": {
     "iopub.execute_input": "2022-03-24T06:23:19.840632Z",
     "iopub.status.busy": "2022-03-24T06:23:19.839902Z",
     "iopub.status.idle": "2022-03-24T06:23:27.749117Z",
     "shell.execute_reply": "2022-03-24T06:23:27.749809Z",
     "shell.execute_reply.started": "2022-03-24T06:09:47.072465Z"
    },
    "papermill": {
     "duration": 7.936741,
     "end_time": "2022-03-24T06:23:27.750033",
     "exception": false,
     "start_time": "2022-03-24T06:23:19.813292",
     "status": "completed"
    },
    "tags": []
   },
   "outputs": [
    {
     "name": "stdout",
     "output_type": "stream",
     "text": [
      "CPU times: user 6.44 s, sys: 1.58 s, total: 8.02 s\n",
      "Wall time: 7.91 s\n"
     ]
    }
   ],
   "source": [
    "%%time\n",
    "tmp = df[['t_dat']].copy().to_pandas()\n",
    "tmp['dow'] = tmp['t_dat'].dt.dayofweek\n",
    "tmp['ldbw'] = tmp['t_dat'] - pd.TimedeltaIndex(tmp['dow'] - 1, unit='D')\n",
    "tmp.loc[tmp['dow'] >=2 , 'ldbw'] = tmp.loc[tmp['dow'] >=2 , 'ldbw'] + pd.TimedeltaIndex(np.ones(len(tmp.loc[tmp['dow'] >=2])) * 7, unit='D')\n",
    "\n",
    "df['ldbw'] = tmp['ldbw'].values"
   ]
  },
  {
   "cell_type": "code",
   "execution_count": 6,
   "id": "a3f0ffbb",
   "metadata": {
    "execution": {
     "iopub.execute_input": "2022-03-24T06:23:27.796074Z",
     "iopub.status.busy": "2022-03-24T06:23:27.794947Z",
     "iopub.status.idle": "2022-03-24T06:23:27.798395Z",
     "shell.execute_reply": "2022-03-24T06:23:27.798759Z",
     "shell.execute_reply.started": "2022-03-24T06:09:54.992673Z"
    },
    "papermill": {
     "duration": 0.029614,
     "end_time": "2022-03-24T06:23:27.798880",
     "exception": false,
     "start_time": "2022-03-24T06:23:27.769266",
     "status": "completed"
    },
    "tags": []
   },
   "outputs": [
    {
     "data": {
      "text/plain": [
       "0    3\n",
       "1    3\n",
       "2    3\n",
       "3    3\n",
       "4    3\n",
       "Name: dow, dtype: int64"
      ]
     },
     "execution_count": 6,
     "metadata": {},
     "output_type": "execute_result"
    }
   ],
   "source": [
    "tmp['dow'][:5]"
   ]
  },
  {
   "cell_type": "code",
   "execution_count": 7,
   "id": "83837088",
   "metadata": {
    "execution": {
     "iopub.execute_input": "2022-03-24T06:23:27.841174Z",
     "iopub.status.busy": "2022-03-24T06:23:27.840537Z",
     "iopub.status.idle": "2022-03-24T06:23:27.843086Z",
     "shell.execute_reply": "2022-03-24T06:23:27.843497Z",
     "shell.execute_reply.started": "2022-03-24T06:10:20.391511Z"
    },
    "papermill": {
     "duration": 0.026284,
     "end_time": "2022-03-24T06:23:27.843611",
     "exception": false,
     "start_time": "2022-03-24T06:23:27.817327",
     "status": "completed"
    },
    "tags": []
   },
   "outputs": [
    {
     "data": {
      "text/plain": [
       "0   2018-09-25\n",
       "1   2018-09-25\n",
       "2   2018-09-25\n",
       "3   2018-09-25\n",
       "4   2018-09-25\n",
       "Name: ldbw, dtype: datetime64[ns]"
      ]
     },
     "execution_count": 7,
     "metadata": {},
     "output_type": "execute_result"
    }
   ],
   "source": [
    "tmp['ldbw'][:5]"
   ]
  },
  {
   "cell_type": "code",
   "execution_count": 8,
   "id": "b80a199e",
   "metadata": {
    "execution": {
     "iopub.execute_input": "2022-03-24T06:23:27.893751Z",
     "iopub.status.busy": "2022-03-24T06:23:27.893015Z",
     "iopub.status.idle": "2022-03-24T06:23:29.334942Z",
     "shell.execute_reply": "2022-03-24T06:23:29.335391Z",
     "shell.execute_reply.started": "2022-03-24T06:11:03.681608Z"
    },
    "papermill": {
     "duration": 1.473416,
     "end_time": "2022-03-24T06:23:29.335554",
     "exception": false,
     "start_time": "2022-03-24T06:23:27.862138",
     "status": "completed"
    },
    "tags": []
   },
   "outputs": [
    {
     "data": {
      "text/plain": [
       "TimedeltaIndex(['7 days', '7 days', '7 days', '7 days', '7 days', '7 days',\n",
       "                '7 days', '7 days', '7 days', '7 days',\n",
       "                ...\n",
       "                '7 days', '7 days', '7 days', '7 days', '7 days', '7 days',\n",
       "                '7 days', '7 days', '7 days', '7 days'],\n",
       "               dtype='timedelta64[ns]', length=23535640, freq=None)"
      ]
     },
     "execution_count": 8,
     "metadata": {},
     "output_type": "execute_result"
    }
   ],
   "source": [
    "pd.TimedeltaIndex(np.ones(len(tmp.loc[tmp['dow'] >=2])) * 7, unit='D')"
   ]
  },
  {
   "cell_type": "code",
   "execution_count": 9,
   "id": "03bf1348",
   "metadata": {
    "execution": {
     "iopub.execute_input": "2022-03-24T06:23:29.381712Z",
     "iopub.status.busy": "2022-03-24T06:23:29.380933Z",
     "iopub.status.idle": "2022-03-24T06:23:29.488898Z",
     "shell.execute_reply": "2022-03-24T06:23:29.489340Z",
     "shell.execute_reply.started": "2022-03-24T06:18:00.014400Z"
    },
    "papermill": {
     "duration": 0.132902,
     "end_time": "2022-03-24T06:23:29.489465",
     "exception": false,
     "start_time": "2022-03-24T06:23:29.356563",
     "status": "completed"
    },
    "tags": []
   },
   "outputs": [
    {
     "data": {
      "text/html": [
       "<div>\n",
       "<style scoped>\n",
       "    .dataframe tbody tr th:only-of-type {\n",
       "        vertical-align: middle;\n",
       "    }\n",
       "\n",
       "    .dataframe tbody tr th {\n",
       "        vertical-align: top;\n",
       "    }\n",
       "\n",
       "    .dataframe thead th {\n",
       "        text-align: right;\n",
       "    }\n",
       "</style>\n",
       "<table border=\"1\" class=\"dataframe\">\n",
       "  <thead>\n",
       "    <tr style=\"text-align: right;\">\n",
       "      <th></th>\n",
       "      <th>ldbw</th>\n",
       "      <th>article_id</th>\n",
       "      <th>count</th>\n",
       "    </tr>\n",
       "  </thead>\n",
       "  <tbody>\n",
       "    <tr>\n",
       "      <th>0</th>\n",
       "      <td>2018-12-18</td>\n",
       "      <td>568652020</td>\n",
       "      <td>1</td>\n",
       "    </tr>\n",
       "    <tr>\n",
       "      <th>1</th>\n",
       "      <td>2019-05-14</td>\n",
       "      <td>560222012</td>\n",
       "      <td>5</td>\n",
       "    </tr>\n",
       "    <tr>\n",
       "      <th>2</th>\n",
       "      <td>2019-08-20</td>\n",
       "      <td>746260001</td>\n",
       "      <td>4</td>\n",
       "    </tr>\n",
       "    <tr>\n",
       "      <th>3</th>\n",
       "      <td>2020-04-28</td>\n",
       "      <td>831644001</td>\n",
       "      <td>28</td>\n",
       "    </tr>\n",
       "    <tr>\n",
       "      <th>4</th>\n",
       "      <td>2019-02-12</td>\n",
       "      <td>693614004</td>\n",
       "      <td>3</td>\n",
       "    </tr>\n",
       "  </tbody>\n",
       "</table>\n",
       "</div>"
      ],
      "text/plain": [
       "        ldbw  article_id  count\n",
       "0 2018-12-18   568652020      1\n",
       "1 2019-05-14   560222012      5\n",
       "2 2019-08-20   746260001      4\n",
       "3 2020-04-28   831644001     28\n",
       "4 2019-02-12   693614004      3"
      ]
     },
     "execution_count": 9,
     "metadata": {},
     "output_type": "execute_result"
    }
   ],
   "source": [
    "weekly_sales = df.drop('customer_id', axis=1).groupby(['ldbw', 'article_id']).count().reset_index()\n",
    "weekly_sales = weekly_sales.rename(columns={'t_dat': 'count'})\n",
    "weekly_sales.head()"
   ]
  },
  {
   "cell_type": "code",
   "execution_count": 10,
   "id": "18af8eb5",
   "metadata": {
    "execution": {
     "iopub.execute_input": "2022-03-24T06:23:29.581355Z",
     "iopub.status.busy": "2022-03-24T06:23:29.580782Z",
     "iopub.status.idle": "2022-03-24T06:23:29.671323Z",
     "shell.execute_reply": "2022-03-24T06:23:29.671730Z",
     "shell.execute_reply.started": "2022-03-24T06:18:33.785117Z"
    },
    "papermill": {
     "duration": 0.162884,
     "end_time": "2022-03-24T06:23:29.671852",
     "exception": false,
     "start_time": "2022-03-24T06:23:29.508968",
     "status": "completed"
    },
    "tags": []
   },
   "outputs": [
    {
     "data": {
      "text/html": [
       "<div>\n",
       "<style scoped>\n",
       "    .dataframe tbody tr th:only-of-type {\n",
       "        vertical-align: middle;\n",
       "    }\n",
       "\n",
       "    .dataframe tbody tr th {\n",
       "        vertical-align: top;\n",
       "    }\n",
       "\n",
       "    .dataframe thead th {\n",
       "        text-align: right;\n",
       "    }\n",
       "</style>\n",
       "<table border=\"1\" class=\"dataframe\">\n",
       "  <thead>\n",
       "    <tr style=\"text-align: right;\">\n",
       "      <th></th>\n",
       "      <th>t_dat</th>\n",
       "      <th>customer_id</th>\n",
       "      <th>article_id</th>\n",
       "      <th>ldbw</th>\n",
       "      <th>count</th>\n",
       "    </tr>\n",
       "  </thead>\n",
       "  <tbody>\n",
       "    <tr>\n",
       "      <th>0</th>\n",
       "      <td>2018-09-20</td>\n",
       "      <td>-2324921015060372460</td>\n",
       "      <td>664319005</td>\n",
       "      <td>2018-09-25</td>\n",
       "      <td>27</td>\n",
       "    </tr>\n",
       "    <tr>\n",
       "      <th>1</th>\n",
       "      <td>2018-09-20</td>\n",
       "      <td>-2793344822301059978</td>\n",
       "      <td>562252010</td>\n",
       "      <td>2018-09-25</td>\n",
       "      <td>117</td>\n",
       "    </tr>\n",
       "    <tr>\n",
       "      <th>2</th>\n",
       "      <td>2018-09-20</td>\n",
       "      <td>9018061579597113584</td>\n",
       "      <td>670233004</td>\n",
       "      <td>2018-09-25</td>\n",
       "      <td>9</td>\n",
       "    </tr>\n",
       "    <tr>\n",
       "      <th>3</th>\n",
       "      <td>2018-09-20</td>\n",
       "      <td>5375564477674474076</td>\n",
       "      <td>464297007</td>\n",
       "      <td>2018-09-25</td>\n",
       "      <td>59</td>\n",
       "    </tr>\n",
       "    <tr>\n",
       "      <th>4</th>\n",
       "      <td>2018-09-20</td>\n",
       "      <td>-2324921015060372460</td>\n",
       "      <td>626316003</td>\n",
       "      <td>2018-09-25</td>\n",
       "      <td>5</td>\n",
       "    </tr>\n",
       "  </tbody>\n",
       "</table>\n",
       "</div>"
      ],
      "text/plain": [
       "       t_dat          customer_id  article_id       ldbw  count\n",
       "0 2018-09-20 -2324921015060372460   664319005 2018-09-25     27\n",
       "1 2018-09-20 -2793344822301059978   562252010 2018-09-25    117\n",
       "2 2018-09-20  9018061579597113584   670233004 2018-09-25      9\n",
       "3 2018-09-20  5375564477674474076   464297007 2018-09-25     59\n",
       "4 2018-09-20 -2324921015060372460   626316003 2018-09-25      5"
      ]
     },
     "execution_count": 10,
     "metadata": {},
     "output_type": "execute_result"
    }
   ],
   "source": [
    "df = df.merge(weekly_sales, on=['ldbw', 'article_id'], how = 'left')\n",
    "df.head()"
   ]
  },
  {
   "cell_type": "code",
   "execution_count": 11,
   "id": "175c90e5",
   "metadata": {
    "execution": {
     "iopub.execute_input": "2022-03-24T06:23:29.716851Z",
     "iopub.status.busy": "2022-03-24T06:23:29.716091Z",
     "iopub.status.idle": "2022-03-24T06:23:29.781353Z",
     "shell.execute_reply": "2022-03-24T06:23:29.781753Z",
     "shell.execute_reply.started": "2022-03-24T06:19:05.037335Z"
    },
    "papermill": {
     "duration": 0.089937,
     "end_time": "2022-03-24T06:23:29.781869",
     "exception": false,
     "start_time": "2022-03-24T06:23:29.691932",
     "status": "completed"
    },
    "tags": []
   },
   "outputs": [
    {
     "data": {
      "text/html": [
       "<div>\n",
       "<style scoped>\n",
       "    .dataframe tbody tr th:only-of-type {\n",
       "        vertical-align: middle;\n",
       "    }\n",
       "\n",
       "    .dataframe tbody tr th {\n",
       "        vertical-align: top;\n",
       "    }\n",
       "\n",
       "    .dataframe thead th {\n",
       "        text-align: right;\n",
       "    }\n",
       "</style>\n",
       "<table border=\"1\" class=\"dataframe\">\n",
       "  <thead>\n",
       "    <tr style=\"text-align: right;\">\n",
       "      <th></th>\n",
       "      <th>t_dat</th>\n",
       "      <th>customer_id</th>\n",
       "      <th>article_id</th>\n",
       "      <th>ldbw</th>\n",
       "      <th>count</th>\n",
       "      <th>count_targ</th>\n",
       "    </tr>\n",
       "  </thead>\n",
       "  <tbody>\n",
       "    <tr>\n",
       "      <th>0</th>\n",
       "      <td>2018-09-20</td>\n",
       "      <td>2946259474250443951</td>\n",
       "      <td>537119003</td>\n",
       "      <td>2018-09-25</td>\n",
       "      <td>43</td>\n",
       "      <td>3</td>\n",
       "    </tr>\n",
       "    <tr>\n",
       "      <th>1</th>\n",
       "      <td>2018-09-20</td>\n",
       "      <td>-6688571413816940867</td>\n",
       "      <td>599502001</td>\n",
       "      <td>2018-09-25</td>\n",
       "      <td>197</td>\n",
       "      <td>3</td>\n",
       "    </tr>\n",
       "    <tr>\n",
       "      <th>2</th>\n",
       "      <td>2018-09-20</td>\n",
       "      <td>719197904754536089</td>\n",
       "      <td>493810014</td>\n",
       "      <td>2018-09-25</td>\n",
       "      <td>15</td>\n",
       "      <td>1</td>\n",
       "    </tr>\n",
       "    <tr>\n",
       "      <th>3</th>\n",
       "      <td>2018-09-20</td>\n",
       "      <td>-1648628336416815094</td>\n",
       "      <td>554598003</td>\n",
       "      <td>2018-09-25</td>\n",
       "      <td>56</td>\n",
       "      <td>46</td>\n",
       "    </tr>\n",
       "    <tr>\n",
       "      <th>4</th>\n",
       "      <td>2018-09-20</td>\n",
       "      <td>716806085948807908</td>\n",
       "      <td>688873001</td>\n",
       "      <td>2018-09-25</td>\n",
       "      <td>265</td>\n",
       "      <td>1</td>\n",
       "    </tr>\n",
       "  </tbody>\n",
       "</table>\n",
       "</div>"
      ],
      "text/plain": [
       "       t_dat          customer_id  article_id       ldbw  count  count_targ\n",
       "0 2018-09-20  2946259474250443951   537119003 2018-09-25     43           3\n",
       "1 2018-09-20 -6688571413816940867   599502001 2018-09-25    197           3\n",
       "2 2018-09-20   719197904754536089   493810014 2018-09-25     15           1\n",
       "3 2018-09-20 -1648628336416815094   554598003 2018-09-25     56          46\n",
       "4 2018-09-20   716806085948807908   688873001 2018-09-25    265           1"
      ]
     },
     "execution_count": 11,
     "metadata": {},
     "output_type": "execute_result"
    }
   ],
   "source": [
    "weekly_sales = weekly_sales.reset_index().set_index('article_id')\n",
    "\n",
    "df = df.merge(\n",
    "    weekly_sales.loc[weekly_sales['ldbw']==last_ts, ['count']],\n",
    "    on='article_id', suffixes=(\"\", \"_targ\"))\n",
    "\n",
    "df['count_targ'].fillna(0, inplace=True)\n",
    "df.head()"
   ]
  },
  {
   "cell_type": "code",
   "execution_count": 12,
   "id": "22026b01",
   "metadata": {
    "execution": {
     "iopub.execute_input": "2022-03-24T06:23:29.828144Z",
     "iopub.status.busy": "2022-03-24T06:23:29.827348Z",
     "iopub.status.idle": "2022-03-24T06:23:29.832885Z",
     "shell.execute_reply": "2022-03-24T06:23:29.833366Z",
     "shell.execute_reply.started": "2022-03-24T06:19:10.971601Z"
    },
    "papermill": {
     "duration": 0.029338,
     "end_time": "2022-03-24T06:23:29.833481",
     "exception": false,
     "start_time": "2022-03-24T06:23:29.804143",
     "status": "completed"
    },
    "tags": []
   },
   "outputs": [],
   "source": [
    "del weekly_sales"
   ]
  },
  {
   "cell_type": "code",
   "execution_count": 13,
   "id": "76c33880",
   "metadata": {
    "execution": {
     "iopub.execute_input": "2022-03-24T06:23:29.878353Z",
     "iopub.status.busy": "2022-03-24T06:23:29.877822Z",
     "iopub.status.idle": "2022-03-24T06:23:29.885022Z",
     "shell.execute_reply": "2022-03-24T06:23:29.884572Z",
     "shell.execute_reply.started": "2022-03-24T06:19:31.455401Z"
    },
    "papermill": {
     "duration": 0.030581,
     "end_time": "2022-03-24T06:23:29.885126",
     "exception": false,
     "start_time": "2022-03-24T06:23:29.854545",
     "status": "completed"
    },
    "tags": []
   },
   "outputs": [],
   "source": [
    "df['quotient'] = df['count_targ'] / df['count']"
   ]
  },
  {
   "cell_type": "code",
   "execution_count": 14,
   "id": "53e878e9",
   "metadata": {
    "execution": {
     "iopub.execute_input": "2022-03-24T06:23:29.928752Z",
     "iopub.status.busy": "2022-03-24T06:23:29.927942Z",
     "iopub.status.idle": "2022-03-24T06:23:29.980606Z",
     "shell.execute_reply": "2022-03-24T06:23:29.980207Z",
     "shell.execute_reply.started": "2022-03-24T06:19:47.980032Z"
    },
    "papermill": {
     "duration": 0.075104,
     "end_time": "2022-03-24T06:23:29.980708",
     "exception": false,
     "start_time": "2022-03-24T06:23:29.905604",
     "status": "completed"
    },
    "tags": []
   },
   "outputs": [],
   "source": [
    "target_sales = df.drop('customer_id', axis=1).groupby('article_id')['quotient'].sum()\n",
    "general_pred = target_sales.nlargest(N).index.to_pandas().tolist()\n",
    "general_pred = ['0' + str(article_id) for article_id in general_pred]\n",
    "general_pred_str =  ' '.join(general_pred)\n",
    "del target_sales"
   ]
  },
  {
   "cell_type": "code",
   "execution_count": 15,
   "id": "bb78bc15",
   "metadata": {
    "execution": {
     "iopub.execute_input": "2022-03-24T06:23:30.026283Z",
     "iopub.status.busy": "2022-03-24T06:23:30.025647Z",
     "iopub.status.idle": "2022-03-24T06:23:30.028200Z",
     "shell.execute_reply": "2022-03-24T06:23:30.028592Z",
     "shell.execute_reply.started": "2022-03-24T06:19:49.562686Z"
    },
    "papermill": {
     "duration": 0.027186,
     "end_time": "2022-03-24T06:23:30.028701",
     "exception": false,
     "start_time": "2022-03-24T06:23:30.001515",
     "status": "completed"
    },
    "tags": []
   },
   "outputs": [
    {
     "data": {
      "text/plain": [
       "['0448509014',\n",
       " '0573085028',\n",
       " '0751471001',\n",
       " '0706016001',\n",
       " '0673677002',\n",
       " '0715624001',\n",
       " '0706016003',\n",
       " '0158340001',\n",
       " '0579541001',\n",
       " '0372860001',\n",
       " '0372860002',\n",
       " '0706016002']"
      ]
     },
     "execution_count": 15,
     "metadata": {},
     "output_type": "execute_result"
    }
   ],
   "source": [
    "general_pred "
   ]
  },
  {
   "cell_type": "code",
   "execution_count": 16,
   "id": "87daebee",
   "metadata": {
    "execution": {
     "iopub.execute_input": "2022-03-24T06:23:30.074046Z",
     "iopub.status.busy": "2022-03-24T06:23:30.073408Z",
     "iopub.status.idle": "2022-03-24T06:23:30.075911Z",
     "shell.execute_reply": "2022-03-24T06:23:30.076339Z",
     "shell.execute_reply.started": "2022-03-24T06:19:58.080705Z"
    },
    "papermill": {
     "duration": 0.027214,
     "end_time": "2022-03-24T06:23:30.076460",
     "exception": false,
     "start_time": "2022-03-24T06:23:30.049246",
     "status": "completed"
    },
    "tags": []
   },
   "outputs": [
    {
     "data": {
      "text/plain": [
       "'0448509014 0573085028 0751471001 0706016001 0673677002 0715624001 0706016003 0158340001 0579541001 0372860001 0372860002 0706016002'"
      ]
     },
     "execution_count": 16,
     "metadata": {},
     "output_type": "execute_result"
    }
   ],
   "source": [
    "general_pred_str"
   ]
  },
  {
   "cell_type": "code",
   "execution_count": 17,
   "id": "3964e309",
   "metadata": {
    "execution": {
     "iopub.execute_input": "2022-03-24T06:23:30.126227Z",
     "iopub.status.busy": "2022-03-24T06:23:30.125470Z",
     "iopub.status.idle": "2022-03-24T06:23:51.432050Z",
     "shell.execute_reply": "2022-03-24T06:23:51.431607Z",
     "shell.execute_reply.started": "2022-03-24T06:21:04.758658Z"
    },
    "papermill": {
     "duration": 21.334678,
     "end_time": "2022-03-24T06:23:51.432180",
     "exception": false,
     "start_time": "2022-03-24T06:23:30.097502",
     "status": "completed"
    },
    "tags": []
   },
   "outputs": [
    {
     "name": "stdout",
     "output_type": "stream",
     "text": [
      "CPU times: user 17.9 s, sys: 3.5 s, total: 21.4 s\n",
      "Wall time: 21.3 s\n"
     ]
    }
   ],
   "source": [
    "%%time\n",
    "purchase_dict = {}\n",
    "\n",
    "tmp = df.copy().to_pandas()\n",
    "tmp['x'] = ((last_ts - tmp['t_dat']) / np.timedelta64(1, 'D')).astype(int)\n",
    "tmp['dummy_1'] = 1 \n",
    "tmp['x'] = tmp[[\"x\", \"dummy_1\"]].max(axis=1)\n",
    "\n",
    "a, b, c, d = 2.5e4, 1.5e5, 2e-1, 1e3\n",
    "tmp['y'] = a / np.sqrt(tmp['x']) + b * np.exp(-c*tmp['x']) - d\n",
    "\n",
    "tmp['dummy_0'] = 0 \n",
    "tmp['y'] = tmp[[\"y\", \"dummy_0\"]].max(axis=1)\n",
    "tmp['value'] = tmp['quotient'] * tmp['y'] \n",
    "\n",
    "tmp = tmp.groupby(['customer_id', 'article_id']).agg({'value': 'sum'})\n",
    "tmp = tmp.reset_index()\n",
    "\n",
    "tmp = tmp.loc[tmp['value'] > 100]\n",
    "tmp['rank'] = tmp.groupby(\"customer_id\")[\"value\"].rank(\"dense\", ascending=False)\n",
    "tmp = tmp.loc[tmp['rank'] <= 12]\n",
    "\n",
    "# for customer_id in tmp['customer_id'].unique():\n",
    "#     purchase_dict[customer_id] = {} \n",
    "\n",
    "# for customer_id, article_id, value in zip(tmp['customer_id'], tmp['article_id'], tmp['value']):\n",
    "#     purchase_dict[customer_id][article_id] = value\n",
    "\n",
    "purchase_df = tmp.sort_values(['customer_id', 'value'], ascending = False).reset_index(drop = True)\n",
    "purchase_df['prediction'] = '0' + purchase_df['article_id'].astype(str) + ' '\n",
    "purchase_df = purchase_df.groupby('customer_id').agg({'prediction': sum}).reset_index()\n",
    "purchase_df['prediction'] = purchase_df['prediction'].str.strip()\n",
    "purchase_df = cudf.DataFrame(purchase_df)"
   ]
  },
  {
   "cell_type": "code",
   "execution_count": 18,
   "id": "e9efcc6d",
   "metadata": {
    "execution": {
     "iopub.execute_input": "2022-03-24T06:23:51.481825Z",
     "iopub.status.busy": "2022-03-24T06:23:51.481191Z",
     "iopub.status.idle": "2022-03-24T06:24:09.205693Z",
     "shell.execute_reply": "2022-03-24T06:24:09.206305Z",
     "shell.execute_reply.started": "2022-03-24T06:21:26.240295Z"
    },
    "papermill": {
     "duration": 17.752472,
     "end_time": "2022-03-24T06:24:09.206505",
     "exception": false,
     "start_time": "2022-03-24T06:23:51.454033",
     "status": "completed"
    },
    "tags": []
   },
   "outputs": [
    {
     "name": "stdout",
     "output_type": "stream",
     "text": [
      "CPU times: user 14.1 s, sys: 967 ms, total: 15 s\n",
      "Wall time: 17.7 s\n"
     ]
    }
   ],
   "source": [
    "%%time\n",
    "sub  = cudf.read_csv('../input/h-and-m-personalized-fashion-recommendations/sample_submission.csv',\n",
    "                            usecols= ['customer_id'], \n",
    "                            dtype={'customer_id': 'string'})\n",
    "\n",
    "sub['customer_id2'] = sub['customer_id'].str[-16:].str.hex_to_int().astype('int64')\n",
    "\n",
    "sub = sub.merge(purchase_df, left_on = 'customer_id2', right_on = 'customer_id', how = 'left',\n",
    "               suffixes = ('', '_ignored'))\n",
    "\n",
    "sub = sub.to_pandas()\n",
    "sub['prediction'] = sub['prediction'].fillna(general_pred_str)\n",
    "sub['prediction'] = sub['prediction'] + ' ' +  general_pred_str\n",
    "sub['prediction'] = sub['prediction'].str.strip()\n",
    "sub['prediction'] = sub['prediction'].str[:131]\n",
    "sub = sub[['customer_id', 'prediction']]\n",
    "sub.to_csv(f'submission_weekly.csv',index=False)"
   ]
  },
  {
   "cell_type": "code",
   "execution_count": null,
   "id": "e5f85d50",
   "metadata": {
    "papermill": {
     "duration": 0.021614,
     "end_time": "2022-03-24T06:24:09.251612",
     "exception": false,
     "start_time": "2022-03-24T06:24:09.229998",
     "status": "completed"
    },
    "tags": []
   },
   "outputs": [],
   "source": []
  }
 ],
 "metadata": {
  "kernelspec": {
   "display_name": "Python 3",
   "language": "python",
   "name": "python3"
  },
  "language_info": {
   "codemirror_mode": {
    "name": "ipython",
    "version": 3
   },
   "file_extension": ".py",
   "mimetype": "text/x-python",
   "name": "python",
   "nbconvert_exporter": "python",
   "pygments_lexer": "ipython3",
   "version": "3.7.12"
  },
  "papermill": {
   "default_parameters": {},
   "duration": 111.840436,
   "end_time": "2022-03-24T06:24:10.584775",
   "environment_variables": {},
   "exception": null,
   "input_path": "__notebook__.ipynb",
   "output_path": "__notebook__.ipynb",
   "parameters": {},
   "start_time": "2022-03-24T06:22:18.744339",
   "version": "2.3.3"
  }
 },
 "nbformat": 4,
 "nbformat_minor": 5
}
